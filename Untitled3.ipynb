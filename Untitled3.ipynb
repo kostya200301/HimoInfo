{
  "nbformat": 4,
  "nbformat_minor": 0,
  "metadata": {
    "colab": {
      "provenance": [],
      "authorship_tag": "ABX9TyOG4T8gaEB2ypuYDhmgHMvK",
      "include_colab_link": true
    },
    "kernelspec": {
      "name": "python3",
      "display_name": "Python 3"
    },
    "language_info": {
      "name": "python"
    }
  },
  "cells": [
    {
      "cell_type": "markdown",
      "metadata": {
        "id": "view-in-github",
        "colab_type": "text"
      },
      "source": [
        "<a href=\"https://colab.research.google.com/github/kostya200301/HimoInfo/blob/main/Untitled3.ipynb\" target=\"_parent\"><img src=\"https://colab.research.google.com/assets/colab-badge.svg\" alt=\"Open In Colab\"/></a>"
      ]
    },
    {
      "cell_type": "code",
      "execution_count": 1,
      "metadata": {
        "id": "AVxmh-Wx7Gwq"
      },
      "outputs": [],
      "source": [
        "import numpy as np\n",
        "from scipy import stats\n",
        "import matplotlib.pyplot as plt\n",
        "from scipy.stats import uniform\n",
        "from scipy.stats import chi2\n",
        "from statsmodels.stats.weightstats import ztest\n",
        "import statsmodels.api as sm\n",
        "from scipy.stats import chisquare\n",
        "from scipy.stats import f_oneway\n",
        "from scipy.stats import levene\n",
        "from scipy.stats import gaussian_kde\n",
        "from scipy.stats import norm, chi2\n",
        "from scipy.stats import chi2_contingency\n",
        "from scipy.stats import kstest, norm\n",
        "\n",
        "\n",
        "\n",
        "np.random.seed(123)"
      ]
    },
    {
      "cell_type": "code",
      "source": [
        "n1 = 100\n",
        "n2 = 50\n",
        "n3 = 100"
      ],
      "metadata": {
        "id": "D8hLASY67LLo"
      },
      "execution_count": 8,
      "outputs": []
    },
    {
      "cell_type": "code",
      "source": [
        "\n",
        "sample1 = chi2.rvs(10, size=n1) #X^2(n)\n",
        "sample2 = np.random.uniform(5, 15, n2) #R(a, b)\n",
        "sample3 = np.random.normal(10, 2, n3) #N(m, s^2)\n"
      ],
      "metadata": {
        "id": "g84MNGsu7PCe"
      },
      "execution_count": 48,
      "outputs": []
    },
    {
      "cell_type": "code",
      "source": [
        "mean_value = np.mean(sample1)\n",
        "print(\"Выборочное среднее:\", mean_value)\n",
        "\n",
        "variance_value = np.var(sample1, ddof=10)\n",
        "print(\"Выборочная дисперсия:\", variance_value)\n",
        "\n",
        "standard_deviation = np.std(sample1, ddof=10)\n",
        "print(\"Оценка стандартного отклонения:\", standard_deviation)"
      ],
      "metadata": {
        "colab": {
          "base_uri": "https://localhost:8080/"
        },
        "id": "Xt0u2soO8LW1",
        "outputId": "02cae0ad-b49e-4cd9-ac63-7fa91ad60de6"
      },
      "execution_count": 49,
      "outputs": [
        {
          "output_type": "stream",
          "name": "stdout",
          "text": [
            "Выборочное среднее: 11.092762862437892\n",
            "Выборочная дисперсия: 20.412954871382826\n",
            "Оценка стандартного отклонения: 4.5180698170106695\n"
          ]
        }
      ]
    },
    {
      "cell_type": "code",
      "source": [
        "mean_value = np.mean(sample2)\n",
        "print(\"Выборочное среднее:\", mean_value)\n",
        "\n",
        "variance_value = np.var(sample2)\n",
        "print(\"Выборочная дисперсия:\", variance_value)\n",
        "\n",
        "standard_deviation = np.std(sample2)\n",
        "print(\"Оценка стандартного отклонения:\", standard_deviation)"
      ],
      "metadata": {
        "colab": {
          "base_uri": "https://localhost:8080/"
        },
        "id": "Jfcwz9Y18MH_",
        "outputId": "1e0b4b1b-af33-42ec-f1fb-be075e3b526b"
      },
      "execution_count": 50,
      "outputs": [
        {
          "output_type": "stream",
          "name": "stdout",
          "text": [
            "Выборочное среднее: 8.989743602905172\n",
            "Выборочная дисперсия: 6.720867593074022\n",
            "Оценка стандартного отклонения: 2.5924636146094744\n"
          ]
        }
      ]
    },
    {
      "cell_type": "code",
      "source": [
        "mean_value = np.mean(sample3)\n",
        "print(\"Выборочное среднее:\", mean_value)\n",
        "\n",
        "variance_value = np.var(sample3)\n",
        "print(\"Выборочная дисперсия:\", variance_value)\n",
        "\n",
        "standard_deviation = np.std(sample3)\n",
        "print(\"Оценка стандартного отклонения:\", standard_deviation)"
      ],
      "metadata": {
        "colab": {
          "base_uri": "https://localhost:8080/"
        },
        "id": "Cwl6iwyV8MN5",
        "outputId": "79d91411-ee2e-47f2-81e1-de64d50fa5e7"
      },
      "execution_count": 53,
      "outputs": [
        {
          "output_type": "stream",
          "name": "stdout",
          "text": [
            "Выборочное среднее: 9.981802459300901\n",
            "Выборочная дисперсия: 4.435789380885779\n",
            "Оценка стандартного отклонения: 2.10613137787883\n"
          ]
        }
      ]
    },
    {
      "cell_type": "code",
      "source": [
        "poolSample = np.concatenate((sample1, sample2, sample3))\n",
        "\n",
        "mean_value = np.mean(poolSample)\n",
        "print(\"Выборочное среднее:\", mean_value)\n",
        "\n",
        "variance_value = np.var(poolSample)\n",
        "print(\"Выборочная дисперсия:\", variance_value)\n",
        "\n",
        "standard_deviation = np.std(poolSample)\n",
        "print(\"Оценка стандартного отклонения:\", standard_deviation)"
      ],
      "metadata": {
        "colab": {
          "base_uri": "https://localhost:8080/"
        },
        "id": "r8sCxtOb9TUZ",
        "outputId": "a40f18ab-c5ec-4933-d54c-b3315e327b7f"
      },
      "execution_count": 56,
      "outputs": [
        {
          "output_type": "stream",
          "name": "stdout",
          "text": [
            "Выборочное среднее: 10.227774849276551\n",
            "Выборочная дисперсия: 11.097179969882562\n",
            "Оценка стандартного отклонения: 3.331243006729254\n"
          ]
        }
      ]
    },
    {
      "cell_type": "code",
      "source": [
        "plt.boxplot(sample1)\n",
        "\n",
        "plt.title('Box-and-Whisker plot для X1 [X^2(n)]')\n",
        "plt.ylabel('Значение')\n",
        "\n",
        "plt.show()"
      ],
      "metadata": {
        "colab": {
          "base_uri": "https://localhost:8080/",
          "height": 452
        },
        "id": "BJs449jO980r",
        "outputId": "cf677aa8-f5f2-4ed2-fbbc-40699617d012"
      },
      "execution_count": 60,
      "outputs": [
        {
          "output_type": "display_data",
          "data": {
            "text/plain": [
              "<Figure size 640x480 with 1 Axes>"
            ],
            "image/png": "[encoded data removed]"
          },
          "metadata": {}
        }
      ]
    },
    {
      "cell_type": "code",
      "source": [
        "plt.boxplot(sample2)\n",
        "\n",
        "plt.title('Box-and-Whisker plot для X2 [R(a, b)]')\n",
        "plt.ylabel('Значение')\n",
        "\n",
        "plt.show()"
      ],
      "metadata": {
        "colab": {
          "base_uri": "https://localhost:8080/",
          "height": 452
        },
        "id": "SYWyenJq-JEW",
        "outputId": "6ee2b25d-9d2b-43ff-ce84-ec718cad39e3"
      },
      "execution_count": 62,
      "outputs": [
        {
          "output_type": "display_data",
          "data": {
            "text/plain": [
              "<Figure size 640x480 with 1 Axes>"
            ],
            "image/png": "[encoded data removed]"
          },
          "metadata": {}
        }
      ]
    },
    {
      "cell_type": "code",
      "source": [
        "plt.boxplot(sample3)\n",
        "\n",
        "plt.title('Box-and-Whisker plot для X3 [N(m, s^2)]')\n",
        "plt.ylabel('Значение')\n",
        "\n",
        "plt.show()"
      ],
      "metadata": {
        "colab": {
          "base_uri": "https://localhost:8080/",
          "height": 452
        },
        "id": "zxYawWmG-JSM",
        "outputId": "fdef667e-733b-4671-b9f3-d33672cfe0e8"
      },
      "execution_count": 63,
      "outputs": [
        {
          "output_type": "display_data",
          "data": {
            "text/plain": [
              "<Figure size 640x480 with 1 Axes>"
            ],
            "image/png": "[encoded data removed]"
          },
          "metadata": {}
        }
      ]
    },
    {
      "cell_type": "code",
      "source": [
        "plt.boxplot(poolSample)\n",
        "\n",
        "plt.title('Box-and-Whisker plot для pooled(X1, X2, X3)')\n",
        "plt.ylabel('Значение')\n",
        "\n",
        "plt.show()"
      ],
      "metadata": {
        "colab": {
          "base_uri": "https://localhost:8080/",
          "height": 452
        },
        "id": "r-_LoNX6-Ja2",
        "outputId": "26daa1f5-5160-4428-8851-f239f6759821"
      },
      "execution_count": 65,
      "outputs": [
        {
          "output_type": "display_data",
          "data": {
            "text/plain": [
              "<Figure size 640x480 with 1 Axes>"
            ],
            "image/png": "[encoded data removed]"
          },
          "metadata": {}
        }
      ]
    },
    {
      "cell_type": "code",
      "source": [
        "# Критерий Бартлетта: s1^2 == s2^2 == s3^2\n",
        "from scipy.stats import bartlett\n",
        "\n",
        "\n",
        "# Выполняем Критерий Бартлетта\n",
        "statistic, p_value = bartlett(sample1, sample2, sample3)\n",
        "\n",
        "print(\"Статистика теста Бартлетта:\", statistic)\n",
        "print(\"P-value:\", p_value)\n",
        "\n",
        "alpha = 0.05\n",
        "if p_value < alpha:\n",
        "    print(\"\\nОтклоняем нулевую гипотезу: Дисперсии в группах различны.\")\n",
        "else:\n",
        "    print(\"\\nНе отклоняем нулевую гипотезу: Дисперсии в группах одинаковы.\")\n"
      ],
      "metadata": {
        "colab": {
          "base_uri": "https://localhost:8080/"
        },
        "id": "li2lsSUe_Tfu",
        "outputId": "ba9c693a-9616-408c-a5a6-d18553565e8d"
      },
      "execution_count": 66,
      "outputs": [
        {
          "output_type": "stream",
          "name": "stdout",
          "text": [
            "Статистика теста Бартлетта: 50.702248524714406\n",
            "P-value: 9.775672031866724e-12\n",
            "\n",
            "Отклоняем нулевую гипотезу: Дисперсии в группах различны.\n"
          ]
        }
      ]
    },
    {
      "cell_type": "code",
      "source": [
        "# Рассчет межгрупповой Дисперсии Rb\n",
        "\n",
        "grand_mean = np.mean(poolSample)\n",
        "\n",
        "# Средние значения для каждой выборки\n",
        "mean_X1 = np.mean(sample1)\n",
        "mean_X2 = np.mean(sample2)\n",
        "mean_X3 = np.mean(sample3)\n",
        "\n",
        "# Рассчитываем межгрупповую дисперсию\n",
        "SSB_X1 = len(sample1) * (mean_X1 - grand_mean)**2\n",
        "SSB_X2 = len(sample2) * (mean_X2 - grand_mean)**2\n",
        "SSB_X3 = len(sample3) * (mean_X3 - grand_mean)**2\n",
        "\n",
        "# Общая межгрупповая дисперсия\n",
        "SSB = SSB_X1 + SSB_X2 + SSB_X3\n",
        "\n",
        "print(\"Межгрупповая дисперсия (SSB_X1):\", SSB_X1)\n",
        "print(\"Межгрупповая дисперсия (SSB_X2):\", SSB_X2)\n",
        "print(\"Межгрупповая дисперсия (SSB_X3):\", SSB_X3)\n",
        "print(\"Общая межгрупповая дисперсия (SSB):\", SSB)\n"
      ],
      "metadata": {
        "colab": {
          "base_uri": "https://localhost:8080/"
        },
        "id": "fU7bzz8wF25Y",
        "outputId": "c3952475-3d78-496b-bbd1-5d1e7b1f48f3"
      },
      "execution_count": 68,
      "outputs": [
        {
          "output_type": "stream",
          "name": "stdout",
          "text": [
            "Межгрупповая дисперсия (SSB_X1): 74.82042629128038\n",
            "Межгрупповая дисперсия (SSB_X2): 76.63606834959359\n",
            "Межгрупповая дисперсия (SSB_X3): 6.050241663033328\n",
            "Общая межгрупповая дисперсия (SSB): 157.5067363039073\n"
          ]
        }
      ]
    },
    {
      "cell_type": "code",
      "source": [
        "# Рассчет внетригрупповой Дисперсии Rw\n",
        "\n",
        "# Средние значения для каждой выборки\n",
        "mean_X1 = np.mean(sample1)\n",
        "mean_X2 = np.mean(sample2)\n",
        "mean_X3 = np.mean(sample3)\n",
        "\n",
        "# Рассчитываем внутригрупповую дисперсию\n",
        "SSW_X1 = np.sum((sample1 - mean_X1)**2)\n",
        "SSW_X2 = np.sum((sample2 - mean_X2)**2)\n",
        "SSW_X3 = np.sum((sample3 - mean_X3)**2)\n",
        "\n",
        "# Общая внутригрупповая дисперсия\n",
        "SSW = SSW_X1 + SSW_X2 + SSW_X3\n",
        "\n",
        "print(\"Внутригрупповая дисперсия (SSW_X1):\", SSW_X1)\n",
        "print(\"Внутригрупповая дисперсия (SSW_X2):\", SSW_X2)\n",
        "print(\"Внутригрупповая дисперсия (SSW_X3):\", SSW_X3)\n",
        "print(\"Общая внутригрупповая дисперсия (SSW):\", SSW)\n"
      ],
      "metadata": {
        "colab": {
          "base_uri": "https://localhost:8080/"
        },
        "id": "daNaZYlEE_G6",
        "outputId": "68c02a92-7f47-4a4c-d888-0654ad8911bc"
      },
      "execution_count": 67,
      "outputs": [
        {
          "output_type": "stream",
          "name": "stdout",
          "text": [
            "Внутригрупповая дисперсия (SSW_X1): 1837.1659384244545\n",
            "Внутригрупповая дисперсия (SSW_X2): 336.0433796537011\n",
            "Внутригрупповая дисперсия (SSW_X3): 443.57893808857784\n",
            "Общая внутригрупповая дисперсия (SSW): 2616.788256166734\n"
          ]
        }
      ]
    },
    {
      "cell_type": "code",
      "source": [
        "# Рассчет общей Дисперсии RX\n",
        "\n",
        "grand_mean = np.mean(poolSample)\n",
        "\n",
        "# Рассчитываем общую сумму квадратов (SST)\n",
        "SST_X1 = np.sum((sample1 - grand_mean)**2)\n",
        "SST_X2 = np.sum((sample2 - grand_mean)**2)\n",
        "SST_X3 = np.sum((sample3 - grand_mean)**2)\n",
        "\n",
        "# Общая сумма квадратов (SST)\n",
        "SST = SST_X1 + SST_X2 + SST_X3\n",
        "\n",
        "print(\"Общая дисперсия (SST_X1):\", SST_X1)\n",
        "print(\"Общая дисперсия (SST_X2):\", SST_X2)\n",
        "print(\"Общая дисперсия (SST_X3):\", SST_X3)\n",
        "print(\"Общая дисперсия (SST):\", SST)"
      ],
      "metadata": {
        "colab": {
          "base_uri": "https://localhost:8080/"
        },
        "id": "n5KbZF7xGdIl",
        "outputId": "43bd7e45-dd93-4d2b-daf6-806507624be8"
      },
      "execution_count": 69,
      "outputs": [
        {
          "output_type": "stream",
          "name": "stdout",
          "text": [
            "Общая дисперсия (SST_X1): 1911.9863647157342\n",
            "Общая дисперсия (SST_X2): 412.6794480032947\n",
            "Общая дисперсия (SST_X3): 449.6291797516112\n",
            "Общая дисперсия (SST): 2774.29499247064\n"
          ]
        }
      ]
    },
    {
      "cell_type": "code",
      "source": [
        "# Проверяем H0: m1 == m2 == m3\n",
        "# Выполняем однофакторный дисперсионный анализ\n",
        "statistic, p_value = f_oneway(sample1, sample2, sample3)\n",
        "\n",
        "print(\"F-статистика:\", statistic)\n",
        "print(\"P-value:\", p_value)\n",
        "\n",
        "alpha = 0.05\n",
        "if p_value < alpha:\n",
        "    print(\"\\nОтклоняем нулевую гипотезу: Средние значения групп различны.\")\n",
        "else:\n",
        "    print(\"\\nНе отклоняем нулевую гипотезу: Средние значения групп равны.\")"
      ],
      "metadata": {
        "colab": {
          "base_uri": "https://localhost:8080/"
        },
        "id": "fznsH7d4JJe6",
        "outputId": "d3875e29-78a3-4af6-c98b-d17044a6e833"
      },
      "execution_count": 70,
      "outputs": [
        {
          "output_type": "stream",
          "name": "stdout",
          "text": [
            "F-статистика: 7.433571244326571\n",
            "P-value: 0.0007329411289338519\n",
            "\n",
            "Отклоняем нулевую гипотезу: Средние значения групп различны.\n"
          ]
        }
      ]
    },
    {
      "cell_type": "code",
      "source": [
        "# Рассчет доверительных интрвалов\n",
        "from scipy import stats\n",
        "\n",
        "X1 = sample1\n",
        "X2 = sample2\n",
        "X3 = sample3\n",
        "\n",
        "# Уровень доверия\n",
        "confidence_level = 0.95\n",
        "\n",
        "# Рассчитываем доверительные интервалы для средних значений групп\n",
        "ci_X1 = stats.t.interval(confidence_level, len(X1)-1, loc=np.mean(X1), scale=stats.sem(X1))\n",
        "ci_X2 = stats.t.interval(confidence_level, len(X2)-1, loc=np.mean(X2), scale=stats.sem(X2))\n",
        "ci_X3 = stats.t.interval(confidence_level, len(X3)-1, loc=np.mean(X3), scale=stats.sem(X3))\n",
        "\n",
        "print(\"Доверительный интервал для X1:\", ci_X1)\n",
        "print(\"Доверительный интервал для X2:\", ci_X2)\n",
        "print(\"Доверительный интервал для X3:\", ci_X3)\n",
        "\n",
        "groups = ['X1', 'X2', 'X3']\n",
        "means = [np.mean(X1), np.mean(X2), np.mean(X3)]\n",
        "cis = [ci_X1, ci_X2, ci_X3]\n",
        "\n",
        "plt.plot(groups, means, marker='o', linestyle='-', color='blue', label='Среднее значение')\n",
        "plt.fill_between(groups, [ci[0] for ci in cis], [ci[1] for ci in cis], color='blue', alpha=0.2, label='Доверительный интервал')\n",
        "\n",
        "plt.title('Доверительные интервалы для средних значений')\n",
        "plt.xlabel('Группы')\n",
        "plt.ylabel('Среднее значение')\n",
        "plt.legend()\n",
        "plt.show()"
      ],
      "metadata": {
        "colab": {
          "base_uri": "https://localhost:8080/",
          "height": 524
        },
        "id": "8e725AB3K9NE",
        "outputId": "582163d3-1ffa-4d22-e12a-bba1f8ebd308"
      },
      "execution_count": 74,
      "outputs": [
        {
          "output_type": "stream",
          "name": "stdout",
          "text": [
            "Доверительный интервал для X1: (10.237999791488102, 11.947525933387682)\n",
            "Доверительный интервал для X2: (8.245493506300376, 9.733993699509968)\n",
            "Доверительный интервал для X3: (9.561794987222266, 10.401809931379537)\n"
          ]
        },
        {
          "output_type": "display_data",
          "data": {
            "text/plain": [
              "<Figure size 640x480 with 1 Axes>"
            ],
            "image/png": "[encoded data removed]"
          },
          "metadata": {}
        }
      ]
    },
    {
      "cell_type": "code",
      "source": [
        "# Сравнение m1 и m2\n",
        "\n",
        "import pandas as pd\n",
        "from statsmodels.stats.multicomp import pairwise_tukeyhsd\n",
        "\n",
        "\n",
        "def get_statistic(X1, X2):\n",
        "    # Выполняем однофакторный дисперсионный анализ\n",
        "    _, p_value = f_oneway(X1, X2)\n",
        "    # Рассчитываем MSE\n",
        "    mse = np.var(np.concatenate([X1, X2])) / len(np.concatenate([X1, X2]))\n",
        "\n",
        "    # Рассчитываем выборочное значение статистики\n",
        "    mean_diff = np.mean(X1) - np.mean(X2)\n",
        "    std_error = np.sqrt((mse/(len(X1)+len(X2)))*(1/len(X1) + 1/len(X2)))\n",
        "    return mean_diff / std_error\n",
        "\n",
        "\n",
        "data = pd.DataFrame({'value': np.concatenate([X1, X2]),\n",
        "                     'group': np.concatenate([['X1'] * len(X1), ['X2'] * len(X2)])})\n",
        "\n",
        "result = pairwise_tukeyhsd(data['value'], data['group'])\n",
        "\n",
        "print(result)\n",
        "print(f'Выборочное значение статистики Тьюки: {get_statistic(X1, X2)}')\n",
        "print(\"p_value:\", result.pvalues)\n",
        "\n"
      ],
      "metadata": {
        "colab": {
          "base_uri": "https://localhost:8080/"
        },
        "id": "2tvcaNmQPOhA",
        "outputId": "8896446e-87dc-4ecc-d21d-851aee8d92e1"
      },
      "execution_count": 89,
      "outputs": [
        {
          "output_type": "stream",
          "name": "stdout",
          "text": [
            "Multiple Comparison of Means - Tukey HSD, FWER=0.05 \n",
            "====================================================\n",
            "group1 group2 meandiff p-adj   lower   upper  reject\n",
            "----------------------------------------------------\n",
            "    X1     X2   -2.103 0.0019 -3.4146 -0.7914   True\n",
            "----------------------------------------------------\n",
            "Выборочное значение статистики Тьюки: 463.03769032039594\n",
            "p_value: [0.00186148]\n"
          ]
        }
      ]
    },
    {
      "cell_type": "code",
      "source": [
        "# Сравнение m1 и m3\n",
        "\n",
        "import pandas as pd\n",
        "from statsmodels.stats.multicomp import pairwise_tukeyhsd\n",
        "\n",
        "\n",
        "\n",
        "data = pd.DataFrame({'value': np.concatenate([X1, X3]),\n",
        "                     'group': np.concatenate([['X1'] * len(X1), ['X3'] * len(X3)])})\n",
        "\n",
        "result = pairwise_tukeyhsd(data['value'], data['group'])\n",
        "\n",
        "print(result)\n",
        "print(f'Выборочное значение статистики Тьюки: {get_statistic(X1, X3)}')\n",
        "print(\"p_value:\", result.pvalues)"
      ],
      "metadata": {
        "colab": {
          "base_uri": "https://localhost:8080/"
        },
        "id": "G8aYkUKHQUon",
        "outputId": "78f65a8d-420a-4026-d74b-0ccfa3fe9da1"
      },
      "execution_count": 90,
      "outputs": [
        {
          "output_type": "stream",
          "name": "stdout",
          "text": [
            "Multiple Comparison of Means - Tukey HSD, FWER=0.05 \n",
            "====================================================\n",
            "group1 group2 meandiff p-adj   lower   upper  reject\n",
            "----------------------------------------------------\n",
            "    X1     X3   -1.111 0.0217 -2.0575 -0.1644   True\n",
            "----------------------------------------------------\n",
            "Выборочное значение статистики Тьюки: 459.0846859190504\n",
            "p_value: [0.02165967]\n"
          ]
        }
      ]
    },
    {
      "cell_type": "code",
      "source": [
        "# Сравнение m2 и m3\n",
        "\n",
        "import pandas as pd\n",
        "from statsmodels.stats.multicomp import pairwise_tukeyhsd\n",
        "\n",
        "\n",
        "\n",
        "data = pd.DataFrame({'value': np.concatenate([X2, X3]),\n",
        "                     'group': np.concatenate([['X2'] * len(X2), ['X3'] * len(X3)])})\n",
        "\n",
        "result = pairwise_tukeyhsd(data['value'], data['group'])\n",
        "\n",
        "print(result)\n",
        "print(f'Выборочное значение статистики Тьюки: {get_statistic(X2, X3)}')\n",
        "print(\"p_value:\", result.pvalues)"
      ],
      "metadata": {
        "colab": {
          "base_uri": "https://localhost:8080/"
        },
        "id": "0QiaeG91QZNw",
        "outputId": "6c2fffdb-2234-4f46-9d94-56670d0aeafb"
      },
      "execution_count": 91,
      "outputs": [
        {
          "output_type": "stream",
          "name": "stdout",
          "text": [
            "Multiple Comparison of Means - Tukey HSD, FWER=0.05\n",
            "==================================================\n",
            "group1 group2 meandiff p-adj  lower  upper  reject\n",
            "--------------------------------------------------\n",
            "    X2     X3   0.9921 0.0137 0.2065 1.7776   True\n",
            "--------------------------------------------------\n",
            "Выборочное значение статистики Тьюки: -369.1655500325771\n",
            "p_value: [0.01367379]\n"
          ]
        }
      ]
    }
  ]
}