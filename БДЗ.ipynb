{
  "nbformat": 4,
  "nbformat_minor": 0,
  "metadata": {
    "colab": {
      "provenance": [],
      "authorship_tag": "ABX9TyPtPw8trgQpsHUph0NoPhL3",
      "include_colab_link": true
    },
    "kernelspec": {
      "name": "python3",
      "display_name": "Python 3"
    },
    "language_info": {
      "name": "python"
    }
  },
  "cells": [
    {
      "cell_type": "markdown",
      "metadata": {
        "id": "view-in-github",
        "colab_type": "text"
      },
      "source": [
        "<a href=\"https://colab.research.google.com/github/kostya200301/HimoInfo/blob/main/%D0%91%D0%94%D0%97.ipynb\" target=\"_parent\"><img src=\"https://colab.research.google.com/assets/colab-badge.svg\" alt=\"Open In Colab\"/></a>"
      ]
    },
    {
      "cell_type": "code",
      "execution_count": 3,
      "metadata": {
        "id": "XncS-CsZy9uS"
      },
      "outputs": [],
      "source": [
        "import pandas as pd\n",
        "\n",
        "file_path = 'data_matstat_K5.xls'\n",
        "\n",
        "dfA = pd.read_excel(file_path, sheet_name=\"A - aaup\")\n",
        "\n",
        "dfC = pd.read_excel(file_path, sheet_name=\"C - plasma\")\n",
        "\n",
        "dfB = pd.read_excel(file_path, sheet_name=\"B - bodyfat\")\n",
        "\n",
        "dfD = pd.read_excel(file_path, sheet_name=\"D - homedat\")\n",
        "\n"
      ]
    },
    {
      "cell_type": "code",
      "source": [
        "dfA.head()"
      ],
      "metadata": {
        "colab": {
          "base_uri": "https://localhost:8080/",
          "height": 206
        },
        "id": "RUUF-Kxm2CcY",
        "outputId": "13f1db1f-d384-4d56-f385-61eab7109ac5"
      },
      "execution_count": 4,
      "outputs": [
        {
          "output_type": "execute_result",
          "data": {
            "text/plain": [
              "      A1                         A2  A3   A4   A5   A6   A7   A8 A9  A10  A11  \\\n",
              "0   1061  Alaska Pacific University  AK  IIB  454  382  362  382  N  567  485   \n",
              "1   1063      Univ.Alaska-Fairbanks  AK    I  686  560  432  508  Y  914  753   \n",
              "2   1065      Univ.Alaska-Southeast  AK  IIA  533  494  329  415  N  716  663   \n",
              "3  11462      Univ.Alaska-Anchorage  AK  IIA  612  507  414  498  Y  825  681   \n",
              "4   1002  Alabama Agri.&Mech. Univ.  AL  IIA  442  369  310  350  N  530  444   \n",
              "\n",
              "   A12  A13 A14  A15  A16  A17  A18  A19 A20  \n",
              "0  471  487   N    6   11    9    4   32   N  \n",
              "1  572  677   Y   74  125  118   40  404   Y  \n",
              "2  442  559   Y    9   26   20    9   70   N  \n",
              "3  557  670   Y  115  124  101   21  392   Y  \n",
              "4  376  423   N   59   77  102   24  262   N  "
            ],
            "text/html": [
              "\n",
              "  <div id=\"df-99e1a9b3-1f8d-4f49-9ee0-e19db8024d56\" class=\"colab-df-container\">\n",
              "    <div>\n",
              "<style scoped>\n",
              "    .dataframe tbody tr th:only-of-type {\n",
              "        vertical-align: middle;\n",
              "    }\n",
              "\n",
              "    .dataframe tbody tr th {\n",
              "        vertical-align: top;\n",
              "    }\n",
              "\n",
              "    .dataframe thead th {\n",
              "        text-align: right;\n",
              "    }\n",
              "</style>\n",
              "<table border=\"1\" class=\"dataframe\">\n",
              "  <thead>\n",
              "    <tr style=\"text-align: right;\">\n",
              "      <th></th>\n",
              "      <th>A1</th>\n",
              "      <th>A2</th>\n",
              "      <th>A3</th>\n",
              "      <th>A4</th>\n",
              "      <th>A5</th>\n",
              "      <th>A6</th>\n",
              "      <th>A7</th>\n",
              "      <th>A8</th>\n",
              "      <th>A9</th>\n",
              "      <th>A10</th>\n",
              "      <th>A11</th>\n",
              "      <th>A12</th>\n",
              "      <th>A13</th>\n",
              "      <th>A14</th>\n",
              "      <th>A15</th>\n",
              "      <th>A16</th>\n",
              "      <th>A17</th>\n",
              "      <th>A18</th>\n",
              "      <th>A19</th>\n",
              "      <th>A20</th>\n",
              "    </tr>\n",
              "  </thead>\n",
              "  <tbody>\n",
              "    <tr>\n",
              "      <th>0</th>\n",
              "      <td>1061</td>\n",
              "      <td>Alaska Pacific University</td>\n",
              "      <td>AK</td>\n",
              "      <td>IIB</td>\n",
              "      <td>454</td>\n",
              "      <td>382</td>\n",
              "      <td>362</td>\n",
              "      <td>382</td>\n",
              "      <td>N</td>\n",
              "      <td>567</td>\n",
              "      <td>485</td>\n",
              "      <td>471</td>\n",
              "      <td>487</td>\n",
              "      <td>N</td>\n",
              "      <td>6</td>\n",
              "      <td>11</td>\n",
              "      <td>9</td>\n",
              "      <td>4</td>\n",
              "      <td>32</td>\n",
              "      <td>N</td>\n",
              "    </tr>\n",
              "    <tr>\n",
              "      <th>1</th>\n",
              "      <td>1063</td>\n",
              "      <td>Univ.Alaska-Fairbanks</td>\n",
              "      <td>AK</td>\n",
              "      <td>I</td>\n",
              "      <td>686</td>\n",
              "      <td>560</td>\n",
              "      <td>432</td>\n",
              "      <td>508</td>\n",
              "      <td>Y</td>\n",
              "      <td>914</td>\n",
              "      <td>753</td>\n",
              "      <td>572</td>\n",
              "      <td>677</td>\n",
              "      <td>Y</td>\n",
              "      <td>74</td>\n",
              "      <td>125</td>\n",
              "      <td>118</td>\n",
              "      <td>40</td>\n",
              "      <td>404</td>\n",
              "      <td>Y</td>\n",
              "    </tr>\n",
              "    <tr>\n",
              "      <th>2</th>\n",
              "      <td>1065</td>\n",
              "      <td>Univ.Alaska-Southeast</td>\n",
              "      <td>AK</td>\n",
              "      <td>IIA</td>\n",
              "      <td>533</td>\n",
              "      <td>494</td>\n",
              "      <td>329</td>\n",
              "      <td>415</td>\n",
              "      <td>N</td>\n",
              "      <td>716</td>\n",
              "      <td>663</td>\n",
              "      <td>442</td>\n",
              "      <td>559</td>\n",
              "      <td>Y</td>\n",
              "      <td>9</td>\n",
              "      <td>26</td>\n",
              "      <td>20</td>\n",
              "      <td>9</td>\n",
              "      <td>70</td>\n",
              "      <td>N</td>\n",
              "    </tr>\n",
              "    <tr>\n",
              "      <th>3</th>\n",
              "      <td>11462</td>\n",
              "      <td>Univ.Alaska-Anchorage</td>\n",
              "      <td>AK</td>\n",
              "      <td>IIA</td>\n",
              "      <td>612</td>\n",
              "      <td>507</td>\n",
              "      <td>414</td>\n",
              "      <td>498</td>\n",
              "      <td>Y</td>\n",
              "      <td>825</td>\n",
              "      <td>681</td>\n",
              "      <td>557</td>\n",
              "      <td>670</td>\n",
              "      <td>Y</td>\n",
              "      <td>115</td>\n",
              "      <td>124</td>\n",
              "      <td>101</td>\n",
              "      <td>21</td>\n",
              "      <td>392</td>\n",
              "      <td>Y</td>\n",
              "    </tr>\n",
              "    <tr>\n",
              "      <th>4</th>\n",
              "      <td>1002</td>\n",
              "      <td>Alabama Agri.&amp;Mech. Univ.</td>\n",
              "      <td>AL</td>\n",
              "      <td>IIA</td>\n",
              "      <td>442</td>\n",
              "      <td>369</td>\n",
              "      <td>310</td>\n",
              "      <td>350</td>\n",
              "      <td>N</td>\n",
              "      <td>530</td>\n",
              "      <td>444</td>\n",
              "      <td>376</td>\n",
              "      <td>423</td>\n",
              "      <td>N</td>\n",
              "      <td>59</td>\n",
              "      <td>77</td>\n",
              "      <td>102</td>\n",
              "      <td>24</td>\n",
              "      <td>262</td>\n",
              "      <td>N</td>\n",
              "    </tr>\n",
              "  </tbody>\n",
              "</table>\n",
              "</div>\n",
              "    <div class=\"colab-df-buttons\">\n",
              "\n",
              "  <div class=\"colab-df-container\">\n",
              "    <button class=\"colab-df-convert\" onclick=\"convertToInteractive('df-99e1a9b3-1f8d-4f49-9ee0-e19db8024d56')\"\n",
              "            title=\"Convert this dataframe to an interactive table.\"\n",
              "            style=\"display:none;\">\n",
              "\n",
              "  <svg xmlns=\"http://www.w3.org/2000/svg\" height=\"24px\" viewBox=\"0 -960 960 960\">\n",
              "    <path d=\"M120-120v-720h720v720H120Zm60-500h600v-160H180v160Zm220 220h160v-160H400v160Zm0 220h160v-160H400v160ZM180-400h160v-160H180v160Zm440 0h160v-160H620v160ZM180-180h160v-160H180v160Zm440 0h160v-160H620v160Z\"/>\n",
              "  </svg>\n",
              "    </button>\n",
              "\n",
              "  <style>\n",
              "    .colab-df-container {\n",
              "      display:flex;\n",
              "      gap: 12px;\n",
              "    }\n",
              "\n",
              "    .colab-df-convert {\n",
              "      background-color: #E8F0FE;\n",
              "      border: none;\n",
              "      border-radius: 50%;\n",
              "      cursor: pointer;\n",
              "      display: none;\n",
              "      fill: #1967D2;\n",
              "      height: 32px;\n",
              "      padding: 0 0 0 0;\n",
              "      width: 32px;\n",
              "    }\n",
              "\n",
              "    .colab-df-convert:hover {\n",
              "      background-color: #E2EBFA;\n",
              "      box-shadow: 0px 1px 2px rgba(60, 64, 67, 0.3), 0px 1px 3px 1px rgba(60, 64, 67, 0.15);\n",
              "      fill: #174EA6;\n",
              "    }\n",
              "\n",
              "    .colab-df-buttons div {\n",
              "      margin-bottom: 4px;\n",
              "    }\n",
              "\n",
              "    [theme=dark] .colab-df-convert {\n",
              "      background-color: #3B4455;\n",
              "      fill: #D2E3FC;\n",
              "    }\n",
              "\n",
              "    [theme=dark] .colab-df-convert:hover {\n",
              "      background-color: #434B5C;\n",
              "      box-shadow: 0px 1px 3px 1px rgba(0, 0, 0, 0.15);\n",
              "      filter: drop-shadow(0px 1px 2px rgba(0, 0, 0, 0.3));\n",
              "      fill: #FFFFFF;\n",
              "    }\n",
              "  </style>\n",
              "\n",
              "    <script>\n",
              "      const buttonEl =\n",
              "        document.querySelector('#df-99e1a9b3-1f8d-4f49-9ee0-e19db8024d56 button.colab-df-convert');\n",
              "      buttonEl.style.display =\n",
              "        google.colab.kernel.accessAllowed ? 'block' : 'none';\n",
              "\n",
              "      async function convertToInteractive(key) {\n",
              "        const element = document.querySelector('#df-99e1a9b3-1f8d-4f49-9ee0-e19db8024d56');\n",
              "        const dataTable =\n",
              "          await google.colab.kernel.invokeFunction('convertToInteractive',\n",
              "                                                    [key], {});\n",
              "        if (!dataTable) return;\n",
              "\n",
              "        const docLinkHtml = 'Like what you see? Visit the ' +\n",
              "          '<a target=\"_blank\" href=https://colab.research.google.com/notebooks/data_table.ipynb>data table notebook</a>'\n",
              "          + ' to learn more about interactive tables.';\n",
              "        element.innerHTML = '';\n",
              "        dataTable['output_type'] = 'display_data';\n",
              "        await google.colab.output.renderOutput(dataTable, element);\n",
              "        const docLink = document.createElement('div');\n",
              "        docLink.innerHTML = docLinkHtml;\n",
              "        element.appendChild(docLink);\n",
              "      }\n",
              "    </script>\n",
              "  </div>\n",
              "\n",
              "\n",
              "<div id=\"df-d573a1c4-f7a9-45f8-aa70-de1be13c93e7\">\n",
              "  <button class=\"colab-df-quickchart\" onclick=\"quickchart('df-d573a1c4-f7a9-45f8-aa70-de1be13c93e7')\"\n",
              "            title=\"Suggest charts\"\n",
              "            style=\"display:none;\">\n",
              "\n",
              "<svg xmlns=\"http://www.w3.org/2000/svg\" height=\"24px\"viewBox=\"0 0 24 24\"\n",
              "     width=\"24px\">\n",
              "    <g>\n",
              "        <path d=\"M19 3H5c-1.1 0-2 .9-2 2v14c0 1.1.9 2 2 2h14c1.1 0 2-.9 2-2V5c0-1.1-.9-2-2-2zM9 17H7v-7h2v7zm4 0h-2V7h2v10zm4 0h-2v-4h2v4z\"/>\n",
              "    </g>\n",
              "</svg>\n",
              "  </button>\n",
              "\n",
              "<style>\n",
              "  .colab-df-quickchart {\n",
              "      --bg-color: #E8F0FE;\n",
              "      --fill-color: #1967D2;\n",
              "      --hover-bg-color: #E2EBFA;\n",
              "      --hover-fill-color: #174EA6;\n",
              "      --disabled-fill-color: #AAA;\n",
              "      --disabled-bg-color: #DDD;\n",
              "  }\n",
              "\n",
              "  [theme=dark] .colab-df-quickchart {\n",
              "      --bg-color: #3B4455;\n",
              "      --fill-color: #D2E3FC;\n",
              "      --hover-bg-color: #434B5C;\n",
              "      --hover-fill-color: #FFFFFF;\n",
              "      --disabled-bg-color: #3B4455;\n",
              "      --disabled-fill-color: #666;\n",
              "  }\n",
              "\n",
              "  .colab-df-quickchart {\n",
              "    background-color: var(--bg-color);\n",
              "    border: none;\n",
              "    border-radius: 50%;\n",
              "    cursor: pointer;\n",
              "    display: none;\n",
              "    fill: var(--fill-color);\n",
              "    height: 32px;\n",
              "    padding: 0;\n",
              "    width: 32px;\n",
              "  }\n",
              "\n",
              "  .colab-df-quickchart:hover {\n",
              "    background-color: var(--hover-bg-color);\n",
              "    box-shadow: 0 1px 2px rgba(60, 64, 67, 0.3), 0 1px 3px 1px rgba(60, 64, 67, 0.15);\n",
              "    fill: var(--button-hover-fill-color);\n",
              "  }\n",
              "\n",
              "  .colab-df-quickchart-complete:disabled,\n",
              "  .colab-df-quickchart-complete:disabled:hover {\n",
              "    background-color: var(--disabled-bg-color);\n",
              "    fill: var(--disabled-fill-color);\n",
              "    box-shadow: none;\n",
              "  }\n",
              "\n",
              "  .colab-df-spinner {\n",
              "    border: 2px solid var(--fill-color);\n",
              "    border-color: transparent;\n",
              "    border-bottom-color: var(--fill-color);\n",
              "    animation:\n",
              "      spin 1s steps(1) infinite;\n",
              "  }\n",
              "\n",
              "  @keyframes spin {\n",
              "    0% {\n",
              "      border-color: transparent;\n",
              "      border-bottom-color: var(--fill-color);\n",
              "      border-left-color: var(--fill-color);\n",
              "    }\n",
              "    20% {\n",
              "      border-color: transparent;\n",
              "      border-left-color: var(--fill-color);\n",
              "      border-top-color: var(--fill-color);\n",
              "    }\n",
              "    30% {\n",
              "      border-color: transparent;\n",
              "      border-left-color: var(--fill-color);\n",
              "      border-top-color: var(--fill-color);\n",
              "      border-right-color: var(--fill-color);\n",
              "    }\n",
              "    40% {\n",
              "      border-color: transparent;\n",
              "      border-right-color: var(--fill-color);\n",
              "      border-top-color: var(--fill-color);\n",
              "    }\n",
              "    60% {\n",
              "      border-color: transparent;\n",
              "      border-right-color: var(--fill-color);\n",
              "    }\n",
              "    80% {\n",
              "      border-color: transparent;\n",
              "      border-right-color: var(--fill-color);\n",
              "      border-bottom-color: var(--fill-color);\n",
              "    }\n",
              "    90% {\n",
              "      border-color: transparent;\n",
              "      border-bottom-color: var(--fill-color);\n",
              "    }\n",
              "  }\n",
              "</style>\n",
              "\n",
              "  <script>\n",
              "    async function quickchart(key) {\n",
              "      const quickchartButtonEl =\n",
              "        document.querySelector('#' + key + ' button');\n",
              "      quickchartButtonEl.disabled = true;  // To prevent multiple clicks.\n",
              "      quickchartButtonEl.classList.add('colab-df-spinner');\n",
              "      try {\n",
              "        const charts = await google.colab.kernel.invokeFunction(\n",
              "            'suggestCharts', [key], {});\n",
              "      } catch (error) {\n",
              "        console.error('Error during call to suggestCharts:', error);\n",
              "      }\n",
              "      quickchartButtonEl.classList.remove('colab-df-spinner');\n",
              "      quickchartButtonEl.classList.add('colab-df-quickchart-complete');\n",
              "    }\n",
              "    (() => {\n",
              "      let quickchartButtonEl =\n",
              "        document.querySelector('#df-d573a1c4-f7a9-45f8-aa70-de1be13c93e7 button');\n",
              "      quickchartButtonEl.style.display =\n",
              "        google.colab.kernel.accessAllowed ? 'block' : 'none';\n",
              "    })();\n",
              "  </script>\n",
              "</div>\n",
              "    </div>\n",
              "  </div>\n"
            ]
          },
          "metadata": {},
          "execution_count": 4
        }
      ]
    },
    {
      "cell_type": "code",
      "source": [
        "dfB.head()"
      ],
      "metadata": {
        "colab": {
          "base_uri": "https://localhost:8080/",
          "height": 206
        },
        "id": "aWaTMY3U2JaP",
        "outputId": "65401a6e-a5f1-428a-a499-266ae853a32b"
      },
      "execution_count": 5,
      "outputs": [
        {
          "output_type": "execute_result",
          "data": {
            "text/plain": [
              "       B1    B2      B3  B4    B5          B6      B7     B8    B9    B10  \\\n",
              "0  1.0708  12.3  normal  23  Male  Somerville  154.25  67.75  36.2   93.1   \n",
              "1  1.0853   6.1     low  22  Male  Somerville  173.25  72.25  38.5   93.6   \n",
              "2  1.0414  25.3    high  22  Male  Somerville  154.00  66.25  34.0   95.8   \n",
              "3  1.0751  10.4  normal  26  Male  Somerville  184.75  72.25  37.4  101.8   \n",
              "4  1.0340  28.7    high  24  Male  Somerville  184.25  71.25  34.4   97.3   \n",
              "\n",
              "     B11    B12   B13   B14   B15   B16   B17   B18  \n",
              "0   85.2   94.5  59.0  37.3  21.9  32.0  27.4  17.1  \n",
              "1   83.0   98.7  58.7  37.3  23.4  30.5  28.9  18.2  \n",
              "2   87.9   99.2  59.6  38.9  24.0  28.8  25.2  16.6  \n",
              "3   86.4  101.2  60.1  37.3  22.8  32.4  29.4  18.2  \n",
              "4  100.0  101.9  63.2  42.2  24.0  32.2  27.7  17.7  "
            ],
            "text/html": [
              "\n",
              "  <div id=\"df-6508f3d2-7779-4bbf-a0da-b73f7def0f59\" class=\"colab-df-container\">\n",
              "    <div>\n",
              "<style scoped>\n",
              "    .dataframe tbody tr th:only-of-type {\n",
              "        vertical-align: middle;\n",
              "    }\n",
              "\n",
              "    .dataframe tbody tr th {\n",
              "        vertical-align: top;\n",
              "    }\n",
              "\n",
              "    .dataframe thead th {\n",
              "        text-align: right;\n",
              "    }\n",
              "</style>\n",
              "<table border=\"1\" class=\"dataframe\">\n",
              "  <thead>\n",
              "    <tr style=\"text-align: right;\">\n",
              "      <th></th>\n",
              "      <th>B1</th>\n",
              "      <th>B2</th>\n",
              "      <th>B3</th>\n",
              "      <th>B4</th>\n",
              "      <th>B5</th>\n",
              "      <th>B6</th>\n",
              "      <th>B7</th>\n",
              "      <th>B8</th>\n",
              "      <th>B9</th>\n",
              "      <th>B10</th>\n",
              "      <th>B11</th>\n",
              "      <th>B12</th>\n",
              "      <th>B13</th>\n",
              "      <th>B14</th>\n",
              "      <th>B15</th>\n",
              "      <th>B16</th>\n",
              "      <th>B17</th>\n",
              "      <th>B18</th>\n",
              "    </tr>\n",
              "  </thead>\n",
              "  <tbody>\n",
              "    <tr>\n",
              "      <th>0</th>\n",
              "      <td>1.0708</td>\n",
              "      <td>12.3</td>\n",
              "      <td>normal</td>\n",
              "      <td>23</td>\n",
              "      <td>Male</td>\n",
              "      <td>Somerville</td>\n",
              "      <td>154.25</td>\n",
              "      <td>67.75</td>\n",
              "      <td>36.2</td>\n",
              "      <td>93.1</td>\n",
              "      <td>85.2</td>\n",
              "      <td>94.5</td>\n",
              "      <td>59.0</td>\n",
              "      <td>37.3</td>\n",
              "      <td>21.9</td>\n",
              "      <td>32.0</td>\n",
              "      <td>27.4</td>\n",
              "      <td>17.1</td>\n",
              "    </tr>\n",
              "    <tr>\n",
              "      <th>1</th>\n",
              "      <td>1.0853</td>\n",
              "      <td>6.1</td>\n",
              "      <td>low</td>\n",
              "      <td>22</td>\n",
              "      <td>Male</td>\n",
              "      <td>Somerville</td>\n",
              "      <td>173.25</td>\n",
              "      <td>72.25</td>\n",
              "      <td>38.5</td>\n",
              "      <td>93.6</td>\n",
              "      <td>83.0</td>\n",
              "      <td>98.7</td>\n",
              "      <td>58.7</td>\n",
              "      <td>37.3</td>\n",
              "      <td>23.4</td>\n",
              "      <td>30.5</td>\n",
              "      <td>28.9</td>\n",
              "      <td>18.2</td>\n",
              "    </tr>\n",
              "    <tr>\n",
              "      <th>2</th>\n",
              "      <td>1.0414</td>\n",
              "      <td>25.3</td>\n",
              "      <td>high</td>\n",
              "      <td>22</td>\n",
              "      <td>Male</td>\n",
              "      <td>Somerville</td>\n",
              "      <td>154.00</td>\n",
              "      <td>66.25</td>\n",
              "      <td>34.0</td>\n",
              "      <td>95.8</td>\n",
              "      <td>87.9</td>\n",
              "      <td>99.2</td>\n",
              "      <td>59.6</td>\n",
              "      <td>38.9</td>\n",
              "      <td>24.0</td>\n",
              "      <td>28.8</td>\n",
              "      <td>25.2</td>\n",
              "      <td>16.6</td>\n",
              "    </tr>\n",
              "    <tr>\n",
              "      <th>3</th>\n",
              "      <td>1.0751</td>\n",
              "      <td>10.4</td>\n",
              "      <td>normal</td>\n",
              "      <td>26</td>\n",
              "      <td>Male</td>\n",
              "      <td>Somerville</td>\n",
              "      <td>184.75</td>\n",
              "      <td>72.25</td>\n",
              "      <td>37.4</td>\n",
              "      <td>101.8</td>\n",
              "      <td>86.4</td>\n",
              "      <td>101.2</td>\n",
              "      <td>60.1</td>\n",
              "      <td>37.3</td>\n",
              "      <td>22.8</td>\n",
              "      <td>32.4</td>\n",
              "      <td>29.4</td>\n",
              "      <td>18.2</td>\n",
              "    </tr>\n",
              "    <tr>\n",
              "      <th>4</th>\n",
              "      <td>1.0340</td>\n",
              "      <td>28.7</td>\n",
              "      <td>high</td>\n",
              "      <td>24</td>\n",
              "      <td>Male</td>\n",
              "      <td>Somerville</td>\n",
              "      <td>184.25</td>\n",
              "      <td>71.25</td>\n",
              "      <td>34.4</td>\n",
              "      <td>97.3</td>\n",
              "      <td>100.0</td>\n",
              "      <td>101.9</td>\n",
              "      <td>63.2</td>\n",
              "      <td>42.2</td>\n",
              "      <td>24.0</td>\n",
              "      <td>32.2</td>\n",
              "      <td>27.7</td>\n",
              "      <td>17.7</td>\n",
              "    </tr>\n",
              "  </tbody>\n",
              "</table>\n",
              "</div>\n",
              "    <div class=\"colab-df-buttons\">\n",
              "\n",
              "  <div class=\"colab-df-container\">\n",
              "    <button class=\"colab-df-convert\" onclick=\"convertToInteractive('df-6508f3d2-7779-4bbf-a0da-b73f7def0f59')\"\n",
              "            title=\"Convert this dataframe to an interactive table.\"\n",
              "            style=\"display:none;\">\n",
              "\n",
              "  <svg xmlns=\"http://www.w3.org/2000/svg\" height=\"24px\" viewBox=\"0 -960 960 960\">\n",
              "    <path d=\"M120-120v-720h720v720H120Zm60-500h600v-160H180v160Zm220 220h160v-160H400v160Zm0 220h160v-160H400v160ZM180-400h160v-160H180v160Zm440 0h160v-160H620v160ZM180-180h160v-160H180v160Zm440 0h160v-160H620v160Z\"/>\n",
              "  </svg>\n",
              "    </button>\n",
              "\n",
              "  <style>\n",
              "    .colab-df-container {\n",
              "      display:flex;\n",
              "      gap: 12px;\n",
              "    }\n",
              "\n",
              "    .colab-df-convert {\n",
              "      background-color: #E8F0FE;\n",
              "      border: none;\n",
              "      border-radius: 50%;\n",
              "      cursor: pointer;\n",
              "      display: none;\n",
              "      fill: #1967D2;\n",
              "      height: 32px;\n",
              "      padding: 0 0 0 0;\n",
              "      width: 32px;\n",
              "    }\n",
              "\n",
              "    .colab-df-convert:hover {\n",
              "      background-color: #E2EBFA;\n",
              "      box-shadow: 0px 1px 2px rgba(60, 64, 67, 0.3), 0px 1px 3px 1px rgba(60, 64, 67, 0.15);\n",
              "      fill: #174EA6;\n",
              "    }\n",
              "\n",
              "    .colab-df-buttons div {\n",
              "      margin-bottom: 4px;\n",
              "    }\n",
              "\n",
              "    [theme=dark] .colab-df-convert {\n",
              "      background-color: #3B4455;\n",
              "      fill: #D2E3FC;\n",
              "    }\n",
              "\n",
              "    [theme=dark] .colab-df-convert:hover {\n",
              "      background-color: #434B5C;\n",
              "      box-shadow: 0px 1px 3px 1px rgba(0, 0, 0, 0.15);\n",
              "      filter: drop-shadow(0px 1px 2px rgba(0, 0, 0, 0.3));\n",
              "      fill: #FFFFFF;\n",
              "    }\n",
              "  </style>\n",
              "\n",
              "    <script>\n",
              "      const buttonEl =\n",
              "        document.querySelector('#df-6508f3d2-7779-4bbf-a0da-b73f7def0f59 button.colab-df-convert');\n",
              "      buttonEl.style.display =\n",
              "        google.colab.kernel.accessAllowed ? 'block' : 'none';\n",
              "\n",
              "      async function convertToInteractive(key) {\n",
              "        const element = document.querySelector('#df-6508f3d2-7779-4bbf-a0da-b73f7def0f59');\n",
              "        const dataTable =\n",
              "          await google.colab.kernel.invokeFunction('convertToInteractive',\n",
              "                                                    [key], {});\n",
              "        if (!dataTable) return;\n",
              "\n",
              "        const docLinkHtml = 'Like what you see? Visit the ' +\n",
              "          '<a target=\"_blank\" href=https://colab.research.google.com/notebooks/data_table.ipynb>data table notebook</a>'\n",
              "          + ' to learn more about interactive tables.';\n",
              "        element.innerHTML = '';\n",
              "        dataTable['output_type'] = 'display_data';\n",
              "        await google.colab.output.renderOutput(dataTable, element);\n",
              "        const docLink = document.createElement('div');\n",
              "        docLink.innerHTML = docLinkHtml;\n",
              "        element.appendChild(docLink);\n",
              "      }\n",
              "    </script>\n",
              "  </div>\n",
              "\n",
              "\n",
              "<div id=\"df-ed269e8b-dab8-4ff8-936c-24364f8d9b1b\">\n",
              "  <button class=\"colab-df-quickchart\" onclick=\"quickchart('df-ed269e8b-dab8-4ff8-936c-24364f8d9b1b')\"\n",
              "            title=\"Suggest charts\"\n",
              "            style=\"display:none;\">\n",
              "\n",
              "<svg xmlns=\"http://www.w3.org/2000/svg\" height=\"24px\"viewBox=\"0 0 24 24\"\n",
              "     width=\"24px\">\n",
              "    <g>\n",
              "        <path d=\"M19 3H5c-1.1 0-2 .9-2 2v14c0 1.1.9 2 2 2h14c1.1 0 2-.9 2-2V5c0-1.1-.9-2-2-2zM9 17H7v-7h2v7zm4 0h-2V7h2v10zm4 0h-2v-4h2v4z\"/>\n",
              "    </g>\n",
              "</svg>\n",
              "  </button>\n",
              "\n",
              "<style>\n",
              "  .colab-df-quickchart {\n",
              "      --bg-color: #E8F0FE;\n",
              "      --fill-color: #1967D2;\n",
              "      --hover-bg-color: #E2EBFA;\n",
              "      --hover-fill-color: #174EA6;\n",
              "      --disabled-fill-color: #AAA;\n",
              "      --disabled-bg-color: #DDD;\n",
              "  }\n",
              "\n",
              "  [theme=dark] .colab-df-quickchart {\n",
              "      --bg-color: #3B4455;\n",
              "      --fill-color: #D2E3FC;\n",
              "      --hover-bg-color: #434B5C;\n",
              "      --hover-fill-color: #FFFFFF;\n",
              "      --disabled-bg-color: #3B4455;\n",
              "      --disabled-fill-color: #666;\n",
              "  }\n",
              "\n",
              "  .colab-df-quickchart {\n",
              "    background-color: var(--bg-color);\n",
              "    border: none;\n",
              "    border-radius: 50%;\n",
              "    cursor: pointer;\n",
              "    display: none;\n",
              "    fill: var(--fill-color);\n",
              "    height: 32px;\n",
              "    padding: 0;\n",
              "    width: 32px;\n",
              "  }\n",
              "\n",
              "  .colab-df-quickchart:hover {\n",
              "    background-color: var(--hover-bg-color);\n",
              "    box-shadow: 0 1px 2px rgba(60, 64, 67, 0.3), 0 1px 3px 1px rgba(60, 64, 67, 0.15);\n",
              "    fill: var(--button-hover-fill-color);\n",
              "  }\n",
              "\n",
              "  .colab-df-quickchart-complete:disabled,\n",
              "  .colab-df-quickchart-complete:disabled:hover {\n",
              "    background-color: var(--disabled-bg-color);\n",
              "    fill: var(--disabled-fill-color);\n",
              "    box-shadow: none;\n",
              "  }\n",
              "\n",
              "  .colab-df-spinner {\n",
              "    border: 2px solid var(--fill-color);\n",
              "    border-color: transparent;\n",
              "    border-bottom-color: var(--fill-color);\n",
              "    animation:\n",
              "      spin 1s steps(1) infinite;\n",
              "  }\n",
              "\n",
              "  @keyframes spin {\n",
              "    0% {\n",
              "      border-color: transparent;\n",
              "      border-bottom-color: var(--fill-color);\n",
              "      border-left-color: var(--fill-color);\n",
              "    }\n",
              "    20% {\n",
              "      border-color: transparent;\n",
              "      border-left-color: var(--fill-color);\n",
              "      border-top-color: var(--fill-color);\n",
              "    }\n",
              "    30% {\n",
              "      border-color: transparent;\n",
              "      border-left-color: var(--fill-color);\n",
              "      border-top-color: var(--fill-color);\n",
              "      border-right-color: var(--fill-color);\n",
              "    }\n",
              "    40% {\n",
              "      border-color: transparent;\n",
              "      border-right-color: var(--fill-color);\n",
              "      border-top-color: var(--fill-color);\n",
              "    }\n",
              "    60% {\n",
              "      border-color: transparent;\n",
              "      border-right-color: var(--fill-color);\n",
              "    }\n",
              "    80% {\n",
              "      border-color: transparent;\n",
              "      border-right-color: var(--fill-color);\n",
              "      border-bottom-color: var(--fill-color);\n",
              "    }\n",
              "    90% {\n",
              "      border-color: transparent;\n",
              "      border-bottom-color: var(--fill-color);\n",
              "    }\n",
              "  }\n",
              "</style>\n",
              "\n",
              "  <script>\n",
              "    async function quickchart(key) {\n",
              "      const quickchartButtonEl =\n",
              "        document.querySelector('#' + key + ' button');\n",
              "      quickchartButtonEl.disabled = true;  // To prevent multiple clicks.\n",
              "      quickchartButtonEl.classList.add('colab-df-spinner');\n",
              "      try {\n",
              "        const charts = await google.colab.kernel.invokeFunction(\n",
              "            'suggestCharts', [key], {});\n",
              "      } catch (error) {\n",
              "        console.error('Error during call to suggestCharts:', error);\n",
              "      }\n",
              "      quickchartButtonEl.classList.remove('colab-df-spinner');\n",
              "      quickchartButtonEl.classList.add('colab-df-quickchart-complete');\n",
              "    }\n",
              "    (() => {\n",
              "      let quickchartButtonEl =\n",
              "        document.querySelector('#df-ed269e8b-dab8-4ff8-936c-24364f8d9b1b button');\n",
              "      quickchartButtonEl.style.display =\n",
              "        google.colab.kernel.accessAllowed ? 'block' : 'none';\n",
              "    })();\n",
              "  </script>\n",
              "</div>\n",
              "    </div>\n",
              "  </div>\n"
            ]
          },
          "metadata": {},
          "execution_count": 5
        }
      ]
    },
    {
      "cell_type": "code",
      "source": [
        "dfC.head()"
      ],
      "metadata": {
        "colab": {
          "base_uri": "https://localhost:8080/",
          "height": 206
        },
        "id": "Z2z85g6-2L2x",
        "outputId": "e59c36ab-4122-41d6-f611-b2896f4d5cec"
      },
      "execution_count": 6,
      "outputs": [
        {
          "output_type": "execute_result",
          "data": {
            "text/plain": [
              "   C1      C2      C3        C4         C5      C6    C7    C8    C9    C10  \\\n",
              "0  64  Female  Former  21.48380      Often  1298.8  57.0   6.3   0.0  170.3   \n",
              "1  76  Female   Never  23.87631      Often  1032.5  50.1  15.8   0.0   75.8   \n",
              "2  38  Female  Former  20.01080  Not often  2372.3  83.6  19.1  14.1  257.9   \n",
              "3  40  Female  Former  25.14062         No  2449.5  97.5  26.5   0.5  332.6   \n",
              "4  72  Female   Never  20.98504      Often  1952.1  82.6  16.2   0.0  170.8   \n",
              "\n",
              "    C11   C12  C13  C14  \n",
              "0  1945   890  200  915  \n",
              "1  2653   451  124  727  \n",
              "2  6321   660  328  721  \n",
              "3  1061   864  153  615  \n",
              "4  2863  1209   92  799  "
            ],
            "text/html": [
              "\n",
              "  <div id=\"df-8b416b16-7c42-46de-9e65-dc066a60193a\" class=\"colab-df-container\">\n",
              "    <div>\n",
              "<style scoped>\n",
              "    .dataframe tbody tr th:only-of-type {\n",
              "        vertical-align: middle;\n",
              "    }\n",
              "\n",
              "    .dataframe tbody tr th {\n",
              "        vertical-align: top;\n",
              "    }\n",
              "\n",
              "    .dataframe thead th {\n",
              "        text-align: right;\n",
              "    }\n",
              "</style>\n",
              "<table border=\"1\" class=\"dataframe\">\n",
              "  <thead>\n",
              "    <tr style=\"text-align: right;\">\n",
              "      <th></th>\n",
              "      <th>C1</th>\n",
              "      <th>C2</th>\n",
              "      <th>C3</th>\n",
              "      <th>C4</th>\n",
              "      <th>C5</th>\n",
              "      <th>C6</th>\n",
              "      <th>C7</th>\n",
              "      <th>C8</th>\n",
              "      <th>C9</th>\n",
              "      <th>C10</th>\n",
              "      <th>C11</th>\n",
              "      <th>C12</th>\n",
              "      <th>C13</th>\n",
              "      <th>C14</th>\n",
              "    </tr>\n",
              "  </thead>\n",
              "  <tbody>\n",
              "    <tr>\n",
              "      <th>0</th>\n",
              "      <td>64</td>\n",
              "      <td>Female</td>\n",
              "      <td>Former</td>\n",
              "      <td>21.48380</td>\n",
              "      <td>Often</td>\n",
              "      <td>1298.8</td>\n",
              "      <td>57.0</td>\n",
              "      <td>6.3</td>\n",
              "      <td>0.0</td>\n",
              "      <td>170.3</td>\n",
              "      <td>1945</td>\n",
              "      <td>890</td>\n",
              "      <td>200</td>\n",
              "      <td>915</td>\n",
              "    </tr>\n",
              "    <tr>\n",
              "      <th>1</th>\n",
              "      <td>76</td>\n",
              "      <td>Female</td>\n",
              "      <td>Never</td>\n",
              "      <td>23.87631</td>\n",
              "      <td>Often</td>\n",
              "      <td>1032.5</td>\n",
              "      <td>50.1</td>\n",
              "      <td>15.8</td>\n",
              "      <td>0.0</td>\n",
              "      <td>75.8</td>\n",
              "      <td>2653</td>\n",
              "      <td>451</td>\n",
              "      <td>124</td>\n",
              "      <td>727</td>\n",
              "    </tr>\n",
              "    <tr>\n",
              "      <th>2</th>\n",
              "      <td>38</td>\n",
              "      <td>Female</td>\n",
              "      <td>Former</td>\n",
              "      <td>20.01080</td>\n",
              "      <td>Not often</td>\n",
              "      <td>2372.3</td>\n",
              "      <td>83.6</td>\n",
              "      <td>19.1</td>\n",
              "      <td>14.1</td>\n",
              "      <td>257.9</td>\n",
              "      <td>6321</td>\n",
              "      <td>660</td>\n",
              "      <td>328</td>\n",
              "      <td>721</td>\n",
              "    </tr>\n",
              "    <tr>\n",
              "      <th>3</th>\n",
              "      <td>40</td>\n",
              "      <td>Female</td>\n",
              "      <td>Former</td>\n",
              "      <td>25.14062</td>\n",
              "      <td>No</td>\n",
              "      <td>2449.5</td>\n",
              "      <td>97.5</td>\n",
              "      <td>26.5</td>\n",
              "      <td>0.5</td>\n",
              "      <td>332.6</td>\n",
              "      <td>1061</td>\n",
              "      <td>864</td>\n",
              "      <td>153</td>\n",
              "      <td>615</td>\n",
              "    </tr>\n",
              "    <tr>\n",
              "      <th>4</th>\n",
              "      <td>72</td>\n",
              "      <td>Female</td>\n",
              "      <td>Never</td>\n",
              "      <td>20.98504</td>\n",
              "      <td>Often</td>\n",
              "      <td>1952.1</td>\n",
              "      <td>82.6</td>\n",
              "      <td>16.2</td>\n",
              "      <td>0.0</td>\n",
              "      <td>170.8</td>\n",
              "      <td>2863</td>\n",
              "      <td>1209</td>\n",
              "      <td>92</td>\n",
              "      <td>799</td>\n",
              "    </tr>\n",
              "  </tbody>\n",
              "</table>\n",
              "</div>\n",
              "    <div class=\"colab-df-buttons\">\n",
              "\n",
              "  <div class=\"colab-df-container\">\n",
              "    <button class=\"colab-df-convert\" onclick=\"convertToInteractive('df-8b416b16-7c42-46de-9e65-dc066a60193a')\"\n",
              "            title=\"Convert this dataframe to an interactive table.\"\n",
              "            style=\"display:none;\">\n",
              "\n",
              "  <svg xmlns=\"http://www.w3.org/2000/svg\" height=\"24px\" viewBox=\"0 -960 960 960\">\n",
              "    <path d=\"M120-120v-720h720v720H120Zm60-500h600v-160H180v160Zm220 220h160v-160H400v160Zm0 220h160v-160H400v160ZM180-400h160v-160H180v160Zm440 0h160v-160H620v160ZM180-180h160v-160H180v160Zm440 0h160v-160H620v160Z\"/>\n",
              "  </svg>\n",
              "    </button>\n",
              "\n",
              "  <style>\n",
              "    .colab-df-container {\n",
              "      display:flex;\n",
              "      gap: 12px;\n",
              "    }\n",
              "\n",
              "    .colab-df-convert {\n",
              "      background-color: #E8F0FE;\n",
              "      border: none;\n",
              "      border-radius: 50%;\n",
              "      cursor: pointer;\n",
              "      display: none;\n",
              "      fill: #1967D2;\n",
              "      height: 32px;\n",
              "      padding: 0 0 0 0;\n",
              "      width: 32px;\n",
              "    }\n",
              "\n",
              "    .colab-df-convert:hover {\n",
              "      background-color: #E2EBFA;\n",
              "      box-shadow: 0px 1px 2px rgba(60, 64, 67, 0.3), 0px 1px 3px 1px rgba(60, 64, 67, 0.15);\n",
              "      fill: #174EA6;\n",
              "    }\n",
              "\n",
              "    .colab-df-buttons div {\n",
              "      margin-bottom: 4px;\n",
              "    }\n",
              "\n",
              "    [theme=dark] .colab-df-convert {\n",
              "      background-color: #3B4455;\n",
              "      fill: #D2E3FC;\n",
              "    }\n",
              "\n",
              "    [theme=dark] .colab-df-convert:hover {\n",
              "      background-color: #434B5C;\n",
              "      box-shadow: 0px 1px 3px 1px rgba(0, 0, 0, 0.15);\n",
              "      filter: drop-shadow(0px 1px 2px rgba(0, 0, 0, 0.3));\n",
              "      fill: #FFFFFF;\n",
              "    }\n",
              "  </style>\n",
              "\n",
              "    <script>\n",
              "      const buttonEl =\n",
              "        document.querySelector('#df-8b416b16-7c42-46de-9e65-dc066a60193a button.colab-df-convert');\n",
              "      buttonEl.style.display =\n",
              "        google.colab.kernel.accessAllowed ? 'block' : 'none';\n",
              "\n",
              "      async function convertToInteractive(key) {\n",
              "        const element = document.querySelector('#df-8b416b16-7c42-46de-9e65-dc066a60193a');\n",
              "        const dataTable =\n",
              "          await google.colab.kernel.invokeFunction('convertToInteractive',\n",
              "                                                    [key], {});\n",
              "        if (!dataTable) return;\n",
              "\n",
              "        const docLinkHtml = 'Like what you see? Visit the ' +\n",
              "          '<a target=\"_blank\" href=https://colab.research.google.com/notebooks/data_table.ipynb>data table notebook</a>'\n",
              "          + ' to learn more about interactive tables.';\n",
              "        element.innerHTML = '';\n",
              "        dataTable['output_type'] = 'display_data';\n",
              "        await google.colab.output.renderOutput(dataTable, element);\n",
              "        const docLink = document.createElement('div');\n",
              "        docLink.innerHTML = docLinkHtml;\n",
              "        element.appendChild(docLink);\n",
              "      }\n",
              "    </script>\n",
              "  </div>\n",
              "\n",
              "\n",
              "<div id=\"df-57a9cae8-8c4e-448e-bf01-2a30744ff710\">\n",
              "  <button class=\"colab-df-quickchart\" onclick=\"quickchart('df-57a9cae8-8c4e-448e-bf01-2a30744ff710')\"\n",
              "            title=\"Suggest charts\"\n",
              "            style=\"display:none;\">\n",
              "\n",
              "<svg xmlns=\"http://www.w3.org/2000/svg\" height=\"24px\"viewBox=\"0 0 24 24\"\n",
              "     width=\"24px\">\n",
              "    <g>\n",
              "        <path d=\"M19 3H5c-1.1 0-2 .9-2 2v14c0 1.1.9 2 2 2h14c1.1 0 2-.9 2-2V5c0-1.1-.9-2-2-2zM9 17H7v-7h2v7zm4 0h-2V7h2v10zm4 0h-2v-4h2v4z\"/>\n",
              "    </g>\n",
              "</svg>\n",
              "  </button>\n",
              "\n",
              "<style>\n",
              "  .colab-df-quickchart {\n",
              "      --bg-color: #E8F0FE;\n",
              "      --fill-color: #1967D2;\n",
              "      --hover-bg-color: #E2EBFA;\n",
              "      --hover-fill-color: #174EA6;\n",
              "      --disabled-fill-color: #AAA;\n",
              "      --disabled-bg-color: #DDD;\n",
              "  }\n",
              "\n",
              "  [theme=dark] .colab-df-quickchart {\n",
              "      --bg-color: #3B4455;\n",
              "      --fill-color: #D2E3FC;\n",
              "      --hover-bg-color: #434B5C;\n",
              "      --hover-fill-color: #FFFFFF;\n",
              "      --disabled-bg-color: #3B4455;\n",
              "      --disabled-fill-color: #666;\n",
              "  }\n",
              "\n",
              "  .colab-df-quickchart {\n",
              "    background-color: var(--bg-color);\n",
              "    border: none;\n",
              "    border-radius: 50%;\n",
              "    cursor: pointer;\n",
              "    display: none;\n",
              "    fill: var(--fill-color);\n",
              "    height: 32px;\n",
              "    padding: 0;\n",
              "    width: 32px;\n",
              "  }\n",
              "\n",
              "  .colab-df-quickchart:hover {\n",
              "    background-color: var(--hover-bg-color);\n",
              "    box-shadow: 0 1px 2px rgba(60, 64, 67, 0.3), 0 1px 3px 1px rgba(60, 64, 67, 0.15);\n",
              "    fill: var(--button-hover-fill-color);\n",
              "  }\n",
              "\n",
              "  .colab-df-quickchart-complete:disabled,\n",
              "  .colab-df-quickchart-complete:disabled:hover {\n",
              "    background-color: var(--disabled-bg-color);\n",
              "    fill: var(--disabled-fill-color);\n",
              "    box-shadow: none;\n",
              "  }\n",
              "\n",
              "  .colab-df-spinner {\n",
              "    border: 2px solid var(--fill-color);\n",
              "    border-color: transparent;\n",
              "    border-bottom-color: var(--fill-color);\n",
              "    animation:\n",
              "      spin 1s steps(1) infinite;\n",
              "  }\n",
              "\n",
              "  @keyframes spin {\n",
              "    0% {\n",
              "      border-color: transparent;\n",
              "      border-bottom-color: var(--fill-color);\n",
              "      border-left-color: var(--fill-color);\n",
              "    }\n",
              "    20% {\n",
              "      border-color: transparent;\n",
              "      border-left-color: var(--fill-color);\n",
              "      border-top-color: var(--fill-color);\n",
              "    }\n",
              "    30% {\n",
              "      border-color: transparent;\n",
              "      border-left-color: var(--fill-color);\n",
              "      border-top-color: var(--fill-color);\n",
              "      border-right-color: var(--fill-color);\n",
              "    }\n",
              "    40% {\n",
              "      border-color: transparent;\n",
              "      border-right-color: var(--fill-color);\n",
              "      border-top-color: var(--fill-color);\n",
              "    }\n",
              "    60% {\n",
              "      border-color: transparent;\n",
              "      border-right-color: var(--fill-color);\n",
              "    }\n",
              "    80% {\n",
              "      border-color: transparent;\n",
              "      border-right-color: var(--fill-color);\n",
              "      border-bottom-color: var(--fill-color);\n",
              "    }\n",
              "    90% {\n",
              "      border-color: transparent;\n",
              "      border-bottom-color: var(--fill-color);\n",
              "    }\n",
              "  }\n",
              "</style>\n",
              "\n",
              "  <script>\n",
              "    async function quickchart(key) {\n",
              "      const quickchartButtonEl =\n",
              "        document.querySelector('#' + key + ' button');\n",
              "      quickchartButtonEl.disabled = true;  // To prevent multiple clicks.\n",
              "      quickchartButtonEl.classList.add('colab-df-spinner');\n",
              "      try {\n",
              "        const charts = await google.colab.kernel.invokeFunction(\n",
              "            'suggestCharts', [key], {});\n",
              "      } catch (error) {\n",
              "        console.error('Error during call to suggestCharts:', error);\n",
              "      }\n",
              "      quickchartButtonEl.classList.remove('colab-df-spinner');\n",
              "      quickchartButtonEl.classList.add('colab-df-quickchart-complete');\n",
              "    }\n",
              "    (() => {\n",
              "      let quickchartButtonEl =\n",
              "        document.querySelector('#df-57a9cae8-8c4e-448e-bf01-2a30744ff710 button');\n",
              "      quickchartButtonEl.style.display =\n",
              "        google.colab.kernel.accessAllowed ? 'block' : 'none';\n",
              "    })();\n",
              "  </script>\n",
              "</div>\n",
              "    </div>\n",
              "  </div>\n"
            ]
          },
          "metadata": {},
          "execution_count": 6
        }
      ]
    },
    {
      "cell_type": "code",
      "source": [
        "dfD.head()"
      ],
      "metadata": {
        "colab": {
          "base_uri": "https://localhost:8080/",
          "height": 206
        },
        "id": "BxHoi3LJ2OCk",
        "outputId": "f793eb4b-d9a6-40ed-f8ad-06290fb448df"
      },
      "execution_count": 7,
      "outputs": [
        {
          "output_type": "execute_result",
          "data": {
            "text/plain": [
              "     D1    D2    D3    D4  D5  D6     D7 D8     D9     D10  D11 D12   D13\n",
              "0  2050  2243  2289  2650  13   7  north  Y  6.421  4.9671    2   Y  1639\n",
              "1  2080  2255  2355  2600   8   4  north  Y  7.185  4.9671    2   Y  1088\n",
              "2  2150  2307  2443  2664   6   5  north  Y  6.998  6.0622    3   Y  1193\n",
              "3  2150  2232  2351  2921   3   6  north  Y  7.147  6.0622    3   Y  1635\n",
              "4  1999  2054  2113  2580   4   4  north  Y  6.430  6.0622    3   Y  1732"
            ],
            "text/html": [
              "\n",
              "  <div id=\"df-c115f6db-1302-43cb-bb36-d9172d30d727\" class=\"colab-df-container\">\n",
              "    <div>\n",
              "<style scoped>\n",
              "    .dataframe tbody tr th:only-of-type {\n",
              "        vertical-align: middle;\n",
              "    }\n",
              "\n",
              "    .dataframe tbody tr th {\n",
              "        vertical-align: top;\n",
              "    }\n",
              "\n",
              "    .dataframe thead th {\n",
              "        text-align: right;\n",
              "    }\n",
              "</style>\n",
              "<table border=\"1\" class=\"dataframe\">\n",
              "  <thead>\n",
              "    <tr style=\"text-align: right;\">\n",
              "      <th></th>\n",
              "      <th>D1</th>\n",
              "      <th>D2</th>\n",
              "      <th>D3</th>\n",
              "      <th>D4</th>\n",
              "      <th>D5</th>\n",
              "      <th>D6</th>\n",
              "      <th>D7</th>\n",
              "      <th>D8</th>\n",
              "      <th>D9</th>\n",
              "      <th>D10</th>\n",
              "      <th>D11</th>\n",
              "      <th>D12</th>\n",
              "      <th>D13</th>\n",
              "    </tr>\n",
              "  </thead>\n",
              "  <tbody>\n",
              "    <tr>\n",
              "      <th>0</th>\n",
              "      <td>2050</td>\n",
              "      <td>2243</td>\n",
              "      <td>2289</td>\n",
              "      <td>2650</td>\n",
              "      <td>13</td>\n",
              "      <td>7</td>\n",
              "      <td>north</td>\n",
              "      <td>Y</td>\n",
              "      <td>6.421</td>\n",
              "      <td>4.9671</td>\n",
              "      <td>2</td>\n",
              "      <td>Y</td>\n",
              "      <td>1639</td>\n",
              "    </tr>\n",
              "    <tr>\n",
              "      <th>1</th>\n",
              "      <td>2080</td>\n",
              "      <td>2255</td>\n",
              "      <td>2355</td>\n",
              "      <td>2600</td>\n",
              "      <td>8</td>\n",
              "      <td>4</td>\n",
              "      <td>north</td>\n",
              "      <td>Y</td>\n",
              "      <td>7.185</td>\n",
              "      <td>4.9671</td>\n",
              "      <td>2</td>\n",
              "      <td>Y</td>\n",
              "      <td>1088</td>\n",
              "    </tr>\n",
              "    <tr>\n",
              "      <th>2</th>\n",
              "      <td>2150</td>\n",
              "      <td>2307</td>\n",
              "      <td>2443</td>\n",
              "      <td>2664</td>\n",
              "      <td>6</td>\n",
              "      <td>5</td>\n",
              "      <td>north</td>\n",
              "      <td>Y</td>\n",
              "      <td>6.998</td>\n",
              "      <td>6.0622</td>\n",
              "      <td>3</td>\n",
              "      <td>Y</td>\n",
              "      <td>1193</td>\n",
              "    </tr>\n",
              "    <tr>\n",
              "      <th>3</th>\n",
              "      <td>2150</td>\n",
              "      <td>2232</td>\n",
              "      <td>2351</td>\n",
              "      <td>2921</td>\n",
              "      <td>3</td>\n",
              "      <td>6</td>\n",
              "      <td>north</td>\n",
              "      <td>Y</td>\n",
              "      <td>7.147</td>\n",
              "      <td>6.0622</td>\n",
              "      <td>3</td>\n",
              "      <td>Y</td>\n",
              "      <td>1635</td>\n",
              "    </tr>\n",
              "    <tr>\n",
              "      <th>4</th>\n",
              "      <td>1999</td>\n",
              "      <td>2054</td>\n",
              "      <td>2113</td>\n",
              "      <td>2580</td>\n",
              "      <td>4</td>\n",
              "      <td>4</td>\n",
              "      <td>north</td>\n",
              "      <td>Y</td>\n",
              "      <td>6.430</td>\n",
              "      <td>6.0622</td>\n",
              "      <td>3</td>\n",
              "      <td>Y</td>\n",
              "      <td>1732</td>\n",
              "    </tr>\n",
              "  </tbody>\n",
              "</table>\n",
              "</div>\n",
              "    <div class=\"colab-df-buttons\">\n",
              "\n",
              "  <div class=\"colab-df-container\">\n",
              "    <button class=\"colab-df-convert\" onclick=\"convertToInteractive('df-c115f6db-1302-43cb-bb36-d9172d30d727')\"\n",
              "            title=\"Convert this dataframe to an interactive table.\"\n",
              "            style=\"display:none;\">\n",
              "\n",
              "  <svg xmlns=\"http://www.w3.org/2000/svg\" height=\"24px\" viewBox=\"0 -960 960 960\">\n",
              "    <path d=\"M120-120v-720h720v720H120Zm60-500h600v-160H180v160Zm220 220h160v-160H400v160Zm0 220h160v-160H400v160ZM180-400h160v-160H180v160Zm440 0h160v-160H620v160ZM180-180h160v-160H180v160Zm440 0h160v-160H620v160Z\"/>\n",
              "  </svg>\n",
              "    </button>\n",
              "\n",
              "  <style>\n",
              "    .colab-df-container {\n",
              "      display:flex;\n",
              "      gap: 12px;\n",
              "    }\n",
              "\n",
              "    .colab-df-convert {\n",
              "      background-color: #E8F0FE;\n",
              "      border: none;\n",
              "      border-radius: 50%;\n",
              "      cursor: pointer;\n",
              "      display: none;\n",
              "      fill: #1967D2;\n",
              "      height: 32px;\n",
              "      padding: 0 0 0 0;\n",
              "      width: 32px;\n",
              "    }\n",
              "\n",
              "    .colab-df-convert:hover {\n",
              "      background-color: #E2EBFA;\n",
              "      box-shadow: 0px 1px 2px rgba(60, 64, 67, 0.3), 0px 1px 3px 1px rgba(60, 64, 67, 0.15);\n",
              "      fill: #174EA6;\n",
              "    }\n",
              "\n",
              "    .colab-df-buttons div {\n",
              "      margin-bottom: 4px;\n",
              "    }\n",
              "\n",
              "    [theme=dark] .colab-df-convert {\n",
              "      background-color: #3B4455;\n",
              "      fill: #D2E3FC;\n",
              "    }\n",
              "\n",
              "    [theme=dark] .colab-df-convert:hover {\n",
              "      background-color: #434B5C;\n",
              "      box-shadow: 0px 1px 3px 1px rgba(0, 0, 0, 0.15);\n",
              "      filter: drop-shadow(0px 1px 2px rgba(0, 0, 0, 0.3));\n",
              "      fill: #FFFFFF;\n",
              "    }\n",
              "  </style>\n",
              "\n",
              "    <script>\n",
              "      const buttonEl =\n",
              "        document.querySelector('#df-c115f6db-1302-43cb-bb36-d9172d30d727 button.colab-df-convert');\n",
              "      buttonEl.style.display =\n",
              "        google.colab.kernel.accessAllowed ? 'block' : 'none';\n",
              "\n",
              "      async function convertToInteractive(key) {\n",
              "        const element = document.querySelector('#df-c115f6db-1302-43cb-bb36-d9172d30d727');\n",
              "        const dataTable =\n",
              "          await google.colab.kernel.invokeFunction('convertToInteractive',\n",
              "                                                    [key], {});\n",
              "        if (!dataTable) return;\n",
              "\n",
              "        const docLinkHtml = 'Like what you see? Visit the ' +\n",
              "          '<a target=\"_blank\" href=https://colab.research.google.com/notebooks/data_table.ipynb>data table notebook</a>'\n",
              "          + ' to learn more about interactive tables.';\n",
              "        element.innerHTML = '';\n",
              "        dataTable['output_type'] = 'display_data';\n",
              "        await google.colab.output.renderOutput(dataTable, element);\n",
              "        const docLink = document.createElement('div');\n",
              "        docLink.innerHTML = docLinkHtml;\n",
              "        element.appendChild(docLink);\n",
              "      }\n",
              "    </script>\n",
              "  </div>\n",
              "\n",
              "\n",
              "<div id=\"df-94398f93-38c7-4fa4-b766-9b4ffa75bb9b\">\n",
              "  <button class=\"colab-df-quickchart\" onclick=\"quickchart('df-94398f93-38c7-4fa4-b766-9b4ffa75bb9b')\"\n",
              "            title=\"Suggest charts\"\n",
              "            style=\"display:none;\">\n",
              "\n",
              "<svg xmlns=\"http://www.w3.org/2000/svg\" height=\"24px\"viewBox=\"0 0 24 24\"\n",
              "     width=\"24px\">\n",
              "    <g>\n",
              "        <path d=\"M19 3H5c-1.1 0-2 .9-2 2v14c0 1.1.9 2 2 2h14c1.1 0 2-.9 2-2V5c0-1.1-.9-2-2-2zM9 17H7v-7h2v7zm4 0h-2V7h2v10zm4 0h-2v-4h2v4z\"/>\n",
              "    </g>\n",
              "</svg>\n",
              "  </button>\n",
              "\n",
              "<style>\n",
              "  .colab-df-quickchart {\n",
              "      --bg-color: #E8F0FE;\n",
              "      --fill-color: #1967D2;\n",
              "      --hover-bg-color: #E2EBFA;\n",
              "      --hover-fill-color: #174EA6;\n",
              "      --disabled-fill-color: #AAA;\n",
              "      --disabled-bg-color: #DDD;\n",
              "  }\n",
              "\n",
              "  [theme=dark] .colab-df-quickchart {\n",
              "      --bg-color: #3B4455;\n",
              "      --fill-color: #D2E3FC;\n",
              "      --hover-bg-color: #434B5C;\n",
              "      --hover-fill-color: #FFFFFF;\n",
              "      --disabled-bg-color: #3B4455;\n",
              "      --disabled-fill-color: #666;\n",
              "  }\n",
              "\n",
              "  .colab-df-quickchart {\n",
              "    background-color: var(--bg-color);\n",
              "    border: none;\n",
              "    border-radius: 50%;\n",
              "    cursor: pointer;\n",
              "    display: none;\n",
              "    fill: var(--fill-color);\n",
              "    height: 32px;\n",
              "    padding: 0;\n",
              "    width: 32px;\n",
              "  }\n",
              "\n",
              "  .colab-df-quickchart:hover {\n",
              "    background-color: var(--hover-bg-color);\n",
              "    box-shadow: 0 1px 2px rgba(60, 64, 67, 0.3), 0 1px 3px 1px rgba(60, 64, 67, 0.15);\n",
              "    fill: var(--button-hover-fill-color);\n",
              "  }\n",
              "\n",
              "  .colab-df-quickchart-complete:disabled,\n",
              "  .colab-df-quickchart-complete:disabled:hover {\n",
              "    background-color: var(--disabled-bg-color);\n",
              "    fill: var(--disabled-fill-color);\n",
              "    box-shadow: none;\n",
              "  }\n",
              "\n",
              "  .colab-df-spinner {\n",
              "    border: 2px solid var(--fill-color);\n",
              "    border-color: transparent;\n",
              "    border-bottom-color: var(--fill-color);\n",
              "    animation:\n",
              "      spin 1s steps(1) infinite;\n",
              "  }\n",
              "\n",
              "  @keyframes spin {\n",
              "    0% {\n",
              "      border-color: transparent;\n",
              "      border-bottom-color: var(--fill-color);\n",
              "      border-left-color: var(--fill-color);\n",
              "    }\n",
              "    20% {\n",
              "      border-color: transparent;\n",
              "      border-left-color: var(--fill-color);\n",
              "      border-top-color: var(--fill-color);\n",
              "    }\n",
              "    30% {\n",
              "      border-color: transparent;\n",
              "      border-left-color: var(--fill-color);\n",
              "      border-top-color: var(--fill-color);\n",
              "      border-right-color: var(--fill-color);\n",
              "    }\n",
              "    40% {\n",
              "      border-color: transparent;\n",
              "      border-right-color: var(--fill-color);\n",
              "      border-top-color: var(--fill-color);\n",
              "    }\n",
              "    60% {\n",
              "      border-color: transparent;\n",
              "      border-right-color: var(--fill-color);\n",
              "    }\n",
              "    80% {\n",
              "      border-color: transparent;\n",
              "      border-right-color: var(--fill-color);\n",
              "      border-bottom-color: var(--fill-color);\n",
              "    }\n",
              "    90% {\n",
              "      border-color: transparent;\n",
              "      border-bottom-color: var(--fill-color);\n",
              "    }\n",
              "  }\n",
              "</style>\n",
              "\n",
              "  <script>\n",
              "    async function quickchart(key) {\n",
              "      const quickchartButtonEl =\n",
              "        document.querySelector('#' + key + ' button');\n",
              "      quickchartButtonEl.disabled = true;  // To prevent multiple clicks.\n",
              "      quickchartButtonEl.classList.add('colab-df-spinner');\n",
              "      try {\n",
              "        const charts = await google.colab.kernel.invokeFunction(\n",
              "            'suggestCharts', [key], {});\n",
              "      } catch (error) {\n",
              "        console.error('Error during call to suggestCharts:', error);\n",
              "      }\n",
              "      quickchartButtonEl.classList.remove('colab-df-spinner');\n",
              "      quickchartButtonEl.classList.add('colab-df-quickchart-complete');\n",
              "    }\n",
              "    (() => {\n",
              "      let quickchartButtonEl =\n",
              "        document.querySelector('#df-94398f93-38c7-4fa4-b766-9b4ffa75bb9b button');\n",
              "      quickchartButtonEl.style.display =\n",
              "        google.colab.kernel.accessAllowed ? 'block' : 'none';\n",
              "    })();\n",
              "  </script>\n",
              "</div>\n",
              "    </div>\n",
              "  </div>\n"
            ]
          },
          "metadata": {},
          "execution_count": 7
        }
      ]
    },
    {
      "cell_type": "markdown",
      "source": [
        "1) Описательные статистики"
      ],
      "metadata": {
        "id": "pXM_03fD2sbh"
      }
    },
    {
      "cell_type": "code",
      "source": [
        "# functions\n",
        "def mean_(n):\n",
        "  summ = 0\n",
        "  for i in n:\n",
        "    summ += i\n",
        "  return summ / n.shape[0]\n",
        "\n",
        "def var_(n):\n",
        "  summ = 0\n",
        "  for i in n:\n",
        "    summ += (i - mean_(n)) ** 2\n",
        "  return summ / (n.shape[0] - 1)\n",
        "\n",
        "def skew_(n):\n",
        "  summ = 0\n",
        "  for i in n:\n",
        "    summ += (i - mean_(n)) ** 3\n",
        "  chislitel = summ / n.shape[0]\n",
        "\n",
        "  summ = 0\n",
        "  for i in n:\n",
        "    summ += (i - mean_(n)) ** 2\n",
        "  znamenatel = (summ / n.shape[0]) ** (3/2)\n",
        "  return chislitel / znamenatel\n",
        "\n",
        "\n",
        "def kurt_(n):\n",
        "  summ = 0\n",
        "  for i in n:\n",
        "    summ += (i - mean_(n)) ** 4\n",
        "  chislitel = summ / n.shape[0]\n",
        "\n",
        "  summ = 0\n",
        "  for i in n:\n",
        "    summ += (i - mean_(n)) ** 2\n",
        "  znamenatel = (summ / n.shape[0]) ** (2)\n",
        "  return (chislitel / znamenatel) - 3\n",
        "\n"
      ],
      "metadata": {
        "id": "YWIe0Nze6t5a"
      },
      "execution_count": 8,
      "outputs": []
    },
    {
      "cell_type": "code",
      "source": [
        "# Анализируемый признак 1 – C6\n",
        "c6 = dfC[\"C6\"]\n",
        "\n",
        "print(\"Анализируемые признаки 1 – C6\")\n",
        "print(\"Объём выборки: \", c6.shape)\n",
        "print(\"Среднее \", mean_(c6))\n",
        "print(\"Выборочная дисперсия \", var_(c6))\n",
        "print(\"Выборочное среднеквадратическое отклонение:\", var_(c6) ** 0.5)\n",
        "print(\"Выборочный коэффициент асимметрии \", skew_(c6))\n",
        "print(\"Выборочный эксцесс \", kurt_(c6))\n"
      ],
      "metadata": {
        "colab": {
          "base_uri": "https://localhost:8080/"
        },
        "id": "cMCiVm3K2j-L",
        "outputId": "b01b7564-8cd7-4722-fba6-512b760f831d"
      },
      "execution_count": 9,
      "outputs": [
        {
          "output_type": "stream",
          "name": "stdout",
          "text": [
            "Анализируемые признаки 1 – C6\n",
            "Объём выборки:  (315,)\n",
            "Среднее  1796.654603174603\n",
            "Выборочная дисперсия  462872.6321045395\n",
            "Выборочное среднеквадратическое отклонение: 680.3474348482101\n",
            "Выборочный коэффициент асимметрии  1.742783502975035\n",
            "Выборочный эксцесс  7.9797929564710035\n"
          ]
        }
      ]
    },
    {
      "cell_type": "code",
      "source": [
        "# Анализируемый признак 2 – C7\n",
        "c7 = dfC[\"C7\"]\n",
        "\n",
        "print(\"Анализируемые признаки 2 – C7\")\n",
        "print(\"Объём выборки: \", c7.shape)\n",
        "print(\"Среднее \", mean_(c7))\n",
        "print(\"Выборочная дисперсия \", var_(c7))\n",
        "print(\"Выборочное среднеквадратическое отклонение:\", var_(c7) ** 0.5)\n",
        "print(\"Выборочный коэффициент асимметрии \", skew_(c7))\n",
        "print(\"Выборочный эксцесс \", kurt_(c7))\n"
      ],
      "metadata": {
        "colab": {
          "base_uri": "https://localhost:8080/"
        },
        "id": "vBaQ-CE15DbT",
        "outputId": "1178ef15-2ee8-4b69-855b-9366d07222e5"
      },
      "execution_count": 10,
      "outputs": [
        {
          "output_type": "stream",
          "name": "stdout",
          "text": [
            "Анализируемые признаки 2 – C7\n",
            "Объём выборки:  (315,)\n",
            "Среднее  77.03333333333332\n",
            "Выборочная дисперсия  1144.431210191083\n",
            "Выборочное среднеквадратическое отклонение: 33.82944294828224\n",
            "Выборочный коэффициент асимметрии  1.0989962157492996\n",
            "Выборочный эксцесс  1.964799184935221\n"
          ]
        }
      ]
    },
    {
      "cell_type": "code",
      "source": [
        "# Анализируемый признак 3 – C8\n",
        "c8 = dfC[\"C8\"]\n",
        "\n",
        "print(\"Анализируемые признаки 3 – C8\")\n",
        "print(\"Объём выборки: \", c8.shape)\n",
        "print(\"Среднее \", mean_(c8))\n",
        "print(\"Выборочная дисперсия \", var_(c8))\n",
        "print(\"Выборочное среднеквадратическое отклонение:\", var_(c8) ** 0.5)\n",
        "print(\"Выборочный коэффициент асимметрии \", skew_(c8))\n",
        "print(\"Выборочный эксцесс \", kurt_(c8))\n"
      ],
      "metadata": {
        "colab": {
          "base_uri": "https://localhost:8080/"
        },
        "id": "eX6PesOpACyw",
        "outputId": "b21183f1-2b57-45da-e86d-b799040df3a7"
      },
      "execution_count": 11,
      "outputs": [
        {
          "output_type": "stream",
          "name": "stdout",
          "text": [
            "Анализируемые признаки 3 – C8\n",
            "Объём выборки:  (315,)\n",
            "Среднее  12.788571428571426\n",
            "Выборочная дисперсия  28.41095177434033\n",
            "Выборочное среднеквадратическое отклонение: 5.330192470665607\n",
            "Выборочный коэффициент асимметрии  1.1474359426750291\n",
            "Выборочный эксцесс  2.4252870088749017\n"
          ]
        }
      ]
    },
    {
      "cell_type": "code",
      "source": [
        "import numpy as np\n",
        "import matplotlib.pyplot as plt\n",
        "\n",
        "data = c6\n",
        "\n",
        "num_groups_sqrt = int(np.sqrt(len(data)))\n",
        "\n",
        "print(\"Число групп \", num_groups_sqrt)\n",
        "\n",
        "# Построение гистограммы\n",
        "hist_values, bin_edges, _ = plt.hist(data, bins=num_groups_sqrt, color='blue', alpha=0.7, edgecolor='black')\n",
        "\n",
        "\n",
        "\n",
        "plt.title('Гистограмма выборки')\n",
        "plt.xlabel('Значение')\n",
        "plt.ylabel('Частота')\n",
        "plt.legend()\n",
        "\n",
        "plt.show()\n",
        "\n",
        "print(\"Интервалы: \", bin_edges[1] - bin_edges[0])\n",
        "\n"
      ],
      "metadata": {
        "colab": {
          "base_uri": "https://localhost:8080/",
          "height": 544
        },
        "id": "xLB9nGkVBw5b",
        "outputId": "fcf8ddcd-6284-4489-a1d8-9389be10929b"
      },
      "execution_count": 12,
      "outputs": [
        {
          "output_type": "stream",
          "name": "stdout",
          "text": [
            "Число групп  17\n"
          ]
        },
        {
          "output_type": "stream",
          "name": "stderr",
          "text": [
            "WARNING:matplotlib.legend:No artists with labels found to put in legend.  Note that artists whose label start with an underscore are ignored when legend() is called with no argument.\n"
          ]
        },
        {
          "output_type": "display_data",
          "data": {
            "text/plain": [
              "<Figure size 640x480 with 1 Axes>"
            ],
            "image/png": "[encoded data removed]"
          },
          "metadata": {}
        },
        {
          "output_type": "stream",
          "name": "stdout",
          "text": [
            "Интервалы:  365.70588235294116\n"
          ]
        }
      ]
    },
    {
      "cell_type": "code",
      "source": [
        "# Строим таблицу частот\n",
        "\n",
        "# Вычисление относительых частот\n",
        "relative_frequency = hist_values / len(c6)\n",
        "\n",
        "# Вычисление накопленной частоты\n",
        "accumulated_frequency = np.cumsum(hist_values)\n",
        "\n",
        "# Вычисление относительной накопленной частоты\n",
        "cumulative_relative_frequency = np.cumsum(relative_frequency)\n",
        "\n",
        "for i in range(len(bin_edges) - 1):\n",
        "    print(i + 1, round(bin_edges[i], 4), round(bin_edges[i + 1], 4), hist_values[i], round(hist_values[i] / c6.shape[0], 4), accumulated_frequency[i], round(cumulative_relative_frequency[i], 4))"
      ],
      "metadata": {
        "colab": {
          "base_uri": "https://localhost:8080/"
        },
        "id": "Ff8BA-z7DkTe",
        "outputId": "7ec34981-3574-4b55-be9d-5f5f55ed71d0"
      },
      "execution_count": 13,
      "outputs": [
        {
          "output_type": "stream",
          "name": "stdout",
          "text": [
            "1 445.2 810.9059 7.0 0.0222 7.0 0.0222\n",
            "2 810.9059 1176.6118 39.0 0.1238 46.0 0.146\n",
            "3 1176.6118 1542.3176 75.0 0.2381 121.0 0.3841\n",
            "4 1542.3176 1908.0235 84.0 0.2667 205.0 0.6508\n",
            "5 1908.0235 2273.7294 51.0 0.1619 256.0 0.8127\n",
            "6 2273.7294 2639.4353 23.0 0.073 279.0 0.8857\n",
            "7 2639.4353 3005.1412 18.0 0.0571 297.0 0.9429\n",
            "8 3005.1412 3370.8471 12.0 0.0381 309.0 0.981\n",
            "9 3370.8471 3736.5529 4.0 0.0127 313.0 0.9937\n",
            "10 3736.5529 4102.2588 0.0 0.0 313.0 0.9937\n",
            "11 4102.2588 4467.9647 1.0 0.0032 314.0 0.9968\n",
            "12 4467.9647 4833.6706 0.0 0.0 314.0 0.9968\n",
            "13 4833.6706 5199.3765 0.0 0.0 314.0 0.9968\n",
            "14 5199.3765 5565.0824 0.0 0.0 314.0 0.9968\n",
            "15 5565.0824 5930.7882 0.0 0.0 314.0 0.9968\n",
            "16 5930.7882 6296.4941 0.0 0.0 314.0 0.9968\n",
            "17 6296.4941 6662.2 1.0 0.0032 315.0 1.0\n"
          ]
        }
      ]
    },
    {
      "cell_type": "code",
      "source": [
        "# Построение Гистограммы и полигона частот\n",
        "import numpy as np\n",
        "import matplotlib.pyplot as plt\n",
        "\n",
        "# Построение гистограммы частот\n",
        "plt.bar(bin_edges[:-1], hist_values, width= bin_edges[1] - bin_edges[0], edgecolor='black', alpha=0.7)\n",
        "plt.title('Гистограмма с частотами')\n",
        "plt.xlabel('Значение')\n",
        "plt.ylabel('Частота')\n",
        "\n",
        "# Построение полигона частот\n",
        "plt.figure()\n",
        "plt.plot(bin_edges[:-1], hist_values, marker='o', linestyle='-', color='b', label='Частота')\n",
        "plt.title('Полигон частот')\n",
        "plt.xlabel('Значение')\n",
        "plt.ylabel('частота')\n",
        "plt.legend()\n",
        "\n",
        "# Отображение графиков\n",
        "plt.show()\n"
      ],
      "metadata": {
        "colab": {
          "base_uri": "https://localhost:8080/",
          "height": 927
        },
        "id": "kJfsAnFsIpa3",
        "outputId": "9c7b8894-6a16-4f2a-f532-fdd40cc35bea"
      },
      "execution_count": 14,
      "outputs": [
        {
          "output_type": "display_data",
          "data": {
            "text/plain": [
              "<Figure size 640x480 with 1 Axes>"
            ],
            "image/png": "[encoded data removed]"
          },
          "metadata": {}
        },
        {
          "output_type": "display_data",
          "data": {
            "text/plain": [
              "<Figure size 640x480 with 1 Axes>"
            ],
            "image/png": "[encoded data removed]"
          },
          "metadata": {}
        }
      ]
    },
    {
      "cell_type": "code",
      "source": [
        "# Построение Гистограммы и полигона относительных частот\n",
        "import numpy as np\n",
        "import matplotlib.pyplot as plt\n",
        "\n",
        "# Построение гистограммы относительных частот\n",
        "plt.bar(bin_edges[:-1], relative_frequency, width= bin_edges[1] - bin_edges[0], edgecolor='black', alpha=0.7)\n",
        "plt.title('Гистограмма с относительными частотами')\n",
        "plt.xlabel('Значение')\n",
        "plt.ylabel('Относительная Частота')\n",
        "\n",
        "# Построение полигона относительных частот\n",
        "plt.figure()\n",
        "plt.plot(bin_edges[:-1], relative_frequency, marker='o', linestyle='-', color='b', label='Относительная частота')\n",
        "plt.title('Полигон относительных частот')\n",
        "plt.xlabel('Значение')\n",
        "plt.ylabel('Относительная частота')\n",
        "plt.legend()\n",
        "\n",
        "plt.show()\n"
      ],
      "metadata": {
        "colab": {
          "base_uri": "https://localhost:8080/",
          "height": 927
        },
        "id": "BuU_JqFuJeOO",
        "outputId": "e77862f8-46b4-40f8-c2a8-7c1fd744734b"
      },
      "execution_count": 15,
      "outputs": [
        {
          "output_type": "display_data",
          "data": {
            "text/plain": [
              "<Figure size 640x480 with 1 Axes>"
            ],
            "image/png": "[encoded data removed]"
          },
          "metadata": {}
        },
        {
          "output_type": "display_data",
          "data": {
            "text/plain": [
              "<Figure size 640x480 with 1 Axes>"
            ],
            "image/png": "[encoded data removed]"
          },
          "metadata": {}
        }
      ]
    },
    {
      "cell_type": "code",
      "source": [
        "# Построение Гистограммы и полигона накопленных частот\n",
        "import numpy as np\n",
        "import matplotlib.pyplot as plt\n",
        "\n",
        "# Построение гистограммы накопленных частот\n",
        "plt.bar(bin_edges[:-1], accumulated_frequency, width= bin_edges[1] - bin_edges[0], edgecolor='black', alpha=0.7)\n",
        "plt.title('Гистограмма с накопленными частотами')\n",
        "plt.xlabel('Значение')\n",
        "plt.ylabel('Накопленные Частота')\n",
        "\n",
        "# Построение полигона накопленных частот\n",
        "plt.figure()\n",
        "plt.plot(bin_edges[:-1], accumulated_frequency, marker='o', linestyle='-', color='b', label='Накопленная частота')\n",
        "plt.title('Полигон накопленных частот')\n",
        "plt.xlabel('Значение')\n",
        "plt.ylabel('Накопленная частота')\n",
        "plt.legend()\n",
        "\n",
        "plt.show()\n"
      ],
      "metadata": {
        "colab": {
          "base_uri": "https://localhost:8080/",
          "height": 927
        },
        "id": "P69g_4VqKFoz",
        "outputId": "29e2d5c1-84c8-4704-f94a-ddcebdb4fca6"
      },
      "execution_count": 16,
      "outputs": [
        {
          "output_type": "display_data",
          "data": {
            "text/plain": [
              "<Figure size 640x480 with 1 Axes>"
            ],
            "image/png": "[encoded data removed]"
          },
          "metadata": {}
        },
        {
          "output_type": "display_data",
          "data": {
            "text/plain": [
              "<Figure size 640x480 with 1 Axes>"
            ],
            "image/png": "[encoded data removed]"
          },
          "metadata": {}
        }
      ]
    },
    {
      "cell_type": "code",
      "source": [
        "# Построение Гистограммы и полигона накопленных относительных частот\n",
        "import numpy as np\n",
        "import matplotlib.pyplot as plt\n",
        "\n",
        "# Построение гистограммы накопленных относительных частот\n",
        "plt.bar(bin_edges[:-1], cumulative_relative_frequency, width= bin_edges[1] - bin_edges[0], edgecolor='black', alpha=0.7)\n",
        "plt.title('Гистограмма с накопленными относительными частотами')\n",
        "plt.xlabel('Значение')\n",
        "plt.ylabel('Накопленная относительная Частота')\n",
        "\n",
        "# Построение полигона накопленных относительных частот\n",
        "plt.figure()\n",
        "plt.plot(bin_edges[:-1], cumulative_relative_frequency, marker='o', linestyle='-', color='b', label='Накопленная относительная частота')\n",
        "plt.title('Полигон накопленных относительных частот')\n",
        "plt.xlabel('Значение')\n",
        "plt.ylabel('Накопленная относительная частота')\n",
        "plt.legend()\n",
        "\n",
        "plt.show()\n"
      ],
      "metadata": {
        "colab": {
          "base_uri": "https://localhost:8080/",
          "height": 927
        },
        "id": "b8_xapVgKZnN",
        "outputId": "cd91043c-ccd1-4ac1-9f62-9c7f7fcccb37"
      },
      "execution_count": 17,
      "outputs": [
        {
          "output_type": "display_data",
          "data": {
            "text/plain": [
              "<Figure size 640x480 with 1 Axes>"
            ],
            "image/png": "[encoded data removed]"
          },
          "metadata": {}
        },
        {
          "output_type": "display_data",
          "data": {
            "text/plain": [
              "<Figure size 640x480 with 1 Axes>"
            ],
            "image/png": "[encoded data removed]"
          },
          "metadata": {}
        }
      ]
    },
    {
      "cell_type": "code",
      "source": [
        "# Построение ЭФР\n",
        "\n",
        "import numpy as np\n",
        "import matplotlib.pyplot as plt\n",
        "\n",
        "data = c6\n",
        "\n",
        "# Сортировка данных\n",
        "sorted_data = np.sort(data)\n",
        "\n",
        "# Вычисление эмпирической функции распределения (ЭФР)\n",
        "ecdf = np.arange(1, len(sorted_data) + 1) / len(sorted_data)\n",
        "\n",
        "# Построение графика ЭФР\n",
        "plt.step(sorted_data, ecdf, where='post', color='b', label='Эмпирическая Функция Распределения (ЭФР)')\n",
        "\n",
        "#  подписей\n",
        "plt.title('Эмпирическая Функция Распределения (ЭФР)')\n",
        "plt.xlabel('Значение')\n",
        "plt.ylabel('Вероятность')\n",
        "plt.legend()\n",
        "\n",
        "plt.show()\n"
      ],
      "metadata": {
        "colab": {
          "base_uri": "https://localhost:8080/",
          "height": 472
        },
        "id": "vkwXQu9tK8mZ",
        "outputId": "d177c97d-2ca0-40e7-9def-84532152677e"
      },
      "execution_count": 18,
      "outputs": [
        {
          "output_type": "display_data",
          "data": {
            "text/plain": [
              "<Figure size 640x480 with 1 Axes>"
            ],
            "image/png": "[encoded data removed]"
          },
          "metadata": {}
        }
      ]
    },
    {
      "cell_type": "markdown",
      "source": [
        "2. Интервальные оценки"
      ],
      "metadata": {
        "id": "2d0Z5ARXLR6S"
      }
    },
    {
      "cell_type": "code",
      "source": [
        "# 2.1 Рассчитать доверительные интервалы мат. ожидания\n",
        "\n",
        "import numpy as np\n",
        "import scipy.stats as stats\n",
        "\n",
        "def get_confidence_interval(confidence_level, data):\n",
        "    # Вычисление стандартного отклонения\n",
        "    population_std_dev = np.std(data)\n",
        "\n",
        "    sample_mean = np.mean(data)\n",
        "\n",
        "    # Вычисление Z-значения\n",
        "    z_value = stats.norm.ppf((1 + confidence_level) / 2)\n",
        "\n",
        "    # Вычисление доверительного интервала\n",
        "    margin_of_error = z_value * (population_std_dev / np.sqrt(len(data)))\n",
        "    confidence_interval = (sample_mean - margin_of_error, sample_mean + margin_of_error)\n",
        "\n",
        "    return confidence_interval\n"
      ],
      "metadata": {
        "id": "e51GhB_FLSrN"
      },
      "execution_count": 19,
      "outputs": []
    },
    {
      "cell_type": "code",
      "source": [
        "# 2.1 Рассчитать доверительные интервалы мат. ожидания\n",
        "print(\"Доверительный интервал при a = 0.01\", get_confidence_interval(0.01, c6))\n",
        "print(\"Доверительный интервал при a = 0.05\", get_confidence_interval(0.05, c6))\n",
        "print(\"Доверительный интервал при a = 0.1\", get_confidence_interval(0.1, c6))"
      ],
      "metadata": {
        "colab": {
          "base_uri": "https://localhost:8080/"
        },
        "id": "IBVc5p1EPcFM",
        "outputId": "167f5f04-b3ed-4d11-bc1b-d4ffa09550d5"
      },
      "execution_count": 20,
      "outputs": [
        {
          "output_type": "stream",
          "name": "stdout",
          "text": [
            "Доверительный интервал при a = 0.01 (1796.1749179618073, 1797.1342883873986)\n",
            "Доверительный интервал при a = 0.05 (1794.2546680168193, 1799.0545383323865)\n",
            "Доверительный интервал при a = 0.1 (1791.8452493187083, 1801.4639570304976)\n"
          ]
        }
      ]
    },
    {
      "cell_type": "code",
      "source": [
        "# 2.2 Доверительные интервалы для дисперсии\n",
        "import numpy as np\n",
        "from scipy.stats import chi2\n",
        "\n",
        "def confidence_interval_variance_normal(data, alpha=0.05):\n",
        "    n = len(data)\n",
        "    sample_variance = np.var(data)\n",
        "    df = n - 1  # Степени свободы\n",
        "\n",
        "    # Значения хи-квадрат\n",
        "    chi2_lower = chi2.ppf(alpha / 2, df)\n",
        "    chi2_upper = chi2.ppf(1 - alpha / 2, df)\n",
        "\n",
        "    # Доверительный интервал для дисперсии\n",
        "    ci_lower = ((n - 1) * sample_variance) / chi2_upper\n",
        "    ci_upper = ((n - 1) * sample_variance) / chi2_lower\n",
        "\n",
        "    return ci_lower, ci_upper\n",
        "\n",
        "data = c6\n",
        "alpha1 = 0.01\n",
        "ci_lower1, ci_upper1 = confidence_interval_variance_normal(data, alpha1)\n",
        "\n",
        "alpha2 = 0.05\n",
        "ci_lower2, ci_upper2 = confidence_interval_variance_normal(data, alpha2)\n",
        "\n",
        "alpha3 = 0.1\n",
        "ci_lower3, ci_upper3 = confidence_interval_variance_normal(data, alpha3)\n",
        "\n",
        "print(\"Доверительный интервал для дисперсии при уровне доверия, a =\", alpha1, \"- (\" + str(ci_lower1) + \",\" + str(ci_upper1) + \")\" )\n",
        "print(\"Доверительный интервал для дисперсии при уровне доверия, a =\", alpha2, \"- (\" + str(ci_lower2) + \",\" + str(ci_upper2) + \")\" )\n",
        "print(\"Доверительный интервал для дисперсии при уровне доверия, a =\", alpha3, \"- (\" + str(ci_lower3) + \",\" + str(ci_upper3) + \")\" )\n"
      ],
      "metadata": {
        "colab": {
          "base_uri": "https://localhost:8080/"
        },
        "id": "kiaHJyt0Spdl",
        "outputId": "8c96c2e0-49c0-4b7d-a18e-001d070b6674"
      },
      "execution_count": 21,
      "outputs": [
        {
          "output_type": "stream",
          "name": "stdout",
          "text": [
            "Доверительный интервал для дисперсии при уровне доверия, a = 0.01 - (378970.89762467495,572180.2021909474)\n",
            "Доверительный интервал для дисперсии при уровне доверия, a = 0.05 - (396952.10455301736,543022.0099425537)\n",
            "Доверительный интервал для дисперсии при уровне доверия, a = 0.1 - (406596.51652194676,528861.6398551537)\n"
          ]
        }
      ]
    },
    {
      "cell_type": "code",
      "source": [
        "# 2.3. Доверительные интервалы для разности мат. ожиданий С13, C14\n",
        "c13 = dfC[\"C13\"]\n",
        "c14 = dfC[\"C14\"]\n",
        "print(c13.shape, c14.shape)"
      ],
      "metadata": {
        "colab": {
          "base_uri": "https://localhost:8080/"
        },
        "id": "Dq9RExWJUAUP",
        "outputId": "9136b50f-3482-4689-ca8b-2fbdd9bc2c80"
      },
      "execution_count": 22,
      "outputs": [
        {
          "output_type": "stream",
          "name": "stdout",
          "text": [
            "(315,) (315,)\n"
          ]
        }
      ]
    },
    {
      "cell_type": "code",
      "source": [
        "# 2.3. Доверительные интервалы для разности мат. ожиданий С13, C14\n",
        "import numpy as np\n",
        "from scipy.stats import t\n",
        "\n",
        "def confidence_interval_difference_means(data1, data2, alpha=0.05):\n",
        "    n1 = len(data1)\n",
        "    n2 = len(data2)\n",
        "\n",
        "    mean1 = np.mean(data1)\n",
        "    mean2 = np.mean(data2)\n",
        "\n",
        "    std1 = np.std(data1, ddof=1)\n",
        "    std2 = np.std(data2, ddof=1)\n",
        "\n",
        "    df = n1 + n2 - 2  # Степени свободы\n",
        "\n",
        "    # Критическое значение t\n",
        "    t_value = t.ppf(1 - alpha / 2, df)\n",
        "\n",
        "    # Доверительный интервал для разности средних значений\n",
        "    margin_of_error = t_value * np.sqrt((std1**2 / n1) + (std2**2 / n2))\n",
        "    ci_lower = (mean1 - mean2) - margin_of_error\n",
        "    ci_upper = (mean1 - mean2) + margin_of_error\n",
        "\n",
        "    return ci_lower, ci_upper\n",
        "\n",
        "data1 = c13\n",
        "data2 = c14\n",
        "\n",
        "alpha1 = 0.01\n",
        "ci_lower1, ci_upper1 = confidence_interval_difference_means(data1, data2, alpha1)\n",
        "\n",
        "alpha2 = 0.05\n",
        "ci_lower2, ci_upper2 = confidence_interval_difference_means(data1, data2, alpha2)\n",
        "\n",
        "alpha3 = 0.1\n",
        "ci_lower3, ci_upper3 = confidence_interval_difference_means(data1, data2, alpha3)\n",
        "\n",
        "print(\"Доверительный интервал для разности средних, a =\", alpha1, \"- (\" + str(ci_lower1) + \",\" + str(ci_upper1) + \")\" )\n",
        "print(\"Доверительный интервал для разности средних, a =\", alpha2, \"- (\" + str(ci_lower2) + \",\" + str(ci_upper2) + \")\" )\n",
        "print(\"Доверительный интервал для разности средних, a =\", alpha3, \"- (\" + str(ci_lower3) + \",\" + str(ci_upper3) + \")\" )\n"
      ],
      "metadata": {
        "colab": {
          "base_uri": "https://localhost:8080/"
        },
        "id": "Pyeklk3mV71W",
        "outputId": "d676e6dc-1497-4a11-c449-6ef5b35318b3"
      },
      "execution_count": 23,
      "outputs": [
        {
          "output_type": "stream",
          "name": "stdout",
          "text": [
            "Доверительный интервал для разности средних, a = 0.01 - (-453.3267319085694,-372.470093488256)\n",
            "Доверительный интервал для разности средних, a = 0.05 - (-443.6263036888957,-382.1705217079297)\n",
            "Доверительный интервал для разности средних, a = 0.1 - (-438.6743954295366,-387.1224299672888)\n"
          ]
        }
      ]
    },
    {
      "cell_type": "code",
      "source": [
        "# 2.4. Доверительные интервалы для отношения дисперсий\n",
        "import numpy as np\n",
        "from scipy.stats import f\n",
        "\n",
        "def confidence_interval_ratio_variances(data1, data2, alpha=0.05):\n",
        "    n1 = len(data1)\n",
        "    n2 = len(data2)\n",
        "\n",
        "    var1 = np.var(data1, ddof=1)\n",
        "    var2 = np.var(data2, ddof=1)\n",
        "\n",
        "    # значения F-распределения\n",
        "    f_lower = 1 / f.ppf(alpha / 2, n1 - 1, n2 - 1)\n",
        "    f_upper = 1 / f.ppf(1 - alpha / 2, n1 - 1, n2 - 1)\n",
        "\n",
        "    # Доверительный интервал для отношения дисперсий\n",
        "    ci_lower = (var1 / var2) * f_lower\n",
        "    ci_upper = (var1 / var2) * f_upper\n",
        "\n",
        "    return ci_lower, ci_upper\n",
        "\n",
        "data1 = c13\n",
        "data2 = c14\n",
        "\n",
        "alpha1 = 0.01\n",
        "ci_lower1, ci_upper1 = confidence_interval_ratio_variances(data1, data2, alpha1)\n",
        "\n",
        "alpha2 = 0.05\n",
        "ci_lower2, ci_upper2 = confidence_interval_ratio_variances(data1, data2, alpha2)\n",
        "\n",
        "alpha3 = 0.1\n",
        "ci_lower3, ci_upper3 = confidence_interval_ratio_variances(data1, data2, alpha3)\n",
        "\n",
        "print(\"Доверительный интервал для отношения дисперсий при уровне доверия, a =\", alpha1, \"- (\" + str(ci_lower1) + \",\" + str(ci_upper1) + \")\")\n",
        "print(\"Доверительный интервал для отношения дисперсий при уровне доверия, a =\", alpha2, \"- (\" + str(ci_lower2) + \",\" + str(ci_upper2) + \")\")\n",
        "print(\"Доверительный интервал для отношения дисперсий при уровне доверия, a =\", alpha3, \"- (\" + str(ci_lower3) + \",\" + str(ci_upper3) + \")\")\n"
      ],
      "metadata": {
        "colab": {
          "base_uri": "https://localhost:8080/"
        },
        "id": "NiU6VKd7YQxA",
        "outputId": "3185d871-08a7-40d5-8f57-abbc5829413a"
      },
      "execution_count": 24,
      "outputs": [
        {
          "output_type": "stream",
          "name": "stdout",
          "text": [
            "Доверительный интервал для отношения дисперсий при уровне доверия, a = 0.01 - (1.0271444406441992,0.5734087875377081)\n",
            "Доверительный интервал для отношения дисперсий при уровне доверия, a = 0.05 - (0.9578439224965994,0.6148952188376793)\n",
            "Доверительный интервал для отношения дисперсий при уровне доверия, a = 0.1 - (0.9242648755336235,0.637234697462504)\n"
          ]
        }
      ]
    },
    {
      "cell_type": "code",
      "source": [
        "# 3.1. Проверка статистических гипотез о математических ожиданиях\n",
        "# б) Выбрать произвольные значения m0 и проверить статистические гипотезы\n",
        "from scipy import stats\n",
        "\n",
        "def t_test(sample, mu0, alpha):\n",
        "    # t-тест\n",
        "    t_statistic, p_value = stats.ttest_1samp(sample, mu0)\n",
        "\n",
        "    print(f\"T-статистика: {t_statistic}\")\n",
        "    print(f\"P-значение: {p_value}\")\n",
        "\n",
        "    if p_value < alpha:\n",
        "        print(\"Отвергаем нулевую гипотезу (H0)\")\n",
        "    else:\n",
        "        print(\"Не отвергаем нулевую гипотезу (H0)\")\n",
        "\n",
        "\n",
        "t_test(c6, 1796, 0.1)\n",
        "print()\n",
        "t_test(c6, 1500, 0.1)\n",
        "print()\n",
        "t_test(c6, 1800, 0.1)\n"
      ],
      "metadata": {
        "colab": {
          "base_uri": "https://localhost:8080/"
        },
        "id": "ei4ODOoyk4r2",
        "outputId": "b03c0754-2126-4bfb-d65a-e798a2b65180"
      },
      "execution_count": 25,
      "outputs": [
        {
          "output_type": "stream",
          "name": "stdout",
          "text": [
            "T-статистика: 0.01707664823378904\n",
            "P-значение: 0.9863863135351123\n",
            "Не отвергаем нулевую гипотезу (H0)\n",
            "\n",
            "T-статистика: 7.738835529509712\n",
            "P-значение: 1.3840211593546355e-13\n",
            "Отвергаем нулевую гипотезу (H0)\n",
            "\n",
            "T-статистика: -0.08727144475642615\n",
            "P-значение: 0.9305113786661294\n",
            "Не отвергаем нулевую гипотезу (H0)\n"
          ]
        }
      ]
    },
    {
      "cell_type": "code",
      "source": [
        "# 3.2. Проверка статистических гипотез о дисперсиях\n",
        "# б) Выбрать произвольные значения s0 и проверить статистические гипотезы\n",
        "import numpy as np\n",
        "from scipy.stats import chi2\n",
        "\n",
        "def test_variance_statistic(sample, d0, alpha):\n",
        "    n = len(sample)\n",
        "    s2 = np.var(sample)  # Выборочная дисперсия\n",
        "    # статистика\n",
        "    test_statistic = (n - 1) * s2 / (d0**2)\n",
        "\n",
        "    df = n - 1\n",
        "\n",
        "    p_value = 2 * min(1 - chi2.cdf(test_statistic, df), chi2.cdf(test_statistic, df))\n",
        "\n",
        "    print(f\"Статистика: {(n - 1) * s2 / d0**2}\")\n",
        "    print(f\"P-значение: {p_value}\")\n",
        "\n",
        "    if p_value < alpha:\n",
        "        print(\"Отвергаем гипотезу о значении дисперсии\")\n",
        "    else:\n",
        "        print(\"Не отвергаем гипотезу о значении дисперсии\")\n",
        "\n",
        "\n",
        "test_variance_statistic(c6, 680, 0.1)\n",
        "print()\n",
        "test_variance_statistic(c6, 700, 0.1)\n",
        "print()\n",
        "test_variance_statistic(c6, 500, 0.1)\n",
        "\n"
      ],
      "metadata": {
        "colab": {
          "base_uri": "https://localhost:8080/"
        },
        "id": "JS5b36t7oKkw",
        "outputId": "5b08684a-3ea3-47d1-e80a-d8022a4c62fa"
      },
      "execution_count": 26,
      "outputs": [
        {
          "output_type": "stream",
          "name": "stdout",
          "text": [
            "Статистика: 313.32310399145365\n",
            "P-значение: 0.9996658593156644\n",
            "Не отвергаем гипотезу о значении дисперсии\n",
            "\n",
            "Статистика: 295.67470058295544\n",
            "P-значение: 0.4719863543403183\n",
            "Не отвергаем гипотезу о значении дисперсии\n",
            "\n",
            "Статистика: 579.5224131425927\n",
            "P-значение: 0.0\n",
            "Отвергаем гипотезу о значении дисперсии\n"
          ]
        }
      ]
    },
    {
      "cell_type": "code",
      "source": [
        "# 3.3. Проверка статистических гипотез о равенстве математических ожиданий\n",
        "# б) Проверить статистические гипотезы\n",
        "import numpy as np\n",
        "from scipy.stats import t\n",
        "\n",
        "def test_mean_difference_statistic(sample_X, sample_Y, alpha):\n",
        "    n_X = len(sample_X)\n",
        "    n_Y = len(sample_Y)\n",
        "\n",
        "    # выборочные средние\n",
        "    mean_X = np.mean(sample_X)\n",
        "    mean_Y = np.mean(sample_Y)\n",
        "\n",
        "    # выборочные дисперсии\n",
        "    var_X = np.var(sample_X, ddof=1)\n",
        "    var_Y = np.var(sample_Y, ddof=1)\n",
        "\n",
        "\n",
        "    # t-статистика\n",
        "    t_statistic = (mean_X - mean_Y) / np.sqrt(var_X/n_X + var_Y/n_Y)\n",
        "\n",
        "    df = n_X + n_Y - 2\n",
        "\n",
        "    # P-значение\n",
        "    p_value = 2 * min(1 - t.cdf(np.abs(t_statistic), df), t.cdf(np.abs(t_statistic), df))\n",
        "\n",
        "    # Выводим результаты\n",
        "    print(f\"T-статистика: {t_statistic}\")\n",
        "    print(f\"P-значение: {p_value}\")\n",
        "\n",
        "    if p_value < alpha:\n",
        "        print(\"Отвергаем гипотезу о равенстве математических ожиданий\")\n",
        "    else:\n",
        "        print(\"Не отвергаем гипотезу о равенстве математических ожиданий\")\n",
        "\n",
        "\n",
        "\n",
        "test_mean_difference_statistic(c13, c14, 0.01)\n",
        "print()\n",
        "test_mean_difference_statistic(c13, c14, 0.05)\n",
        "print()\n",
        "test_mean_difference_statistic(c13, c14, 0.1)\n"
      ],
      "metadata": {
        "colab": {
          "base_uri": "https://localhost:8080/"
        },
        "id": "hwOSX89ot6H9",
        "outputId": "7e474c12-83f7-4cf4-db90-77ee4a13a832"
      },
      "execution_count": 27,
      "outputs": [
        {
          "output_type": "stream",
          "name": "stdout",
          "text": [
            "T-статистика: -26.387385396640326\n",
            "P-значение: 0.0\n",
            "Отвергаем гипотезу о равенстве математических ожиданий\n",
            "\n",
            "T-статистика: -26.387385396640326\n",
            "P-значение: 0.0\n",
            "Отвергаем гипотезу о равенстве математических ожиданий\n",
            "\n",
            "T-статистика: -26.387385396640326\n",
            "P-значение: 0.0\n",
            "Отвергаем гипотезу о равенстве математических ожиданий\n"
          ]
        }
      ]
    },
    {
      "cell_type": "code",
      "source": [
        "# 3.4. Проверка статистических гипотез о равенстве дисперсий\n",
        "# б) Проверить статистические гипотезы\n",
        "import numpy as np\n",
        "from scipy.stats import f\n",
        "\n",
        "def test_variance_equality(sample1, sample2, alpha):\n",
        "    n1 = len(sample1)\n",
        "    n2 = len(sample2)\n",
        "\n",
        "\n",
        "    var1 = np.var(sample1) # Выборочная дисперсия\n",
        "    var2 = np.var(sample2) # Выборочная дисперсия\n",
        "\n",
        "    # статистика Фишера\n",
        "    f_statistic = var1 / var2\n",
        "\n",
        "    df1 = n1 - 1\n",
        "    df2 = n2 - 1\n",
        "\n",
        "    # Вычисляем p-значение\n",
        "    p_value = 2 * min(1 - f.cdf(f_statistic, df1, df2), f.cdf(f_statistic, df1, df2))\n",
        "\n",
        "    print(f\"F-статистика: {f_statistic}\")\n",
        "    print(f\"P-значение: {p_value}\")\n",
        "\n",
        "    if p_value < alpha:\n",
        "        print(\"Отвергаем гипотезу о равенстве дисперсий\")\n",
        "    else:\n",
        "        print(\"Не отвергаем гипотезу о равенстве дисперсий\")\n",
        "\n",
        "\n",
        "test_variance_equality(c13, c14, 0.01)\n",
        "print()\n",
        "test_variance_equality(c13, c14, 0.05)\n",
        "print()\n",
        "test_variance_equality(c13, c14, 0.1)\n"
      ],
      "metadata": {
        "colab": {
          "base_uri": "https://localhost:8080/"
        },
        "id": "OdHcISjlwdh0",
        "outputId": "817e79ca-d383-4d44-fce7-16c8eaa0ab98"
      },
      "execution_count": 28,
      "outputs": [
        {
          "output_type": "stream",
          "name": "stdout",
          "text": [
            "F-статистика: 0.7674461859543559\n",
            "P-значение: 0.01929088453087469\n",
            "Не отвергаем гипотезу о равенстве дисперсий\n",
            "\n",
            "F-статистика: 0.7674461859543559\n",
            "P-значение: 0.01929088453087469\n",
            "Отвергаем гипотезу о равенстве дисперсий\n",
            "\n",
            "F-статистика: 0.7674461859543559\n",
            "P-значение: 0.01929088453087469\n",
            "Отвергаем гипотезу о равенстве дисперсий\n"
          ]
        }
      ]
    },
    {
      "cell_type": "markdown",
      "source": [
        " 4. Критерии согласия"
      ],
      "metadata": {
        "id": "OLPcbHlm4Hxc"
      }
    },
    {
      "cell_type": "code",
      "source": [
        "# б) Выбрать число групп\n",
        "import numpy as np\n",
        "import matplotlib.pyplot as plt\n",
        "\n",
        "data = c6\n",
        "\n",
        "num_groups_sqrt = int(np.sqrt(len(data)))\n",
        "\n",
        "print(\"Число групп \", num_groups_sqrt)\n",
        "\n",
        "# Построение гистограммы\n",
        "hist_values, bin_edges, _ = plt.hist(data, bins=num_groups_sqrt, color='blue', alpha=0.7, edgecolor='black')\n",
        "\n",
        "\n",
        "\n",
        "plt.title('Гистограмма выборки')\n",
        "plt.xlabel('Значение')\n",
        "plt.ylabel('Частота')\n",
        "plt.legend()\n",
        "\n",
        "plt.show()\n",
        "\n",
        "print(\"Интервалы: \", bin_edges[1] - bin_edges[0])\n"
      ],
      "metadata": {
        "colab": {
          "base_uri": "https://localhost:8080/",
          "height": 544
        },
        "id": "ImSge2IE4Jvg",
        "outputId": "39b5c6cf-b142-4cb5-c58e-06f5f774bf1e"
      },
      "execution_count": 29,
      "outputs": [
        {
          "output_type": "stream",
          "name": "stdout",
          "text": [
            "Число групп  17\n"
          ]
        },
        {
          "output_type": "stream",
          "name": "stderr",
          "text": [
            "WARNING:matplotlib.legend:No artists with labels found to put in legend.  Note that artists whose label start with an underscore are ignored when legend() is called with no argument.\n"
          ]
        },
        {
          "output_type": "display_data",
          "data": {
            "text/plain": [
              "<Figure size 640x480 with 1 Axes>"
            ],
            "image/png": "[encoded data removed]"
          },
          "metadata": {}
        },
        {
          "output_type": "stream",
          "name": "stdout",
          "text": [
            "Интервалы:  365.70588235294116\n"
          ]
        }
      ]
    },
    {
      "cell_type": "code",
      "source": [
        "# Вероятность попадания в интервал при условии истинности основной гипотезы\n",
        "from scipy.stats import norm\n",
        "\n",
        "expected_freq = []\n",
        "for i in range(len(bin_edges) - 1):\n",
        "  print(i + 1, norm.cdf(bin_edges[i + 1], loc=c6.mean(), scale=c6.std()) - norm.cdf(bin_edges[i], loc=c6.mean(), scale=c6.std()))\n",
        "  expected_freq.append(norm.cdf(bin_edges[i + 1], loc=c6.mean(), scale=c6.std()) - norm.cdf(bin_edges[i], loc=c6.mean(), scale=c6.std()))"
      ],
      "metadata": {
        "colab": {
          "base_uri": "https://localhost:8080/"
        },
        "id": "VYw7MwfV5Wd_",
        "outputId": "81dcee8d-8c2a-4d8c-8986-8491d2bcb4cb"
      },
      "execution_count": 30,
      "outputs": [
        {
          "output_type": "stream",
          "name": "stdout",
          "text": [
            "1 0.050190678786630465\n",
            "2 0.1073681927817938\n",
            "3 0.1732116176364233\n",
            "4 0.2107501198288913\n",
            "5 0.19340380303449434\n",
            "6 0.13386317589697994\n",
            "7 0.06987545831707109\n",
            "8 0.02750434249145206\n",
            "9 0.008162358837347061\n",
            "10 0.00182588952133933\n",
            "11 0.000307800428298699\n",
            "12 3.909125975420924e-05\n",
            "13 3.7391883211945753e-06\n",
            "14 2.6929524010732564e-07\n",
            "15 1.4598156683476304e-08\n",
            "16 5.954566839605491e-10\n",
            "17 1.8270607249348814e-11\n"
          ]
        }
      ]
    },
    {
      "cell_type": "code",
      "source": [
        "# г) Построить гистограмму относительных частот и функцию плотности теоретического распределения на одном графике\n",
        "\n",
        "import numpy as np\n",
        "import matplotlib.pyplot as plt\n",
        "from scipy.stats import norm\n",
        "\n",
        "data = c6\n",
        "\n",
        "\n",
        "# Строим гистограмму данных\n",
        "plt.hist(data, bins=30, density=True, alpha=0.6, color='g')\n",
        "\n",
        "# Строим функцию плотности нормального распределения\n",
        "x = np.linspace(min(c6), max(c6), 100)\n",
        "p = norm.pdf(x, c6.mean(), c6.std())\n",
        "plt.plot(x, p, 'k', linewidth=2)\n",
        "\n",
        "\n",
        "plt.show()\n",
        "\n"
      ],
      "metadata": {
        "colab": {
          "base_uri": "https://localhost:8080/",
          "height": 430
        },
        "id": "bbJuCMw58IvX",
        "outputId": "9dfd9f6e-ff66-4624-fe1b-d5ccdc3e2028"
      },
      "execution_count": 31,
      "outputs": [
        {
          "output_type": "display_data",
          "data": {
            "text/plain": [
              "<Figure size 640x480 with 1 Axes>"
            ],
            "image/png": "[encoded data removed]"
          },
          "metadata": {}
        }
      ]
    },
    {
      "cell_type": "code",
      "source": [
        "# д) Проверить статистические гипотезы\n",
        "import numpy as np\n",
        "from scipy.stats import chi2\n",
        "\n",
        "data = c6\n",
        "\n",
        "# Ожидаемые частоты для нормального распределения\n",
        "expected_freq = np.array(expected_freq)\n",
        "\n",
        "def is_normal(alpha):\n",
        "    # Рассчет статистики критерия хи-квадрат\n",
        "    chi2_stat = np.sum((hist_values - 315 * expected_freq)**2 / (315 * expected_freq))\n",
        "\n",
        "    df = len(hist_values) - 1\n",
        "\n",
        "    p_value = 1 - chi2.cdf(chi2_stat, df)\n",
        "\n",
        "    print(f\"Хи-квадрат статистика: {chi2_stat}\")\n",
        "    print(f\"P-значение: {p_value}\")\n",
        "\n",
        "    if p_value < alpha:\n",
        "        print(\"Отвергаем гипотезу о нормальности распределения статистики F(x)\")\n",
        "    else:\n",
        "        print(\"Не отвергаем гипотезу о нормальности распределения статистики F(x)\")\n",
        "\n",
        "is_normal(0.01)\n",
        "print()\n",
        "is_normal(0.05)\n",
        "print()\n",
        "is_normal(0.1)\n"
      ],
      "metadata": {
        "colab": {
          "base_uri": "https://localhost:8080/"
        },
        "id": "9ROK6JL_-zRf",
        "outputId": "606e6726-3c3a-4cef-8fc7-a76bfa7e550c"
      },
      "execution_count": 32,
      "outputs": [
        {
          "output_type": "stream",
          "name": "stdout",
          "text": [
            "Хи-квадрат статистика: 173754699.48260492\n",
            "P-значение: 0.0\n",
            "Отвергаем гипотезу о нормальности распределения статистики F(x)\n",
            "\n",
            "Хи-квадрат статистика: 173754699.48260492\n",
            "P-значение: 0.0\n",
            "Отвергаем гипотезу о нормальности распределения статистики F(x)\n",
            "\n",
            "Хи-квадрат статистика: 173754699.48260492\n",
            "P-значение: 0.0\n",
            "Отвергаем гипотезу о нормальности распределения статистики F(x)\n"
          ]
        }
      ]
    },
    {
      "cell_type": "code",
      "source": [
        "import numpy as np\n",
        "from scipy.stats import skew, kurtosis, chi2\n",
        "\n",
        "data = c6\n",
        "\n",
        "def Jarque_Bera_test(data, alpha):\n",
        "    n = len(data)\n",
        "    mean_val = np.mean(data)\n",
        "    std_dev = np.std(data)\n",
        "\n",
        "    # Коэффициент асимметрии (S)\n",
        "    s = (n / ((n - 1) * (n - 2))) * np.sum(((data - mean_val) / std_dev) ** 3)\n",
        "\n",
        "    # Коэффициент эксцесса (K)\n",
        "    k = (n * (n + 1) / ((n - 1) * (n - 2) * (n - 3))) * np.sum(((data - mean_val) / std_dev) ** 4) - (3 * (n - 1) ** 2) / ((n - 2) * (n - 3))\n",
        "\n",
        "\n",
        "    jb_statistic = (n / 6) * (s**2 + (1/4) * (k - 3)**2)\n",
        "\n",
        "    df = 2\n",
        "\n",
        "    critical_value = chi2.ppf(1 - alpha, df)\n",
        "\n",
        "    print(f\"Статистика Харке-Бера: {jb_statistic}\")\n",
        "    print(f\"Критическое значение: {critical_value}\")\n",
        "\n",
        "    if jb_statistic > critical_value:\n",
        "        print(\"Отвергаем нулевую гипотезу. Распределение не является нормальным.\")\n",
        "    else:\n",
        "        print(\"Нет оснований отвергнуть нулевую гипотезу. Распределение является нормальным.\")\n",
        "\n",
        "Jarque_Bera_test(data, 0.01)\n",
        "print()\n",
        "Jarque_Bera_test(data, 0.05)\n",
        "print()\n",
        "Jarque_Bera_test(data, 0.1)\n"
      ],
      "metadata": {
        "colab": {
          "base_uri": "https://localhost:8080/"
        },
        "id": "JEvkC-tJkmDq",
        "outputId": "adbbbf85-8fda-4c2d-e3aa-a0ca877ff9df"
      },
      "execution_count": 33,
      "outputs": [
        {
          "output_type": "stream",
          "name": "stdout",
          "text": [
            "Статистика Харке-Бера: 517.2118443126562\n",
            "Критическое значение: 9.21034037197618\n",
            "Отвергаем нулевую гипотезу. Распределение не является нормальным.\n",
            "\n",
            "Статистика Харке-Бера: 517.2118443126562\n",
            "Критическое значение: 5.991464547107979\n",
            "Отвергаем нулевую гипотезу. Распределение не является нормальным.\n",
            "\n",
            "Статистика Харке-Бера: 517.2118443126562\n",
            "Критическое значение: 4.605170185988092\n",
            "Отвергаем нулевую гипотезу. Распределение не является нормальным.\n"
          ]
        }
      ]
    },
    {
      "cell_type": "markdown",
      "source": [
        "5. Проверка однородности выборок"
      ],
      "metadata": {
        "id": "LpFouMrioLA8"
      }
    },
    {
      "cell_type": "code",
      "source": [
        "# 5.1 Критерий знаков\n",
        "import numpy as np\n",
        "from scipy.stats import norm\n",
        "\n",
        "\n",
        "def sign_test(sample1, sample2, alpha):\n",
        "    differences = sample1 - sample2\n",
        "\n",
        "    # Количество положительных разностей\n",
        "    n_plus = np.sum(differences > 0)\n",
        "\n",
        "    n = len(differences)\n",
        "    # статистика критерия знаков\n",
        "    statistic = 2 * np.sqrt(n) * (n_plus / n - 0.5)\n",
        "\n",
        "    p_value = 2 * min(norm.ppf(1 - alpha/2, loc=0, scale=1), 1 - norm.ppf(1 - alpha/2, loc=0, scale=1))\n",
        "    # Вывод результатов\n",
        "    print(f\"Статистика критерия знаков: {statistic}\")\n",
        "    print(f\"P-значение: {p_value}\")\n",
        "\n",
        "    if p_value < alpha:\n",
        "        print(\"Отвергаем нулевую гипотезу.\")\n",
        "    else:\n",
        "        print(\"Нет оснований отвергнуть нулевую гипотезу.\")\n",
        "\n",
        "sign_test(c13, c14, 0.01)\n",
        "print()\n",
        "sign_test(c13, c14, 0.05)\n",
        "print()\n",
        "sign_test(c13, c14, 0.1)"
      ],
      "metadata": {
        "colab": {
          "base_uri": "https://localhost:8080/"
        },
        "id": "CS14FR_ZoJzW",
        "outputId": "a9f7018e-8d10-4428-f7e1-81e62bc2a912"
      },
      "execution_count": 34,
      "outputs": [
        {
          "output_type": "stream",
          "name": "stdout",
          "text": [
            "Статистика критерия знаков: -16.508679775697026\n",
            "P-значение: -3.1516586070978008\n",
            "Отвергаем нулевую гипотезу.\n",
            "\n",
            "Статистика критерия знаков: -16.508679775697026\n",
            "P-значение: -1.919927969080108\n",
            "Отвергаем нулевую гипотезу.\n",
            "\n",
            "Статистика критерия знаков: -16.508679775697026\n",
            "P-значение: -1.2897072539029444\n",
            "Отвергаем нулевую гипотезу.\n"
          ]
        }
      ]
    },
    {
      "cell_type": "code",
      "source": [
        "# 5.2. Критерий хи-квадрат\n",
        "import numpy as np\n",
        "from scipy.stats import chisquare\n",
        "\n",
        "data1 = c13\n",
        "data2 = c14\n",
        "\n",
        "\n",
        "\n",
        "combined_data = np.concatenate([data1, data2])\n",
        "\n",
        "# Создание гистограммы с одинаковыми интервалами для обоих наборов данных\n",
        "hist, bin_edges = np.histogram(combined_data, bins=17)\n",
        "\n",
        "for i in range(len(hist)):\n",
        "    lower_bound = bin_edges[i]\n",
        "    upper_bound = bin_edges[i + 1]\n",
        "\n",
        "    data1_interval = data1[(data1 >= lower_bound) & (data1 < upper_bound)]\n",
        "    data2_interval = data2[(data2 >= lower_bound) & (data2 < upper_bound)]\n",
        "\n",
        "    # Частоты\n",
        "    freq_data1 = len(data1_interval)\n",
        "    freq_data2 = len(data2_interval)\n",
        "\n",
        "    # Относительные частоты\n",
        "    rel_freq_data1 = freq_data1 / len(data1)\n",
        "    rel_freq_data2 = freq_data2 / len(data2)\n",
        "\n",
        "    print(lower_bound - upper_bound, lower_bound, upper_bound, freq_data1, freq_data2, rel_freq_data1, rel_freq_data2)\n",
        "\n",
        "plt.hist(data1, bins=bin_edges, alpha=0.5, label='Data 1', color='blue', density=True)\n",
        "plt.hist(data2, bins=bin_edges, alpha=0.5, label='Data 2', color='orange', density=True)\n",
        "\n",
        "plt.legend(loc='upper right')\n",
        "plt.xlabel('Значения')\n",
        "plt.ylabel('Относительная частота')\n",
        "plt.title('Гистограмма относительных частот для данных 1 и данных 2')\n",
        "\n",
        "plt.show()\n"
      ],
      "metadata": {
        "colab": {
          "base_uri": "https://localhost:8080/",
          "height": 767
        },
        "id": "oxhxVAy8hYGy",
        "outputId": "712b8151-0174-4066-e4dc-396fa9783689"
      },
      "execution_count": 35,
      "outputs": [
        {
          "output_type": "stream",
          "name": "stdout",
          "text": [
            "-101.58823529411765 0.0 101.58823529411765 96 0 0.3047619047619048 0.0\n",
            "-101.58823529411765 101.58823529411765 203.1764705882353 124 3 0.39365079365079364 0.009523809523809525\n",
            "-101.58823529411762 203.1764705882353 304.7647058823529 50 10 0.15873015873015872 0.031746031746031744\n",
            "-101.58823529411768 304.7647058823529 406.3529411764706 21 31 0.06666666666666667 0.09841269841269841\n",
            "-101.58823529411768 406.3529411764706 507.9411764705883 14 64 0.044444444444444446 0.20317460317460317\n",
            "-101.58823529411757 507.9411764705883 609.5294117647059 0 75 0.0 0.23809523809523808\n",
            "-101.58823529411768 609.5294117647059 711.1176470588235 1 52 0.0031746031746031746 0.16507936507936508\n",
            "-101.58823529411768 711.1176470588235 812.7058823529412 3 37 0.009523809523809525 0.11746031746031746\n",
            "-101.58823529411768 812.7058823529412 914.2941176470589 1 22 0.0031746031746031746 0.06984126984126984\n",
            "-101.58823529411768 914.2941176470589 1015.8823529411766 2 11 0.006349206349206349 0.03492063492063492\n",
            "-101.58823529411757 1015.8823529411766 1117.4705882352941 0 3 0.0 0.009523809523809525\n",
            "-101.58823529411757 1117.4705882352941 1219.0588235294117 1 2 0.0031746031746031746 0.006349206349206349\n",
            "-101.5882352941178 1219.0588235294117 1320.6470588235295 0 2 0.0 0.006349206349206349\n",
            "-101.58823529411757 1320.6470588235295 1422.235294117647 2 0 0.006349206349206349 0.0\n",
            "-101.5882352941178 1422.235294117647 1523.8235294117649 0 2 0.0 0.006349206349206349\n",
            "-101.58823529411757 1523.8235294117649 1625.4117647058824 0 0 0.0 0.0\n",
            "-101.58823529411757 1625.4117647058824 1727.0 0 0 0.0 0.0\n"
          ]
        },
        {
          "output_type": "display_data",
          "data": {
            "text/plain": [
              "<Figure size 640x480 with 1 Axes>"
            ],
            "image/png": "[encoded data removed]"
          },
          "metadata": {}
        }
      ]
    },
    {
      "cell_type": "code",
      "source": [
        "# 5.2. Критерий хи-квадрат\n",
        "import numpy as np\n",
        "from scipy.stats import chisquare\n",
        "\n",
        "data1 = c13\n",
        "data2 = c14\n",
        "\n",
        "# Выполняем критерий хи-квадрат для двухвыборочного теста\n",
        "chi2_stat, p_value = chisquare(f_obs=[data1, data2], axis=None)\n",
        "\n",
        "print(f\"Chi2 статистика: {chi2_stat}\")\n",
        "print(f\"P-значение: {p_value}\")\n",
        "\n",
        "alpha = 0.01\n",
        "if p_value < alpha:\n",
        "    print(\"Отвергаем нулевую гипотезу: существует статистически значимая разница\")\n",
        "else:\n",
        "    print(\"Не отвергаем нулевую гипотезу: нет статистически значимой разницы\")\n",
        "\n",
        "alpha = 0.05\n",
        "if p_value < alpha:\n",
        "    print(\"Отвергаем нулевую гипотезу: существует статистически значимая разница\")\n",
        "else:\n",
        "    print(\"Не отвергаем нулевую гипотезу: нет статистически значимой разницы\")\n",
        "\n",
        "alpha = 0.1\n",
        "if p_value < alpha:\n",
        "    print(\"Отвергаем нулевую гипотезу: существует статистически значимая разница\")\n",
        "else:\n",
        "    print(\"Не отвергаем нулевую гипотезу: нет статистически значимой разницы\")\n"
      ],
      "metadata": {
        "colab": {
          "base_uri": "https://localhost:8080/"
        },
        "id": "pvn1kJ6gnQjW",
        "outputId": "e512cdc3-119f-4392-fe67-a0da4f477486"
      },
      "execution_count": 36,
      "outputs": [
        {
          "output_type": "stream",
          "name": "stdout",
          "text": [
            "Chi2 статистика: 128851.48106690162\n",
            "P-значение: 0.0\n",
            "Отвергаем нулевую гипотезу: существует статистически значимая разница\n",
            "Отвергаем нулевую гипотезу: существует статистически значимая разница\n",
            "Отвергаем нулевую гипотезу: существует статистически значимая разница\n"
          ]
        }
      ]
    },
    {
      "cell_type": "markdown",
      "source": [
        "6. Таблицы сопряжённости"
      ],
      "metadata": {
        "id": "j7aI4hDfp3DF"
      }
    },
    {
      "cell_type": "code",
      "source": [
        "# Факторный признак x – С2\n",
        "# Результативный признак y – С3\n",
        "c2 = dfC[\"C2\"]\n",
        "c3 = dfC[\"C3\"]"
      ],
      "metadata": {
        "id": "hC5Jpa5Ap2vi"
      },
      "execution_count": 37,
      "outputs": []
    },
    {
      "cell_type": "code",
      "source": [
        "c2"
      ],
      "metadata": {
        "colab": {
          "base_uri": "https://localhost:8080/"
        },
        "id": "xMPRLP76qXCh",
        "outputId": "b954484a-8967-487b-e348-e5b0f948271c"
      },
      "execution_count": 38,
      "outputs": [
        {
          "output_type": "execute_result",
          "data": {
            "text/plain": [
              "0      Female\n",
              "1      Female\n",
              "2      Female\n",
              "3      Female\n",
              "4      Female\n",
              "        ...  \n",
              "310    Female\n",
              "311    Female\n",
              "312    Female\n",
              "313    Female\n",
              "314    Female\n",
              "Name: C2, Length: 315, dtype: object"
            ]
          },
          "metadata": {},
          "execution_count": 38
        }
      ]
    },
    {
      "cell_type": "code",
      "source": [
        "c3"
      ],
      "metadata": {
        "colab": {
          "base_uri": "https://localhost:8080/"
        },
        "id": "yhpYkwSBqYJ0",
        "outputId": "13c8072e-7bd7-4413-d859-26867b2612e3"
      },
      "execution_count": 39,
      "outputs": [
        {
          "output_type": "execute_result",
          "data": {
            "text/plain": [
              "0      Former\n",
              "1       Never\n",
              "2      Former\n",
              "3      Former\n",
              "4       Never\n",
              "        ...  \n",
              "310    Former\n",
              "311     Never\n",
              "312     Never\n",
              "313    Former\n",
              "314     Never\n",
              "Name: C3, Length: 315, dtype: object"
            ]
          },
          "metadata": {},
          "execution_count": 39
        }
      ]
    },
    {
      "cell_type": "code",
      "source": [
        "# б) Построить эмпирическую таблицу сопряжённости\n",
        "# в) Построить теоретическую таблицу сопряжённости\n",
        "\n",
        "import numpy as np\n",
        "import pandas as pd\n",
        "from scipy.stats import chi2_contingency\n",
        "\n",
        "def contingency_tables(data1, data2):\n",
        "    # Создаем эмпирическую таблицу сопряженности\n",
        "    observed_table = pd.crosstab(data1, data2, margins=True, margins_name=\"Всего\")\n",
        "\n",
        "    # Вычисляем теоретическую таблицу сопряженности\n",
        "    _, _, _, expected_table = chi2_contingency(observed_table)\n",
        "\n",
        "    expected_table_df = pd.DataFrame(expected_table, index=observed_table.index, columns=observed_table.columns)\n",
        "\n",
        "    return observed_table, expected_table_df\n",
        "\n",
        "data1 = c2\n",
        "data2 = c3\n",
        "\n",
        "# Получаем эмпирическую и теоретическую таблицы сопряженности\n",
        "observed_table, expected_table = contingency_tables(data1, data2)\n",
        "\n",
        "print(\"Эмпирическая таблица сопряженности:\")\n",
        "print(observed_table)\n",
        "print(\"\\nТеоретическая таблица сопряженности:\")\n",
        "print(expected_table)\n"
      ],
      "metadata": {
        "colab": {
          "base_uri": "https://localhost:8080/"
        },
        "id": "LCd_m7SHxlq2",
        "outputId": "a3ad288e-529b-4d98-8070-a09fcc4ac222"
      },
      "execution_count": 40,
      "outputs": [
        {
          "output_type": "stream",
          "name": "stdout",
          "text": [
            "Эмпирическая таблица сопряженности:\n",
            "C3      Current Smoker  Former  Never  Всего\n",
            "C2                                          \n",
            "Female              36      93    144    273\n",
            "Male                 7      22     13     42\n",
            "Всего               43     115    157    315\n",
            "\n",
            "Теоретическая таблица сопряженности:\n",
            "C3      Current Smoker      Former       Never  Всего\n",
            "C2                                                   \n",
            "Female       37.266667   99.666667  136.066667  273.0\n",
            "Male          5.733333   15.333333   20.933333   42.0\n",
            "Всего        43.000000  115.000000  157.000000  315.0\n"
          ]
        }
      ]
    },
    {
      "cell_type": "code",
      "source": [
        "import numpy as np\n",
        "from scipy.stats import chi2_contingency\n",
        "\n",
        "data1 = c2\n",
        "data2 = c3\n",
        "\n",
        "# Получаем эмпирическую и теоретическую таблицы сопряженности\n",
        "observed_table, expected_table = contingency_tables(data1, data2)\n",
        "\n",
        "# тест хи-квадрат\n",
        "chi2_stat, p_value, _, _ = chi2_contingency(observed_table)\n",
        "\n",
        "print(f\"Статистика критерия хи-квадрат: {chi2_stat}\")\n",
        "print(f\"P-значение: {p_value}\")\n",
        "\n",
        "alpha = 0.01\n",
        "if p_value < alpha:\n",
        "    print(\"Отвергаем нулевую гипотезу: существует статистически значимая разница\")\n",
        "else:\n",
        "    print(\"Не отвергаем нулевую гипотезу: нет статистически значимой разницы\")\n",
        "\n",
        "alpha = 0.05\n",
        "if p_value < alpha:\n",
        "    print(\"Отвергаем нулевую гипотезу: существует статистически значимая разница\")\n",
        "else:\n",
        "    print(\"Не отвергаем нулевую гипотезу: нет статистически значимой разницы\")\n",
        "\n",
        "alpha = 0.1\n",
        "if p_value < alpha:\n",
        "    print(\"Отвергаем нулевую гипотезу: существует статистически значимая разница\")\n",
        "else:\n",
        "    print(\"Не отвергаем нулевую гипотезу: нет статистически значимой разницы\")\n"
      ],
      "metadata": {
        "colab": {
          "base_uri": "https://localhost:8080/"
        },
        "id": "hbXJhH_OyvcC",
        "outputId": "81b106d0-9d64-4e7c-8f4e-8f98448d7d84"
      },
      "execution_count": 41,
      "outputs": [
        {
          "output_type": "stream",
          "name": "stdout",
          "text": [
            "Статистика критерия хи-квадрат: 7.136512415601504\n",
            "P-значение: 0.30840701536046683\n",
            "Не отвергаем нулевую гипотезу: нет статистически значимой разницы\n",
            "Не отвергаем нулевую гипотезу: нет статистически значимой разницы\n",
            "Не отвергаем нулевую гипотезу: нет статистически значимой разницы\n"
          ]
        }
      ]
    },
    {
      "cell_type": "code",
      "source": [
        "# 7. Дисперсионный анализ\n",
        "\n",
        "c3 = dfC[\"C3\"]\n",
        "c4 = dfC[\"C4\"]\n",
        "\n",
        "unique_count = c3.nunique()\n",
        "\n",
        "print(\"Количество уникальных значений:\", unique_count)\n",
        "print(\"Объем выборок:\", len(c3))\n",
        "print(\"Former:\", list(c3).count(\"Former\"))\n",
        "print(\"Never:\", list(c3).count(\"Never\"))\n",
        "print(\"Current Smoker:\", list(c3).count(\"Current Smoker\"))\n",
        "\n",
        "data = {'Группа': c3, 'Значение': c4}\n",
        "\n",
        "df = pd.DataFrame(data)\n",
        "\n",
        "grouped_means = df.groupby('Группа')['Значение'].mean()\n",
        "\n",
        "print(\"Групповые средние:\")\n",
        "print(grouped_means)\n",
        "\n",
        "rouped_variances = df.groupby('Группа')['Значение'].var()\n",
        "\n",
        "print(\"Групповые дисперсии:\")\n",
        "print(rouped_variances)"
      ],
      "metadata": {
        "colab": {
          "base_uri": "https://localhost:8080/"
        },
        "id": "CyNmG-v-mYSe",
        "outputId": "33827d3d-a9f4-47da-d093-661cbf5a7a1d"
      },
      "execution_count": 42,
      "outputs": [
        {
          "output_type": "stream",
          "name": "stdout",
          "text": [
            "Количество уникальных значений: 3\n",
            "Объем выборок: 315\n",
            "Former: 115\n",
            "Never: 157\n",
            "Current Smoker: 43\n",
            "Групповые средние:\n",
            "Группа\n",
            "Current Smoker    24.694580\n",
            "Former            25.927712\n",
            "Never             26.726235\n",
            "Name: Значение, dtype: float64\n",
            "Групповые дисперсии:\n",
            "Группа\n",
            "Current Smoker    24.159952\n",
            "Former            24.924693\n",
            "Never             47.116035\n",
            "Name: Значение, dtype: float64\n"
          ]
        }
      ]
    },
    {
      "cell_type": "code",
      "source": [
        "# в) Рассчитать показатели вариации, используемые в дисперсионном анализе\n",
        "import pandas as pd\n",
        "import statsmodels.api as sm\n",
        "from statsmodels.formula.api import ols\n",
        "\n",
        "df = pd.DataFrame(data)\n",
        "\n",
        "data = {'Group': c3, 'Value': c4}\n",
        "\n",
        "model = ols('Value ~ Group', data=df).fit()\n",
        "anova_table = sm.stats.anova_lm(model)\n",
        "\n",
        "# Извлекаем значения из таблицы анализа дисперсии\n",
        "ss_between = anova_table['sum_sq']['Group']\n",
        "ss_within = anova_table['sum_sq']['Residual']\n",
        "ss_total = ss_between + ss_within\n",
        "\n",
        "ms_between = anova_table['mean_sq']['Group']\n",
        "ms_within = anova_table['mean_sq']['Residual']\n",
        "\n",
        "f_statistic = anova_table['F']['Group']\n",
        "p_value = anova_table['PR(>F)']['Group']\n",
        "\n",
        "# Выводим результаты\n",
        "print(f\"Межгрупповая дисперсия (SSB): {ss_between}\")\n",
        "print(f\"Внутригрупповая дисперсия (SSW): {ss_within}\")\n",
        "print(f\"Общая дисперсия (SST): {ss_total}\")\n",
        "print(f\"Межгрупповая дисперсия (MSB): {ms_between}\")\n",
        "print(f\"Внутригрупповая дисперсия (MSW): {ms_within}\")\n",
        "print(f\"F-статистика: {f_statistic}\")\n",
        "print(f\"p-значение: {p_value}\")"
      ],
      "metadata": {
        "colab": {
          "base_uri": "https://localhost:8080/"
        },
        "id": "LjHha7c9rMw7",
        "outputId": "cfd75658-34ff-464e-c7f8-d536db875642"
      },
      "execution_count": 44,
      "outputs": [
        {
          "output_type": "stream",
          "name": "stdout",
          "text": [
            "Межгрупповая дисперсия (SSB): 148.88115016899206\n",
            "Внутригрупповая дисперсия (SSW): 11206.234405607995\n",
            "Общая дисперсия (SST): 11355.115555776987\n",
            "Межгрупповая дисперсия (MSB): 74.44057508449603\n",
            "Внутригрупповая дисперсия (MSW): 35.91741796669229\n",
            "F-статистика: 2.0725480643827976\n",
            "p-значение: 0.12759407850703594\n"
          ]
        }
      ]
    },
    {
      "cell_type": "code",
      "source": [
        "from scipy.stats import f\n",
        "print(f.cdf(2.07, 2, 212))"
      ],
      "metadata": {
        "colab": {
          "base_uri": "https://localhost:8080/"
        },
        "id": "-ZIe9Pbfzn2D",
        "outputId": "dd0bf5a0-6766-44bc-8a0f-ea63a88875ee"
      },
      "execution_count": 45,
      "outputs": [
        {
          "output_type": "stream",
          "name": "stdout",
          "text": [
            "0.8712712172919201\n"
          ]
        }
      ]
    },
    {
      "cell_type": "code",
      "source": [
        "# 8. Корреляционный анализ"
      ],
      "metadata": {
        "id": "b5C-bx7ZSV77"
      },
      "execution_count": 46,
      "outputs": []
    },
    {
      "cell_type": "code",
      "source": [
        "# а) Рассчитать точечные оценки коэффициентов корреляции\n",
        "import numpy as np\n",
        "from scipy.stats import spearmanr\n",
        "\n",
        "\n",
        "x = c13\n",
        "y = c14\n",
        "\n",
        "# Вычисляем коэффициент корреляции\n",
        "correlation_coefficient = np.corrcoef(x, y)[0, 1]\n",
        "\n",
        "print(f\"Линейный коэффициент корреляции: {correlation_coefficient}\")\n",
        "\n",
        "print(\"ранговый коэффициент корреляции по Спирмену:\", spearmanr(x, y))\n",
        "\n",
        "from scipy.stats import kendalltau\n",
        "\n",
        "# Вычисляем ранговый коэффициент корреляции по Кендаллу\n",
        "correlation_coefficient, p_value = kendalltau(x, y)\n",
        "\n",
        "print(f\"Ранговый коэффициент корреляции по Кендаллу: {correlation_coefficient}\")\n"
      ],
      "metadata": {
        "colab": {
          "base_uri": "https://localhost:8080/"
        },
        "id": "pezLj6aWSgUL",
        "outputId": "27c65aab-207f-40a1-d68f-e073021f1838"
      },
      "execution_count": 50,
      "outputs": [
        {
          "output_type": "stream",
          "name": "stdout",
          "text": [
            "Линейный коэффициент корреляции: 0.07157724015217475\n",
            "ранговый коэффициент корреляции по Спирмену: SignificanceResult(statistic=0.13062133340920742, pvalue=0.020393608129350045)\n",
            "Ранговый коэффициент корреляции по Кендаллу: 0.0857942303995992\n"
          ]
        }
      ]
    },
    {
      "cell_type": "code",
      "source": [],
      "metadata": {
        "id": "WdMtnq-6UwGd"
      },
      "execution_count": 48,
      "outputs": []
    },
    {
      "cell_type": "code",
      "source": [
        "# в) Рассчитать доверительные интервалы для линейного коэффициента корреляции\n",
        "from scipy.stats import pearsonr, norm\n",
        "from math import atanh, tanh, sqrt\n",
        "\n",
        "def correlation_interval(a, confidence_level=0.95):\n",
        "    n = len(x)\n",
        "\n",
        "    z = atanh(a)\n",
        "\n",
        "    # Вычисляем стандартную ошибку\n",
        "    se = 1 / sqrt(n - 3)\n",
        "\n",
        "    # Вычисляем критическое значение z для уровня доверия\n",
        "    z_critical = norm.ppf((1 + confidence_level) / 2)\n",
        "\n",
        "    # Вычисляем границы интервала\n",
        "    lower_limit = tanh(z - z_critical * se)\n",
        "    upper_limit = tanh(z + z_critical * se)\n",
        "\n",
        "    return lower_limit, upper_limit\n",
        "\n",
        "x = c13\n",
        "y = c14\n",
        "\n",
        "# Вычисляем линейный коэффициент корреляции\n",
        "correlation_coefficient, _ = pearsonr(x, y)\n",
        "\n",
        "\n",
        "print(f\"Доверительный интервал: {correlation_interval(correlation_coefficient, 0.99)}\")\n",
        "print(f\"Доверительный интервал: {correlation_interval(correlation_coefficient, 0.95)}\")\n",
        "print(f\"Доверительный интервал: {correlation_interval(correlation_coefficient, 0.9)}\")\n"
      ],
      "metadata": {
        "colab": {
          "base_uri": "https://localhost:8080/"
        },
        "id": "ZEk3tesTXxUF",
        "outputId": "edb9a418-b1a4-4d21-cae1-433bc4a5888c"
      },
      "execution_count": 53,
      "outputs": [
        {
          "output_type": "stream",
          "name": "stdout",
          "text": [
            "Доверительный интервал: (-0.07399228592957309, 0.21416018902894837)\n",
            "Доверительный интервал: (-0.03924109522102261, 0.1806562199443423)\n",
            "Доверительный интервал: (-0.02141836867011403, 0.1633448791752626)\n"
          ]
        }
      ]
    },
    {
      "cell_type": "code",
      "source": [
        "# Проверить значимость коэффициентов корреляции\n",
        "# Тест значимости коэффициента корреляции Пирсона:\n",
        "from scipy.stats import pearsonr\n",
        "\n",
        "x = c13\n",
        "y = c14\n",
        "\n",
        "correlation_coefficient, p_value = pearsonr(x, y)\n",
        "\n",
        "alpha = 0.1\n",
        "if p_value < alpha:\n",
        "    print(f\"Коэффициент корреляции {correlation_coefficient} pvalue {p_value} значим на уровне {alpha}\")\n",
        "else:\n",
        "    print(f\"Коэффициент корреляции {correlation_coefficient} pvalue {p_value} не является значимым на уровне {alpha}\")\n"
      ],
      "metadata": {
        "colab": {
          "base_uri": "https://localhost:8080/"
        },
        "id": "7k8TddNdaDd3",
        "outputId": "663add58-216c-4553-95a9-1a762b1aa61c"
      },
      "execution_count": 59,
      "outputs": [
        {
          "output_type": "stream",
          "name": "stdout",
          "text": [
            "Коэффициент корреляции 0.07157724015217476 pvalue 0.2051748825419133 не является значимым на уровне 0.1\n"
          ]
        }
      ]
    },
    {
      "cell_type": "code",
      "source": [
        "# Тест значимости коэффициента корреляции Spearmanra:\n",
        "from scipy.stats import pearsonr\n",
        "\n",
        "x = c13\n",
        "y = c14\n",
        "\n",
        "correlation_coefficient, p_value = spearmanr(x, y)\n",
        "\n",
        "alpha = 0.1\n",
        "if p_value < alpha:\n",
        "    print(f\"Коэффициент корреляции {correlation_coefficient} pvalue {p_value} значим на уровне {alpha}\")\n",
        "else:\n",
        "    print(f\"Коэффициент корреляции {correlation_coefficient} pvalue {p_value} не является значимым на уровне {alpha}\")\n"
      ],
      "metadata": {
        "colab": {
          "base_uri": "https://localhost:8080/"
        },
        "id": "ArPhmBoWaY2n",
        "outputId": "3ddcbf49-92ee-417c-89f7-215c47940568"
      },
      "execution_count": 60,
      "outputs": [
        {
          "output_type": "stream",
          "name": "stdout",
          "text": [
            "Коэффициент корреляции 0.13062133340920742 pvalue 0.020393608129350045 значим на уровне 0.1\n"
          ]
        }
      ]
    },
    {
      "cell_type": "code",
      "source": [
        "# Тест значимости коэффициента корреляции Kendalltau:\n",
        "from scipy.stats import pearsonr\n",
        "\n",
        "x = c13\n",
        "y = c14\n",
        "\n",
        "correlation_coefficient, p_value = kendalltau(x, y)\n",
        "\n",
        "alpha = 0.1\n",
        "if p_value < alpha:\n",
        "    print(f\"Коэффициент корреляции {correlation_coefficient} pvalue {p_value} значим на уровне {alpha}\")\n",
        "else:\n",
        "    print(f\"Коэффициент корреляции {correlation_coefficient} pvalue {p_value} не является значимым на уровне {alpha}\")\n"
      ],
      "metadata": {
        "colab": {
          "base_uri": "https://localhost:8080/"
        },
        "id": "YdJpjcdoakZk",
        "outputId": "51c58816-464f-4dd2-fef8-9b124f0429a7"
      },
      "execution_count": 61,
      "outputs": [
        {
          "output_type": "stream",
          "name": "stdout",
          "text": [
            "Коэффициент корреляции 0.0857942303995992 pvalue 0.02343985266111216 значим на уровне 0.1\n"
          ]
        }
      ]
    },
    {
      "cell_type": "code",
      "source": [
        "# а) Рассчитать матрицу ранговых коэффициентов корреляции по Кендаллу\n",
        "\n",
        "from scipy.stats import kendalltau\n",
        "import numpy as np\n",
        "\n",
        "print(\"C6, c7:\", kendalltau(c6, c7))\n",
        "print(\"C6, c8:\", kendalltau(c6, c8))\n",
        "print(\"C7, c8:\", kendalltau(c7, c8))\n"
      ],
      "metadata": {
        "colab": {
          "base_uri": "https://localhost:8080/"
        },
        "id": "kaTX4NbQcVgJ",
        "outputId": "7f33bd04-5f6b-4fc0-9030-48af80edff8d"
      },
      "execution_count": 67,
      "outputs": [
        {
          "output_type": "stream",
          "name": "stdout",
          "text": [
            "C6, c7: SignificanceResult(statistic=0.7189893498217673, pvalue=1.0366799713773913e-80)\n",
            "C6, c8: SignificanceResult(statistic=0.3927045363921576, pvalue=3.524126469362575e-25)\n",
            "C7, c8: SignificanceResult(statistic=0.21622621725714256, pvalue=1.1599307874398759e-08)\n"
          ]
        }
      ]
    },
    {
      "cell_type": "code",
      "source": [
        "from scipy.stats import chi2\n",
        "\n",
        "# статистика Хи-квадрат\n",
        "chi2_stat = 416.9292\n",
        "\n",
        "degrees_of_freedom = 31\n",
        "\n",
        "alpha = 0.05\n",
        "\n",
        "\n",
        "p_value = 1 - chi2.cdf(chi2_stat, degrees_of_freedom)\n",
        "\n",
        "if p_value < alpha:\n",
        "    print(f\"Отклоняем нулевую гипотезу. p-value: {p_value}\")\n",
        "else:\n",
        "    print(f\"Не отклоняем нулевую гипотезу. p-value: {p_value}\")\n"
      ],
      "metadata": {
        "colab": {
          "base_uri": "https://localhost:8080/"
        },
        "id": "4Z9nN8avebY8",
        "outputId": "6cf84e1c-5be9-42a5-8eac-a57d507e725a"
      },
      "execution_count": 83,
      "outputs": [
        {
          "output_type": "stream",
          "name": "stdout",
          "text": [
            "Отклоняем нулевую гипотезу. p-value: 0.0\n"
          ]
        }
      ]
    },
    {
      "cell_type": "markdown",
      "source": [
        "9. Регрессионный анализ"
      ],
      "metadata": {
        "id": "61FC7xHOj5f3"
      }
    },
    {
      "cell_type": "code",
      "source": [
        "# а) Рассчитать точечные оценки параметров линейной регрессионной модели\n",
        "import statsmodels.api as sm\n",
        "import numpy as np\n",
        "\n",
        "X = c6\n",
        "Y = c13\n",
        "\n",
        "# Добавляем столбец единиц для свободного члена\n",
        "X = sm.add_constant(X)\n",
        "\n",
        "model = sm.OLS(Y, X)\n",
        "\n",
        "# Обучаем модель\n",
        "results = model.fit()\n",
        "\n",
        "print(\"Коэффициенты регрессии:\")\n",
        "print(f\"b0 (свободный член): {results.params[0]}\")\n",
        "print(f\"b1 (коэффициент для X): {results.params[1]}\")\n"
      ],
      "metadata": {
        "colab": {
          "base_uri": "https://localhost:8080/"
        },
        "id": "JUjsX1lXj5P0",
        "outputId": "fd0e34f8-7bf1-4baf-a7a0-8627132e0557"
      },
      "execution_count": 85,
      "outputs": [
        {
          "output_type": "stream",
          "name": "stdout",
          "text": [
            "Коэффициенты регрессии:\n",
            "b0 (свободный член): 200.62394547490564\n",
            "b1 (коэффициент для X): -0.005973258278958718\n"
          ]
        }
      ]
    },
    {
      "cell_type": "code",
      "source": [
        "# Рассчитать показатели вариации, используемые в регрессионном анализе\n",
        "import statsmodels.api as sm\n",
        "import numpy as np\n",
        "\n",
        "X = c6\n",
        "Y = c13\n",
        "\n",
        "X = sm.add_constant(X)\n",
        "\n",
        "model = sm.OLS(Y, X)\n",
        "\n",
        "results = model.fit()\n",
        "\n",
        "# Вычисляем показатели вариации\n",
        "total_sum_of_squares = np.sum((Y - np.mean(Y))**2)\n",
        "explained_sum_of_squares = np.sum((results.predict(X) - np.mean(Y))**2)\n",
        "residual_sum_of_squares = np.sum((results.resid)**2)\n",
        "\n",
        "print(f\"Общая сумма квадратов (Dобщ): {total_sum_of_squares}\")\n",
        "print(f\"Внутригрупповая сумма квадратов (Dрегр): {explained_sum_of_squares}\")\n",
        "print(f\"Межгрупповая сумма квадратов (Dост): {residual_sum_of_squares}\")\n"
      ],
      "metadata": {
        "colab": {
          "base_uri": "https://localhost:8080/"
        },
        "id": "6XVVEN-XnUj7",
        "outputId": "d135e07f-347d-4d7b-f8ed-7103c6b4ae7a"
      },
      "execution_count": 86,
      "outputs": [
        {
          "output_type": "stream",
          "name": "stdout",
          "text": [
            "Общая сумма квадратов (Dобщ): 10515638.330158731\n",
            "Внутригрупповая сумма квадратов (Dрегр): 5185.7758255189965\n",
            "Межгрупповая сумма квадратов (Dост): 10510452.55433321\n"
          ]
        }
      ]
    },
    {
      "cell_type": "code",
      "source": [
        "# б) Рассчитать доверительные интервалы для параметров линейной регрессионной модели\n",
        "import statsmodels.api as sm\n",
        "import numpy as np\n",
        "\n",
        "X = c6\n",
        "Y = c13\n",
        "\n",
        "X = sm.add_constant(X)\n",
        "\n",
        "model = sm.OLS(Y, X)\n",
        "\n",
        "results = model.fit()\n",
        "\n",
        "\n",
        "# Рассчитываем доверительные интервалы для параметров\n",
        "confidence_intervals = results.conf_int(alpha=0.01)\n",
        "\n",
        "print(\"\\nДоверительные интервалы:\")\n",
        "print(f\"Доверительный интервал для b0 (свободный член): {confidence_intervals.iloc[0]}\")\n",
        "print(f\"Доверительный интервал для b1 (коэффициент для X): {confidence_intervals.iloc[1]}\")\n",
        "\n",
        "\n",
        "confidence_intervals = results.conf_int(alpha=0.05)\n",
        "\n",
        "print(\"\\nДоверительные интервалы:\")\n",
        "print(f\"Доверительный интервал для b0 (свободный член): {confidence_intervals.iloc[0]}\")\n",
        "print(f\"Доверительный интервал для b1 (коэффициент для X): {confidence_intervals.iloc[1]}\")\n",
        "\n",
        "confidence_intervals = results.conf_int(alpha=0.1)\n",
        "\n",
        "print(\"\\nДоверительные интервалы:\")\n",
        "print(f\"Доверительный интервал для b0 (свободный член): {confidence_intervals.iloc[0]}\")\n",
        "print(f\"Доверительный интервал для b1 (коэффициент для X): {confidence_intervals.iloc[1]}\")"
      ],
      "metadata": {
        "colab": {
          "base_uri": "https://localhost:8080/"
        },
        "id": "IAvXzl97qXC4",
        "outputId": "e68fee9a-e305-4735-8081-27630a31edaf"
      },
      "execution_count": 89,
      "outputs": [
        {
          "output_type": "stream",
          "name": "stdout",
          "text": [
            "\n",
            "Доверительные интервалы:\n",
            "Доверительный интервал для b0 (свободный член): 0    124.959520\n",
            "1    276.288371\n",
            "Name: const, dtype: float64\n",
            "Доверительный интервал для b1 (коэффициент для X): 0   -0.045366\n",
            "1    0.033419\n",
            "Name: C6, dtype: float64\n",
            "\n",
            "Доверительные интервалы:\n",
            "Доверительный интервал для b0 (свободный член): 0    143.179272\n",
            "1    258.068619\n",
            "Name: const, dtype: float64\n",
            "Доверительный интервал для b1 (коэффициент для X): 0   -0.035880\n",
            "1    0.023934\n",
            "Name: C6, dtype: float64\n",
            "\n",
            "Доверительные интервалы:\n",
            "Доверительный интервал для b0 (свободный член): 0    152.458710\n",
            "1    248.789181\n",
            "Name: const, dtype: float64\n",
            "Доверительный интервал для b1 (коэффициент для X): 0   -0.031049\n",
            "1    0.019103\n",
            "Name: C6, dtype: float64\n"
          ]
        }
      ]
    },
    {
      "cell_type": "code",
      "source": [
        "# г) Построить диаграмму рассеяния признаков x и y. Нанести на диаграмму функцию регрессии f(x), а также нижние и верхние границы линии регрессии flow(x) и fhigh(x) на уровне значимости a = 0.1\n",
        "\n",
        "import matplotlib.pyplot as plt\n",
        "import statsmodels.api as sm\n",
        "import numpy as np\n",
        "\n",
        "X = np.array(c6)\n",
        "Y = np.array(c13)\n",
        "\n",
        "\n",
        "# Добавляем столбец единиц для свободного члена\n",
        "X = sm.add_constant(X)\n",
        "\n",
        "model = sm.OLS(Y, X)\n",
        "\n",
        "results = model.fit()\n",
        "\n",
        "# Рассчитываем доверительные интервалы для параметров\n",
        "confidence_intervals = results.conf_int(alpha=0.1)\n",
        "\n",
        "X_range = np.linspace(np.min(X[:, 1]), np.max(X[:, 1]), 100)\n",
        "\n",
        "# Вычисляем значения линии регрессии и доверительных интервалов\n",
        "Y_pred = results.predict(sm.add_constant(X_range))\n",
        "lower_bound = results.get_prediction(sm.add_constant(X_range)).conf_int()[:, 0]\n",
        "upper_bound = results.get_prediction(sm.add_constant(X_range)).conf_int()[:, 1]\n",
        "\n",
        "# Строим диаграмму рассеяния\n",
        "plt.scatter(X[:, 1], Y, label='Наблюдаемые значения')\n",
        "\n",
        "# Строим линию регрессии\n",
        "plt.plot(X_range, Y_pred, color='black', label='Линия регрессии')\n",
        "\n",
        "# Строим доверительные интервалы\n",
        "plt.plot(X_range, lower_bound, '--', color='red', label='Доверительный интервал (нижняя граница)')\n",
        "plt.plot(X_range, upper_bound, '--', color='red', label='Доверительный интервал (верхняя граница)')\n",
        "\n",
        "plt.title('Диаграмма рассеяния с линией регрессии и доверительными интервалами')\n",
        "plt.xlabel('X')\n",
        "plt.ylabel('Y')\n",
        "plt.legend()\n",
        "\n",
        "plt.show()\n"
      ],
      "metadata": {
        "colab": {
          "base_uri": "https://localhost:8080/",
          "height": 472
        },
        "id": "I7Njtraerd-J",
        "outputId": "bd365041-f69e-472b-a322-54f27fc6a4c3"
      },
      "execution_count": 98,
      "outputs": [
        {
          "output_type": "display_data",
          "data": {
            "text/plain": [
              "<Figure size 640x480 with 1 Axes>"
            ],
            "image/png": "[encoded data removed]"
          },
          "metadata": {}
        }
      ]
    },
    {
      "cell_type": "code",
      "source": [
        "# д) Построить график остатков\n",
        "import matplotlib.pyplot as plt\n",
        "import statsmodels.api as sm\n",
        "import numpy as np\n",
        "\n",
        "X = np.array(c6)\n",
        "Y = np.array(c13)\n",
        "\n",
        "# Добавляем столбец единиц для свободного члена\n",
        "X = sm.add_constant(X)\n",
        "\n",
        "model = sm.OLS(Y, X)\n",
        "\n",
        "results = model.fit()\n",
        "\n",
        "confidence_intervals = results.conf_int(alpha=0.1)\n",
        "\n",
        "X_range = np.linspace(np.min(X[:, 1]), np.max(X[:, 1]), 100)\n",
        "\n",
        "Y_pred = results.predict(sm.add_constant(X_range))\n",
        "lower_bound = results.get_prediction(sm.add_constant(X_range)).conf_int()[:, 0]\n",
        "upper_bound = results.get_prediction(sm.add_constant(X_range)).conf_int()[:, 1]\n",
        "\n",
        "# Вычисляем остатки\n",
        "residuals = Y - results.predict(X)\n",
        "\n",
        "# Строим диаграмму рассеяния\n",
        "plt.scatter(X[:, 1], residuals, label='Остатки')\n",
        "\n",
        "plt.axhline(y=0, color='black', linestyle='--', label='Нулевая линия')\n",
        "plt.title('График остатков')\n",
        "plt.xlabel('X')\n",
        "plt.ylabel('Остатки')\n",
        "plt.legend()\n",
        "\n",
        "plt.show()\n"
      ],
      "metadata": {
        "colab": {
          "base_uri": "https://localhost:8080/",
          "height": 472
        },
        "id": "oOpd9poJspkS",
        "outputId": "1253b15c-0848-4fd3-924d-f3b3749f1cd9"
      },
      "execution_count": 99,
      "outputs": [
        {
          "output_type": "display_data",
          "data": {
            "text/plain": [
              "<Figure size 640x480 with 1 Axes>"
            ],
            "image/png": "[encoded data removed]"
          },
          "metadata": {}
        }
      ]
    },
    {
      "cell_type": "code",
      "source": [
        "import statsmodels.api as sm\n",
        "import numpy as np\n",
        "\n",
        "X = np.array(c6)\n",
        "Y = np.array(c13)\n",
        "\n",
        "X = sm.add_constant(X)\n",
        "\n",
        "model = sm.OLS(Y, X)\n",
        "\n",
        "results = model.fit()\n",
        "\n",
        "# F-тест\n",
        "f_statistic = results.fvalue\n",
        "p_value = results.f_pvalue\n",
        "\n",
        "print(f\"F-статистика: {f_statistic}\")\n",
        "print(f\"P-значение: {p_value}\")\n",
        "\n",
        "alpha = 0.05\n",
        "if p_value < alpha:\n",
        "    print(\"Модель является статистически значимой.\")\n",
        "else:\n",
        "    print(\"Модель не является статистически значимой.\")\n"
      ],
      "metadata": {
        "colab": {
          "base_uri": "https://localhost:8080/"
        },
        "id": "jt1TLlkcuDX4",
        "outputId": "75f75b32-1211-4497-fb42-4f535fed35db"
      },
      "execution_count": 100,
      "outputs": [
        {
          "output_type": "stream",
          "name": "stdout",
          "text": [
            "F-статистика: 0.15443177398854063\n",
            "P-значение: 0.6946031791352179\n",
            "Модель не является статистически значимой.\n"
          ]
        }
      ]
    },
    {
      "cell_type": "code",
      "source": [
        "# 9.2.1. Точечные оценки линейной регрессионной модели\n",
        "# а) Рассчитать точечные оценки параметров линейной регрессионной модели\n",
        "\n",
        "import statsmodels.api as sm\n",
        "import numpy as np\n",
        "\n",
        "X = np.array(c6)\n",
        "Y = np.array(c13)\n",
        "\n",
        "# Создаем матрицу X с добавлением квадратичного члена\n",
        "X_quad = np.column_stack((X, X**2))\n",
        "\n",
        "# Добавляем столбец единиц для свободного члена\n",
        "X_quad = sm.add_constant(X_quad)\n",
        "\n",
        "model_quad = sm.OLS(Y, X_quad)\n",
        "\n",
        "results_quad = model_quad.fit()\n",
        "\n",
        "print(\"Оценки параметров:\")\n",
        "print(f\"b0 (свободный член): {results_quad.params[0]}\")\n",
        "print(f\"b1 (коэффициент для X): {results_quad.params[1]}\")\n",
        "print(f\"b2 (коэффициент для X^2): {results_quad.params[2]}\")\n"
      ],
      "metadata": {
        "colab": {
          "base_uri": "https://localhost:8080/"
        },
        "id": "fQOs9jCq5PrY",
        "outputId": "5ec16faa-dfcb-462b-8538-da7850b554ee"
      },
      "execution_count": 118,
      "outputs": [
        {
          "output_type": "stream",
          "name": "stdout",
          "text": [
            "Оценки параметров:\n",
            "b0 (свободный член): 156.53132228116388\n",
            "b1 (коэффициент для X): 0.03707102182232326\n",
            "b2 (коэффициент для X^2): -9.010501022111301e-06\n"
          ]
        }
      ]
    },
    {
      "cell_type": "code",
      "source": [],
      "metadata": {
        "colab": {
          "base_uri": "https://localhost:8080/",
          "height": 391
        },
        "id": "96Aw6ZkfAokq",
        "outputId": "1b7cb395-d9ca-4bd3-eb7f-879830a64f5d"
      },
      "execution_count": 119,
      "outputs": [
        {
          "output_type": "error",
          "ename": "LinAlgError",
          "evalue": "ignored",
          "traceback": [
            "\u001b[0;31m---------------------------------------------------------------------------\u001b[0m",
            "\u001b[0;31mLinAlgError\u001b[0m                               Traceback (most recent call last)",
            "\u001b[0;32m<ipython-input-119-77662f72b91c>\u001b[0m in \u001b[0;36m<cell line: 20>\u001b[0;34m()\u001b[0m\n\u001b[1;32m     18\u001b[0m \u001b[0mt_critical\u001b[0m \u001b[0;34m=\u001b[0m \u001b[0mt\u001b[0m\u001b[0;34m.\u001b[0m\u001b[0mppf\u001b[0m\u001b[0;34m(\u001b[0m\u001b[0;36m1\u001b[0m \u001b[0;34m-\u001b[0m \u001b[0malpha\u001b[0m \u001b[0;34m/\u001b[0m \u001b[0;36m2\u001b[0m\u001b[0;34m,\u001b[0m \u001b[0mdf\u001b[0m\u001b[0;34m)\u001b[0m\u001b[0;34m\u001b[0m\u001b[0;34m\u001b[0m\u001b[0m\n\u001b[1;32m     19\u001b[0m \u001b[0;34m\u001b[0m\u001b[0m\n\u001b[0;32m---> 20\u001b[0;31m \u001b[0mstd_err\u001b[0m \u001b[0;34m=\u001b[0m \u001b[0mnp\u001b[0m\u001b[0;34m.\u001b[0m\u001b[0msqrt\u001b[0m\u001b[0;34m(\u001b[0m\u001b[0mnp\u001b[0m\u001b[0;34m.\u001b[0m\u001b[0mdiag\u001b[0m\u001b[0;34m(\u001b[0m\u001b[0mnp\u001b[0m\u001b[0;34m.\u001b[0m\u001b[0mlinalg\u001b[0m\u001b[0;34m.\u001b[0m\u001b[0minv\u001b[0m\u001b[0;34m(\u001b[0m\u001b[0mnp\u001b[0m\u001b[0;34m.\u001b[0m\u001b[0mvander\u001b[0m\u001b[0;34m(\u001b[0m\u001b[0mx\u001b[0m\u001b[0;34m,\u001b[0m \u001b[0;36m3\u001b[0m\u001b[0;34m)\u001b[0m\u001b[0;34m)\u001b[0m\u001b[0;34m)\u001b[0m\u001b[0;34m)\u001b[0m \u001b[0;34m*\u001b[0m \u001b[0mnp\u001b[0m\u001b[0;34m.\u001b[0m\u001b[0mstd\u001b[0m\u001b[0;34m(\u001b[0m\u001b[0my\u001b[0m\u001b[0;34m,\u001b[0m \u001b[0mddof\u001b[0m\u001b[0;34m=\u001b[0m\u001b[0;36m3\u001b[0m\u001b[0;34m)\u001b[0m\u001b[0;34m\u001b[0m\u001b[0;34m\u001b[0m\u001b[0m\n\u001b[0m\u001b[1;32m     21\u001b[0m \u001b[0mmargin_error\u001b[0m \u001b[0;34m=\u001b[0m \u001b[0mt_critical\u001b[0m \u001b[0;34m*\u001b[0m \u001b[0mstd_err\u001b[0m\u001b[0;34m\u001b[0m\u001b[0;34m\u001b[0m\u001b[0m\n\u001b[1;32m     22\u001b[0m \u001b[0;34m\u001b[0m\u001b[0m\n",
            "\u001b[0;32m/usr/local/lib/python3.10/dist-packages/numpy/core/overrides.py\u001b[0m in \u001b[0;36minv\u001b[0;34m(*args, **kwargs)\u001b[0m\n",
            "\u001b[0;32m/usr/local/lib/python3.10/dist-packages/numpy/linalg/linalg.py\u001b[0m in \u001b[0;36minv\u001b[0;34m(a)\u001b[0m\n\u001b[1;32m    545\u001b[0m     \u001b[0ma\u001b[0m\u001b[0;34m,\u001b[0m \u001b[0mwrap\u001b[0m \u001b[0;34m=\u001b[0m \u001b[0m_makearray\u001b[0m\u001b[0;34m(\u001b[0m\u001b[0ma\u001b[0m\u001b[0;34m)\u001b[0m\u001b[0;34m\u001b[0m\u001b[0;34m\u001b[0m\u001b[0m\n\u001b[1;32m    546\u001b[0m     \u001b[0m_assert_stacked_2d\u001b[0m\u001b[0;34m(\u001b[0m\u001b[0ma\u001b[0m\u001b[0;34m)\u001b[0m\u001b[0;34m\u001b[0m\u001b[0;34m\u001b[0m\u001b[0m\n\u001b[0;32m--> 547\u001b[0;31m     \u001b[0m_assert_stacked_square\u001b[0m\u001b[0;34m(\u001b[0m\u001b[0ma\u001b[0m\u001b[0;34m)\u001b[0m\u001b[0;34m\u001b[0m\u001b[0;34m\u001b[0m\u001b[0m\n\u001b[0m\u001b[1;32m    548\u001b[0m     \u001b[0mt\u001b[0m\u001b[0;34m,\u001b[0m \u001b[0mresult_t\u001b[0m \u001b[0;34m=\u001b[0m \u001b[0m_commonType\u001b[0m\u001b[0;34m(\u001b[0m\u001b[0ma\u001b[0m\u001b[0;34m)\u001b[0m\u001b[0;34m\u001b[0m\u001b[0;34m\u001b[0m\u001b[0m\n\u001b[1;32m    549\u001b[0m \u001b[0;34m\u001b[0m\u001b[0m\n",
            "\u001b[0;32m/usr/local/lib/python3.10/dist-packages/numpy/linalg/linalg.py\u001b[0m in \u001b[0;36m_assert_stacked_square\u001b[0;34m(*arrays)\u001b[0m\n\u001b[1;32m    202\u001b[0m         \u001b[0mm\u001b[0m\u001b[0;34m,\u001b[0m \u001b[0mn\u001b[0m \u001b[0;34m=\u001b[0m \u001b[0ma\u001b[0m\u001b[0;34m.\u001b[0m\u001b[0mshape\u001b[0m\u001b[0;34m[\u001b[0m\u001b[0;34m-\u001b[0m\u001b[0;36m2\u001b[0m\u001b[0;34m:\u001b[0m\u001b[0;34m]\u001b[0m\u001b[0;34m\u001b[0m\u001b[0;34m\u001b[0m\u001b[0m\n\u001b[1;32m    203\u001b[0m         \u001b[0;32mif\u001b[0m \u001b[0mm\u001b[0m \u001b[0;34m!=\u001b[0m \u001b[0mn\u001b[0m\u001b[0;34m:\u001b[0m\u001b[0;34m\u001b[0m\u001b[0;34m\u001b[0m\u001b[0m\n\u001b[0;32m--> 204\u001b[0;31m             \u001b[0;32mraise\u001b[0m \u001b[0mLinAlgError\u001b[0m\u001b[0;34m(\u001b[0m\u001b[0;34m'Last 2 dimensions of the array must be square'\u001b[0m\u001b[0;34m)\u001b[0m\u001b[0;34m\u001b[0m\u001b[0;34m\u001b[0m\u001b[0m\n\u001b[0m\u001b[1;32m    205\u001b[0m \u001b[0;34m\u001b[0m\u001b[0m\n\u001b[1;32m    206\u001b[0m \u001b[0;32mdef\u001b[0m \u001b[0m_assert_finite\u001b[0m\u001b[0;34m(\u001b[0m\u001b[0;34m*\u001b[0m\u001b[0marrays\u001b[0m\u001b[0;34m)\u001b[0m\u001b[0;34m:\u001b[0m\u001b[0;34m\u001b[0m\u001b[0;34m\u001b[0m\u001b[0m\n",
            "\u001b[0;31mLinAlgError\u001b[0m: Last 2 dimensions of the array must be square"
          ]
        }
      ]
    },
    {
      "cell_type": "code",
      "source": [
        "# в) Рассчитать показатели вариации, используемые в регрессионном анализе\n",
        "import statsmodels.api as sm\n",
        "import numpy as np\n",
        "\n",
        "X = np.array(c6)\n",
        "Y = np.array(c13)\n",
        "\n",
        "X_quad = np.column_stack((X, X**2))\n",
        "\n",
        "X_quad = sm.add_constant(X_quad)\n",
        "\n",
        "model_quad = sm.OLS(Y, X_quad)\n",
        "\n",
        "results_quad = model_quad.fit()\n",
        "\n",
        "# Рассчитываем показатели вариации\n",
        "total_sum_of_squares = np.sum((Y - np.mean(Y))**2)\n",
        "explained_sum_of_squares = np.sum((results_quad.predict(X_quad) - np.mean(Y))**2)\n",
        "residual_sum_of_squares = np.sum((Y - results_quad.predict(X_quad))**2)\n",
        "\n",
        "print(f\"Общая сумма квадратов (Dобщ): {total_sum_of_squares}\")\n",
        "print(f\"Внутригрупповая сумма квадратов (Dрегр): {explained_sum_of_squares}\")\n",
        "print(f\"Межгрупповая сумма квадратов (Dост): {residual_sum_of_squares}\")\n"
      ],
      "metadata": {
        "colab": {
          "base_uri": "https://localhost:8080/"
        },
        "id": "336mepz46auD",
        "outputId": "5d939c98-bf92-47b5-bf75-467d3356cc09"
      },
      "execution_count": 114,
      "outputs": [
        {
          "output_type": "stream",
          "name": "stdout",
          "text": [
            "Общая сумма квадратов (Dобщ): 10515638.330158731\n",
            "Внутригрупповая сумма квадратов (Dрегр): 42985.22155309037\n",
            "Межгрупповая сумма квадратов (Dост): 10472653.108605767\n"
          ]
        }
      ]
    },
    {
      "cell_type": "code",
      "source": [
        "# б) Построить диаграмму рассеяния признаков x и y. Нанести на диаграмму функцию регрессии f(x), а также нижние и верхние границы линии регрессии flow(x) и fhigh(x) на уровне значимости a = 0.1\n",
        "import numpy as np\n",
        "import matplotlib.pyplot as plt\n",
        "from scipy.stats import t\n",
        "\n",
        "x = np.array(c6)\n",
        "y = np.array(c13)\n",
        "\n",
        "coefficients = np.polyfit(x, y, 2)\n",
        "b2, b1, b0 = coefficients\n",
        "\n",
        "alpha = 0.1\n",
        "df = len(x) - 3\n",
        "\n",
        "t_critical = t.ppf(1 - alpha / 2, df)\n",
        "\n",
        "X = np.vander(x, 3)\n",
        "\n",
        "# Вычисление остатков\n",
        "residuals = y - np.dot(X, coefficients)\n",
        "\n",
        "MSE = np.sum(residuals**2) / (len(x) - 3)\n",
        "\n",
        "# Стандартные ошибки коэффициентов\n",
        "se = np.sqrt(np.diagonal(MSE * np.linalg.inv(np.dot(X.T, X))))\n",
        "\n",
        "x_range = np.linspace(min(x), max(x), 100).reshape(-1, 1)\n",
        "X_range = np.vander(x_range.flatten(), 3)\n",
        "\n",
        "# Построение графика регрессии и интервалов\n",
        "y_regression = np.dot(X_range, coefficients)\n",
        "y_low = np.dot(X_range, coefficients - t_critical * se)\n",
        "y_high = np.dot(X_range, coefficients + t_critical * se)\n",
        "\n",
        "plt.scatter(x, y, label='Данные')\n",
        "\n",
        "plt.plot(x_range, y_regression, label='f(x) = {:.2f} + {:.2f}x + {:.2f}x^2'.format(b0, b1, b2), color='red')\n",
        "plt.fill_between(x_range.flatten(), y_low, y_high, color='pink', alpha=0.3, label='Доверительный интервал')\n",
        "\n",
        "plt.title('Диаграмма рассеяния и регрессии с интервалом')\n",
        "plt.xlabel('x')\n",
        "plt.ylabel('y')\n",
        "plt.legend()\n",
        "plt.grid(True)\n",
        "plt.show()\n"
      ],
      "metadata": {
        "colab": {
          "base_uri": "https://localhost:8080/",
          "height": 472
        },
        "id": "zKTc8ymUAuYH",
        "outputId": "05c94fb4-bdc4-4cdf-f0eb-184fdaa43d67"
      },
      "execution_count": 124,
      "outputs": [
        {
          "output_type": "display_data",
          "data": {
            "text/plain": [
              "<Figure size 640x480 with 1 Axes>"
            ],
            "image/png": "[encoded data removed]"
          },
          "metadata": {}
        }
      ]
    },
    {
      "cell_type": "code",
      "source": [
        "# в) Построить график остатков\n",
        "import numpy as np\n",
        "import matplotlib.pyplot as plt\n",
        "\n",
        "x = np.array(c6)\n",
        "y = np.array(c13)\n",
        "\n",
        "coefficients = np.polyfit(x, y, 2)\n",
        "b2, b1, b0 = coefficients\n",
        "\n",
        "x_range = np.linspace(min(x), max(x), 100)\n",
        "y_regression = b0 + b1 * x_range + b2 * x_range**2\n",
        "\n",
        "residuals = y - (b0 + b1 * x + b2 * x**2)\n",
        "\n",
        "plt.scatter(x, residuals, label='Остатки')\n",
        "plt.axhline(y=0, color='red', linestyle='--', label='Нулевая линия')\n",
        "\n",
        "plt.title('График остатков')\n",
        "plt.xlabel('x')\n",
        "plt.ylabel('Остатки')\n",
        "plt.legend()\n",
        "plt.grid(True)\n",
        "plt.show()\n"
      ],
      "metadata": {
        "colab": {
          "base_uri": "https://localhost:8080/",
          "height": 472
        },
        "id": "ahGzRLuABzp7",
        "outputId": "68555f7a-2f7e-451b-d9b3-fbc607e44dd2"
      },
      "execution_count": 125,
      "outputs": [
        {
          "output_type": "display_data",
          "data": {
            "text/plain": [
              "<Figure size 640x480 with 1 Axes>"
            ],
            "image/png": "[encoded data removed]"
          },
          "metadata": {}
        }
      ]
    },
    {
      "cell_type": "code",
      "source": [
        "# б) Проверить значимость линейной регрессионной модели\n",
        "import numpy as np\n",
        "import statsmodels.api as sm\n",
        "\n",
        "x = np.array(c6)\n",
        "y = np.array(c13)\n",
        "\n",
        "# Добавляем столбец с квадратом x и константой для модели\n",
        "X = sm.add_constant(np.column_stack((x, x**2)))\n",
        "\n",
        "model = sm.OLS(y, X).fit()\n",
        "\n",
        "\n",
        "\n",
        "print(f\"\\nСтатистика F: {model.fvalue}\")\n",
        "print(f\"P-значение: {model.f_pvalue}\")\n",
        "\n",
        "alpha = 0.05\n",
        "if model.f_pvalue < alpha:\n",
        "    print(\"\\nОтвергаем нулевую гипотезу. Модель статистически значима.\")\n",
        "else:\n",
        "    print(\"\\nПринимаем нулевую гипотезу. Модель не является статистически значимой.\")\n"
      ],
      "metadata": {
        "colab": {
          "base_uri": "https://localhost:8080/"
        },
        "id": "-tf6ceSLDTEA",
        "outputId": "0cb36dce-fac3-48bf-bec8-374e03994aad"
      },
      "execution_count": 127,
      "outputs": [
        {
          "output_type": "stream",
          "name": "stdout",
          "text": [
            "\n",
            "Статистика F: 0.6403052304627672\n",
            "P-значение: 0.5278227554063367\n",
            "\n",
            "Принимаем нулевую гипотезу. Модель не является статистически значимой.\n"
          ]
        }
      ]
    },
    {
      "cell_type": "code",
      "source": [
        "# 9.3 Множественная линейная регрессионная модель\n",
        "# а) Рассчитать точечные оценки параметров линейной регрессионной модели\n",
        "import numpy as np\n",
        "\n",
        "x1 = c6\n",
        "x2 = c4\n",
        "y = c13\n",
        "\n",
        "X = np.column_stack((np.ones_like(x1), x1, x2))\n",
        "\n",
        "coefficients = np.linalg.lstsq(X, y, rcond=None)[0]\n",
        "\n",
        "b0, b1, b2 = coefficients\n",
        "print(\"Оценка b0 (пересечение):\", b0)\n",
        "print(\"Оценка b1 (коэффициент x1):\", b1)\n",
        "print(\"Оценка b2 (коэффициент x2):\", b2)\n"
      ],
      "metadata": {
        "colab": {
          "base_uri": "https://localhost:8080/"
        },
        "id": "jRRgPaEPFGrQ",
        "outputId": "a3e4a160-57e7-4c59-a7b3-f1790a2b2766"
      },
      "execution_count": 129,
      "outputs": [
        {
          "output_type": "stream",
          "name": "stdout",
          "text": [
            "Оценка b0 (пересечение): 382.76666672622366\n",
            "Оценка b1 (коэффициент x1): -0.005755712896812315\n",
            "Оценка b2 (коэффициент x2): -6.978283771396276\n"
          ]
        }
      ]
    },
    {
      "cell_type": "code",
      "source": [
        "# в) Рассчитать показатели вариации, используемые в регрессионном анализе\n",
        "import numpy as np\n",
        "import statsmodels.api as sm\n",
        "\n",
        "x1 = c6\n",
        "x2 = c4\n",
        "y = c13\n",
        "\n",
        "\n",
        "X = sm.add_constant(np.column_stack((x1, x2)))\n",
        "\n",
        "model = sm.OLS(y, X).fit()\n",
        "\n",
        "\n",
        "# Вычисляем показатели вариации\n",
        "SST = np.sum((y - np.mean(y))**2)\n",
        "SSR = np.sum((model.predict(X) - np.mean(y))**2)\n",
        "SSE = np.sum((y - model.predict(X))**2)\n",
        "\n",
        "\n",
        "print(\"\\nПоказатели вариации:\")\n",
        "print(\"Общая сумма квадратов (SST):\", SST)\n",
        "print(\"Объясненная сумма квадратов (SSR):\", SSR)\n",
        "print(\"Остаточная сумма квадратов (SSE):\", SSE)\n",
        "\n"
      ],
      "metadata": {
        "colab": {
          "base_uri": "https://localhost:8080/"
        },
        "id": "SEJWGCUcFvnq",
        "outputId": "b0ac1e18-6b5f-4428-842b-2de98acd21ba"
      },
      "execution_count": 134,
      "outputs": [
        {
          "output_type": "stream",
          "name": "stdout",
          "text": [
            "\n",
            "Показатели вариации:\n",
            "Общая сумма квадратов (SST): 10515638.330158731\n",
            "Объясненная сумма квадратов (SSR): 558132.6506215389\n",
            "Остаточная сумма квадратов (SSE): 9957505.67953719\n"
          ]
        }
      ]
    }
  ]
}